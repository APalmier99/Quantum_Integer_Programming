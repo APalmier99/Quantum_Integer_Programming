{
  "nbformat": 4,
  "nbformat_minor": 0,
  "metadata": {
    "colab": {
      "provenance": [],
      "collapsed_sections": [
        "0EzVPNcc2z4a",
        "WcDaewWLT_5p",
        "1odMfoAe2316",
        "ynfpjho1TDQ4",
        "cFTRl89FvOc3",
        "RxL0ZLVXGCkS",
        "8dMeAlRlfCsl",
        "eVngP09lo4VB",
        "ZncmZpdE3W7f",
        "jWAWcSd99J2i",
        "st6HXJDXTFzK",
        "ui7YxoZfTJ3i",
        "5GAY33nLTRe1",
        "ARv-ITxH3BRW",
        "ZgLVN3C8ef17",
        "YXY5O8zNR3e2",
        "phVmRrYb1W6t",
        "-eGr-OgQ1bFS",
        "AMLDhZlH2_eL",
        "ClDyMvak3WKY",
        "9HOh7lP06fQN",
        "7awFsqQoakWv",
        "RVZT0NQtTkej",
        "iECTCpbh__f7",
        "AjUb1VBQvBzU",
        "XXalrO0F7Nbg",
        "LttcQ5dwO6jZ",
        "PuKQe1OxP86k",
        "vUjfoZC-QAtq",
        "6GQIO5DNYaRj",
        "iCExJgfBgpdO",
        "Yy8nqDscQEXe",
        "8njWiyf1QMR_",
        "BT01LugMQQlZ",
        "cSDfbhFMvp_u",
        "4wRyd4C3vzgD",
        "fkWXiYB0yQOA",
        "suaJeA4IyQOe",
        "Fbfqj2tayQOg",
        "nFdoPZqtyQOi",
        "WHqIq8_DyQOk",
        "uOF_JFxQyQOo",
        "pgztShcn3y7z",
        "XKBtjMrw3y8F",
        "5EmXP_8x3y8H",
        "W8sOSmvU3y8K",
        "nf7Fhsv83y8P",
        "FEhrGxmFBWR8",
        "Tzhf9M9eBWR9",
        "DH5R78tSBWR_",
        "xWPlUkivBWSB",
        "J1orwLZeBWSC",
        "3Zsgbn2RBWSH",
        "JLzUp7fqBWSL",
        "Jn4Xn3wlBWSP",
        "F3UcIChoVobj",
        "ZOelJmhnVobl",
        "hUPd6i8kVobo",
        "hI4WXWYeVob1",
        "QBMu4ofCVocB"
      ]
    },
    "kernelspec": {
      "name": "python3",
      "display_name": "Python 3"
    },
    "language_info": {
      "name": "python"
    }
  },
  "cells": [
    {
      "cell_type": "markdown",
      "source": [
        "# Import needed libraries"
      ],
      "metadata": {
        "id": "0EzVPNcc2z4a"
      }
    },
    {
      "cell_type": "code",
      "source": [
        "!pip install gurobipy --upgrade\n",
        "!pip install pyqubo --upgrade\n",
        "!pip install dwave-ocean-sdk"
      ],
      "metadata": {
        "colab": {
          "base_uri": "https://localhost:8080/"
        },
        "id": "z8v-57rKsQTF",
        "outputId": "f6c5e36c-1673-4882-c953-c98cc004eee0"
      },
      "execution_count": 1,
      "outputs": [
        {
          "output_type": "stream",
          "name": "stdout",
          "text": [
            "Collecting gurobipy\n",
            "  Downloading gurobipy-10.0.2-cp310-cp310-manylinux2014_x86_64.whl (12.7 MB)\n",
            "\u001b[2K     \u001b[90m━━━━━━━━━━━━━━━━━━━━━━━━━━━━━━━━━━━━━━━━\u001b[0m \u001b[32m12.7/12.7 MB\u001b[0m \u001b[31m24.1 MB/s\u001b[0m eta \u001b[36m0:00:00\u001b[0m\n",
            "\u001b[?25hInstalling collected packages: gurobipy\n",
            "Successfully installed gurobipy-10.0.2\n",
            "Collecting pyqubo\n",
            "  Downloading pyqubo-1.4.0-cp310-cp310-manylinux_2_17_x86_64.manylinux2014_x86_64.whl (245 kB)\n",
            "\u001b[2K     \u001b[90m━━━━━━━━━━━━━━━━━━━━━━━━━━━━━━━━━━━━━\u001b[0m \u001b[32m245.3/245.3 kB\u001b[0m \u001b[31m854.1 kB/s\u001b[0m eta \u001b[36m0:00:00\u001b[0m\n",
            "\u001b[?25hRequirement already satisfied: numpy>=1.17.3 in /usr/local/lib/python3.10/dist-packages (from pyqubo) (1.22.4)\n",
            "Collecting dimod<0.13,>=0.9.14 (from pyqubo)\n",
            "  Downloading dimod-0.12.10-cp310-cp310-manylinux_2_17_x86_64.manylinux2014_x86_64.whl (16.0 MB)\n",
            "\u001b[2K     \u001b[90m━━━━━━━━━━━━━━━━━━━━━━━━━━━━━━━━━━━━━━━━\u001b[0m \u001b[32m16.0/16.0 MB\u001b[0m \u001b[31m22.0 MB/s\u001b[0m eta \u001b[36m0:00:00\u001b[0m\n",
            "\u001b[?25hCollecting dwave-neal>=0.5.7 (from pyqubo)\n",
            "  Downloading dwave_neal-0.6.0-py3-none-any.whl (8.7 kB)\n",
            "Collecting Deprecated>=1.2.12 (from pyqubo)\n",
            "  Downloading Deprecated-1.2.14-py2.py3-none-any.whl (9.6 kB)\n",
            "Requirement already satisfied: six>=1.15.0 in /usr/local/lib/python3.10/dist-packages (from pyqubo) (1.16.0)\n",
            "Requirement already satisfied: wrapt<2,>=1.10 in /usr/local/lib/python3.10/dist-packages (from Deprecated>=1.2.12->pyqubo) (1.14.1)\n",
            "Collecting dwave-samplers<2.0.0,>=1.0.0 (from dwave-neal>=0.5.7->pyqubo)\n",
            "  Downloading dwave_samplers-1.0.0-cp310-cp310-manylinux_2_17_x86_64.manylinux2014_x86_64.whl (6.0 MB)\n",
            "\u001b[2K     \u001b[90m━━━━━━━━━━━━━━━━━━━━━━━━━━━━━━━━━━━━━━━━\u001b[0m \u001b[32m6.0/6.0 MB\u001b[0m \u001b[31m74.0 MB/s\u001b[0m eta \u001b[36m0:00:00\u001b[0m\n",
            "\u001b[?25hRequirement already satisfied: networkx>=2.4.0 in /usr/local/lib/python3.10/dist-packages (from dwave-samplers<2.0.0,>=1.0.0->dwave-neal>=0.5.7->pyqubo) (3.1)\n",
            "Installing collected packages: dimod, Deprecated, dwave-samplers, dwave-neal, pyqubo\n",
            "Successfully installed Deprecated-1.2.14 dimod-0.12.10 dwave-neal-0.6.0 dwave-samplers-1.0.0 pyqubo-1.4.0\n",
            "Collecting dwave-ocean-sdk\n",
            "  Downloading dwave_ocean_sdk-6.4.1-py3-none-any.whl (8.5 kB)\n",
            "Collecting dimod==0.12.6 (from dwave-ocean-sdk)\n",
            "  Downloading dimod-0.12.6-cp310-cp310-manylinux_2_17_x86_64.manylinux2014_x86_64.whl (15.6 MB)\n",
            "\u001b[2K     \u001b[90m━━━━━━━━━━━━━━━━━━━━━━━━━━━━━━━━━━━━━━━━\u001b[0m \u001b[32m15.6/15.6 MB\u001b[0m \u001b[31m32.5 MB/s\u001b[0m eta \u001b[36m0:00:00\u001b[0m\n",
            "\u001b[?25hCollecting dwave-cloud-client==0.10.6 (from dwave-ocean-sdk)\n",
            "  Downloading dwave_cloud_client-0.10.6-py3-none-any.whl (113 kB)\n",
            "\u001b[2K     \u001b[90m━━━━━━━━━━━━━━━━━━━━━━━━━━━━━━━━━━━━━━\u001b[0m \u001b[32m113.4/113.4 kB\u001b[0m \u001b[31m11.8 MB/s\u001b[0m eta \u001b[36m0:00:00\u001b[0m\n",
            "\u001b[?25hCollecting dwave-greedy==0.3.0 (from dwave-ocean-sdk)\n",
            "  Downloading dwave_greedy-0.3.0-py3-none-any.whl (10 kB)\n",
            "Collecting dwave-hybrid==0.6.10 (from dwave-ocean-sdk)\n",
            "  Downloading dwave_hybrid-0.6.10-py3-none-any.whl (74 kB)\n",
            "\u001b[2K     \u001b[90m━━━━━━━━━━━━━━━━━━━━━━━━━━━━━━━━━━━━━━━━\u001b[0m \u001b[32m74.8/74.8 kB\u001b[0m \u001b[31m8.2 MB/s\u001b[0m eta \u001b[36m0:00:00\u001b[0m\n",
            "\u001b[?25hCollecting dwave-inspector==0.4.2 (from dwave-ocean-sdk)\n",
            "  Downloading dwave_inspector-0.4.2-py3-none-any.whl (31 kB)\n",
            "Requirement already satisfied: dwave-neal==0.6.0 in /usr/local/lib/python3.10/dist-packages (from dwave-ocean-sdk) (0.6.0)\n",
            "Collecting dwave-networkx==0.8.14 (from dwave-ocean-sdk)\n",
            "  Downloading dwave_networkx-0.8.14-py3-none-any.whl (102 kB)\n",
            "\u001b[2K     \u001b[90m━━━━━━━━━━━━━━━━━━━━━━━━━━━━━━━━━━━━━━\u001b[0m \u001b[32m102.4/102.4 kB\u001b[0m \u001b[31m11.8 MB/s\u001b[0m eta \u001b[36m0:00:00\u001b[0m\n",
            "\u001b[?25hCollecting dwave-preprocessing==0.5.4 (from dwave-ocean-sdk)\n",
            "  Downloading dwave_preprocessing-0.5.4-cp310-cp310-manylinux_2_17_x86_64.manylinux2014_x86_64.whl (3.6 MB)\n",
            "\u001b[2K     \u001b[90m━━━━━━━━━━━━━━━━━━━━━━━━━━━━━━━━━━━━━━━━\u001b[0m \u001b[32m3.6/3.6 MB\u001b[0m \u001b[31m40.3 MB/s\u001b[0m eta \u001b[36m0:00:00\u001b[0m\n",
            "\u001b[?25hRequirement already satisfied: dwave-samplers==1.0.0 in /usr/local/lib/python3.10/dist-packages (from dwave-ocean-sdk) (1.0.0)\n",
            "Collecting dwave-system==1.19.0 (from dwave-ocean-sdk)\n",
            "  Downloading dwave_system-1.19.0-py3-none-any.whl (103 kB)\n",
            "\u001b[2K     \u001b[90m━━━━━━━━━━━━━━━━━━━━━━━━━━━━━━━━━━━━━━\u001b[0m \u001b[32m103.2/103.2 kB\u001b[0m \u001b[31m11.7 MB/s\u001b[0m eta \u001b[36m0:00:00\u001b[0m\n",
            "\u001b[?25hCollecting dwave-tabu==0.5.0 (from dwave-ocean-sdk)\n",
            "  Downloading dwave_tabu-0.5.0-py3-none-any.whl (9.2 kB)\n",
            "Collecting dwavebinarycsp==0.2.0 (from dwave-ocean-sdk)\n",
            "  Downloading dwavebinarycsp-0.2.0-py3-none-any.whl (35 kB)\n",
            "Collecting minorminer==0.2.11 (from dwave-ocean-sdk)\n",
            "  Downloading minorminer-0.2.11-cp310-cp310-manylinux_2_17_x86_64.manylinux2014_x86_64.whl (10.1 MB)\n",
            "\u001b[2K     \u001b[90m━━━━━━━━━━━━━━━━━━━━━━━━━━━━━━━━━━━━━━━━\u001b[0m \u001b[32m10.1/10.1 MB\u001b[0m \u001b[31m66.3 MB/s\u001b[0m eta \u001b[36m0:00:00\u001b[0m\n",
            "\u001b[?25hCollecting penaltymodel==1.0.2 (from dwave-ocean-sdk)\n",
            "  Downloading penaltymodel-1.0.2-py3-none-any.whl (36 kB)\n",
            "Requirement already satisfied: pyqubo==1.4.0 in /usr/local/lib/python3.10/dist-packages (from dwave-ocean-sdk) (1.4.0)\n",
            "Requirement already satisfied: numpy<2.0.0,>=1.17.3 in /usr/local/lib/python3.10/dist-packages (from dimod==0.12.6->dwave-ocean-sdk) (1.22.4)\n",
            "Requirement already satisfied: requests[socks]>=2.18 in /usr/local/lib/python3.10/dist-packages (from dwave-cloud-client==0.10.6->dwave-ocean-sdk) (2.27.1)\n",
            "Requirement already satisfied: pydantic<2,>=1.7.3 in /usr/local/lib/python3.10/dist-packages (from dwave-cloud-client==0.10.6->dwave-ocean-sdk) (1.10.11)\n",
            "Collecting homebase>=1.0 (from dwave-cloud-client==0.10.6->dwave-ocean-sdk)\n",
            "  Downloading homebase-1.0.1-py2.py3-none-any.whl (11 kB)\n",
            "Requirement already satisfied: click>=7.0 in /usr/local/lib/python3.10/dist-packages (from dwave-cloud-client==0.10.6->dwave-ocean-sdk) (8.1.4)\n",
            "Requirement already satisfied: python-dateutil>=2.7 in /usr/local/lib/python3.10/dist-packages (from dwave-cloud-client==0.10.6->dwave-ocean-sdk) (2.8.2)\n",
            "Collecting plucky>=0.4.3 (from dwave-cloud-client==0.10.6->dwave-ocean-sdk)\n",
            "  Downloading plucky-0.4.3-py2.py3-none-any.whl (10 kB)\n",
            "Collecting diskcache>=5.2.1 (from dwave-cloud-client==0.10.6->dwave-ocean-sdk)\n",
            "  Downloading diskcache-5.6.1-py3-none-any.whl (45 kB)\n",
            "\u001b[2K     \u001b[90m━━━━━━━━━━━━━━━━━━━━━━━━━━━━━━━━━━━━━━━━\u001b[0m \u001b[32m45.6/45.6 kB\u001b[0m \u001b[31m5.1 MB/s\u001b[0m eta \u001b[36m0:00:00\u001b[0m\n",
            "\u001b[?25hRequirement already satisfied: packaging>=19 in /usr/local/lib/python3.10/dist-packages (from dwave-cloud-client==0.10.6->dwave-ocean-sdk) (23.1)\n",
            "Requirement already satisfied: werkzeug>=2.2 in /usr/local/lib/python3.10/dist-packages (from dwave-cloud-client==0.10.6->dwave-ocean-sdk) (2.3.6)\n",
            "Requirement already satisfied: networkx in /usr/local/lib/python3.10/dist-packages (from dwave-hybrid==0.6.10->dwave-ocean-sdk) (3.1)\n",
            "Requirement already satisfied: Flask>=2.2 in /usr/local/lib/python3.10/dist-packages (from dwave-inspector==0.4.2->dwave-ocean-sdk) (2.2.5)\n",
            "Collecting networkx (from dwave-hybrid==0.6.10->dwave-ocean-sdk)\n",
            "  Downloading networkx-2.8.8-py3-none-any.whl (2.0 MB)\n",
            "\u001b[2K     \u001b[90m━━━━━━━━━━━━━━━━━━━━━━━━━━━━━━━━━━━━━━━━\u001b[0m \u001b[32m2.0/2.0 MB\u001b[0m \u001b[31m68.0 MB/s\u001b[0m eta \u001b[36m0:00:00\u001b[0m\n",
            "\u001b[?25hRequirement already satisfied: scipy>=1.7.3 in /usr/local/lib/python3.10/dist-packages (from dwave-system==1.19.0->dwave-ocean-sdk) (1.10.1)\n",
            "Collecting fasteners (from minorminer==0.2.11->dwave-ocean-sdk)\n",
            "  Downloading fasteners-0.18-py3-none-any.whl (18 kB)\n",
            "Collecting rectangle-packer>=2.0.1 (from minorminer==0.2.11->dwave-ocean-sdk)\n",
            "  Downloading rectangle_packer-2.0.1-cp310-cp310-manylinux_2_5_x86_64.manylinux1_x86_64.manylinux_2_17_x86_64.manylinux2014_x86_64.whl (300 kB)\n",
            "\u001b[2K     \u001b[90m━━━━━━━━━━━━━━━━━━━━━━━━━━━━━━━━━━━━━━\u001b[0m \u001b[32m300.8/300.8 kB\u001b[0m \u001b[31m30.5 MB/s\u001b[0m eta \u001b[36m0:00:00\u001b[0m\n",
            "\u001b[?25hRequirement already satisfied: Deprecated>=1.2.12 in /usr/local/lib/python3.10/dist-packages (from pyqubo==1.4.0->dwave-ocean-sdk) (1.2.14)\n",
            "Requirement already satisfied: six>=1.15.0 in /usr/local/lib/python3.10/dist-packages (from pyqubo==1.4.0->dwave-ocean-sdk) (1.16.0)\n",
            "Requirement already satisfied: wrapt<2,>=1.10 in /usr/local/lib/python3.10/dist-packages (from Deprecated>=1.2.12->pyqubo==1.4.0->dwave-ocean-sdk) (1.14.1)\n",
            "Requirement already satisfied: Jinja2>=3.0 in /usr/local/lib/python3.10/dist-packages (from Flask>=2.2->dwave-inspector==0.4.2->dwave-ocean-sdk) (3.1.2)\n",
            "Requirement already satisfied: itsdangerous>=2.0 in /usr/local/lib/python3.10/dist-packages (from Flask>=2.2->dwave-inspector==0.4.2->dwave-ocean-sdk) (2.1.2)\n",
            "Requirement already satisfied: typing-extensions>=4.2.0 in /usr/local/lib/python3.10/dist-packages (from pydantic<2,>=1.7.3->dwave-cloud-client==0.10.6->dwave-ocean-sdk) (4.7.1)\n",
            "Requirement already satisfied: urllib3<1.27,>=1.21.1 in /usr/local/lib/python3.10/dist-packages (from requests[socks]>=2.18->dwave-cloud-client==0.10.6->dwave-ocean-sdk) (1.26.16)\n",
            "Requirement already satisfied: certifi>=2017.4.17 in /usr/local/lib/python3.10/dist-packages (from requests[socks]>=2.18->dwave-cloud-client==0.10.6->dwave-ocean-sdk) (2023.5.7)\n",
            "Requirement already satisfied: charset-normalizer~=2.0.0 in /usr/local/lib/python3.10/dist-packages (from requests[socks]>=2.18->dwave-cloud-client==0.10.6->dwave-ocean-sdk) (2.0.12)\n",
            "Requirement already satisfied: idna<4,>=2.5 in /usr/local/lib/python3.10/dist-packages (from requests[socks]>=2.18->dwave-cloud-client==0.10.6->dwave-ocean-sdk) (3.4)\n",
            "Requirement already satisfied: PySocks!=1.5.7,>=1.5.6 in /usr/local/lib/python3.10/dist-packages (from requests[socks]>=2.18->dwave-cloud-client==0.10.6->dwave-ocean-sdk) (1.7.1)\n",
            "Requirement already satisfied: MarkupSafe>=2.1.1 in /usr/local/lib/python3.10/dist-packages (from werkzeug>=2.2->dwave-cloud-client==0.10.6->dwave-ocean-sdk) (2.1.3)\n",
            "Installing collected packages: rectangle-packer, plucky, homebase, networkx, fasteners, diskcache, dimod, penaltymodel, dwave-preprocessing, dwave-networkx, minorminer, dwavebinarycsp, dwave-tabu, dwave-greedy, dwave-cloud-client, dwave-system, dwave-inspector, dwave-hybrid, dwave-ocean-sdk\n",
            "  Attempting uninstall: networkx\n",
            "    Found existing installation: networkx 3.1\n",
            "    Uninstalling networkx-3.1:\n",
            "      Successfully uninstalled networkx-3.1\n",
            "  Attempting uninstall: dimod\n",
            "    Found existing installation: dimod 0.12.10\n",
            "    Uninstalling dimod-0.12.10:\n",
            "      Successfully uninstalled dimod-0.12.10\n",
            "Successfully installed dimod-0.12.6 diskcache-5.6.1 dwave-cloud-client-0.10.6 dwave-greedy-0.3.0 dwave-hybrid-0.6.10 dwave-inspector-0.4.2 dwave-networkx-0.8.14 dwave-ocean-sdk-6.4.1 dwave-preprocessing-0.5.4 dwave-system-1.19.0 dwave-tabu-0.5.0 dwavebinarycsp-0.2.0 fasteners-0.18 homebase-1.0.1 minorminer-0.2.11 networkx-2.8.8 penaltymodel-1.0.2 plucky-0.4.3 rectangle-packer-2.0.1\n"
          ]
        }
      ]
    },
    {
      "cell_type": "code",
      "execution_count": 2,
      "metadata": {
        "id": "LxRvHLPiqVhn"
      },
      "outputs": [],
      "source": [
        "import sys\n",
        "import time\n",
        "from collections import defaultdict\n",
        "import re # to extract numbers from strings\n",
        "\n",
        "import numpy as np\n",
        "from numpy import linalg as la\n",
        "import networkx as nx\n",
        "\n",
        "# Gurobi libraries\n",
        "import gurobipy as gp\n",
        "from gurobipy import GRB\n",
        "\n",
        "# DWave libraries\n",
        "import dwave.cloud as dc\n",
        "from dwave.cloud import Client\n",
        "from dwave.system.samplers import DWaveSampler, LeapHybridSampler\n",
        "from dwave.system.composites import EmbeddingComposite\n",
        "import dimod\n",
        "from dimod import BinaryQuadraticModel\n",
        "import neal\n",
        "\n",
        "# Library to prepare QUBO formulation\n",
        "from pyqubo import Array, Binary, Constraint, LogEncInteger"
      ]
    },
    {
      "cell_type": "markdown",
      "source": [
        "# Connect to DWave and choose solver"
      ],
      "metadata": {
        "id": "WcDaewWLT_5p"
      }
    },
    {
      "cell_type": "code",
      "source": [
        "token = 'DEV-c9936a1f2108a4a1c2c8c2057e716bf150d0c88e'\n",
        "endpoint = 'https://cloud.dwavesys.com/sapi'"
      ],
      "metadata": {
        "id": "ywzvM1NVit0u"
      },
      "execution_count": 3,
      "outputs": []
    },
    {
      "cell_type": "code",
      "source": [
        "# Set your D-Wave API token and endpoint URL\n",
        "config = {\n",
        "    'token': token,\n",
        "    'endpoint': endpoint,\n",
        "}\n",
        "\n",
        "# Connect to the D-Wave system\n",
        "client = dc.Client.from_config(**config)\n",
        "\n",
        "# Print the available samplers and their names\n",
        "for solver in client.get_solvers():\n",
        "    print(\"Solver Name:\", solver.id)"
      ],
      "metadata": {
        "colab": {
          "base_uri": "https://localhost:8080/"
        },
        "id": "Od8sFPf1Yamb",
        "outputId": "2d5edf0e-3f39-4f07-8e11-ae890b151485"
      },
      "execution_count": 4,
      "outputs": [
        {
          "output_type": "stream",
          "name": "stdout",
          "text": [
            "Solver Name: hybrid_binary_quadratic_model_version2\n",
            "Solver Name: hybrid_discrete_quadratic_model_version1\n",
            "Solver Name: hybrid_constrained_quadratic_model_version1\n",
            "Solver Name: Advantage2_prototype1.1\n",
            "Solver Name: Advantage_system6.2\n",
            "Solver Name: Advantage_system4.1\n"
          ]
        }
      ]
    },
    {
      "cell_type": "code",
      "source": [
        "# Specify the DWave solver name we want to use\n",
        "solver = 'hybrid_binary_quadratic_model_version2'\n",
        "# solver = 'Advantage_system6.2'\n",
        "\n",
        "# Set your D-Wave API token and endpoint URL\n",
        "config = {\n",
        "    'token': token,\n",
        "    'endpoint': endpoint,\n",
        "    'solver': solver\n",
        "}\n",
        "\n",
        "# choose the sampler\n",
        "# Simulated Annealing (classic sampler)\n",
        "sampler = neal.SimulatedAnnealingSampler()\n",
        "solver = 'SimulAnneal'\n",
        "\n",
        "# hybrid sampler\n",
        "# sampler = LeapHybridSampler(**config)\n",
        "\n",
        "# # DWave sampler (pure quantum)\n",
        "# sampler = DWaveSampler(**config)\n",
        "# sampler = EmbeddingComposite(sampler) # DWave built-in embedding strategy\n",
        "# # Create a D-Wave cloud client\n",
        "# client = Client(**config)\n",
        "# # Connect to the QPU\n",
        "# qpu = client.get_solver()"
      ],
      "metadata": {
        "id": "oh8dyTvzUDd_"
      },
      "execution_count": 5,
      "outputs": []
    },
    {
      "cell_type": "markdown",
      "source": [
        "# Generate a random graph"
      ],
      "metadata": {
        "id": "1odMfoAe2316"
      }
    },
    {
      "cell_type": "code",
      "source": [
        "# number of nodes\n",
        "n = 5\n",
        "\n",
        "# since we want to solve basic VRP without taking into account capacities,\n",
        "# we fix the maximum capacity C = n and customers' demands d = (1, ..., 1)\n",
        "# this allows the vehicles to possibly visit all nodes,\n",
        "# without restricting the routes\n",
        "\n",
        "# maximum vehicle Capacity\n",
        "C = n\n",
        "\n",
        "# customers' demand\n",
        "d = np.ones(n)\n",
        "\n",
        "# heuristich bound of the number of vehicles needed to serve all customers\n",
        "# To obtain the exact k_min we would need to solve a Bin Packing Problem\n",
        "# Regardless, the heuristic bound usually works well too\n",
        "kmin = int(np.ceil(np.sum(d)/C))\n",
        "\n",
        "# number of vehicles\n",
        "k = kmin + 1\n",
        "\n",
        "# generate random Adjacency matrix\n",
        "E = np.random.randint(0, 10, size=(n, n))\n",
        "# make it symmetrical (to avoid getting stuck in dead ends)\n",
        "E = E + E.T\n",
        "# take away the diagonal\n",
        "E = E - np.diag(np.diag(E))\n",
        "\n",
        "# generate graph from Adjacency matrix\n",
        "G = nx.from_numpy_array(E, create_using=nx.DiGraph)\n",
        "\n",
        "# fix depot node\n",
        "depot = 0\n",
        "\n",
        "# draw Graph using Fruchterman-Reingold force-directed algorithm\n",
        "nx.draw(G, nx.spring_layout(G), with_labels=True)"
      ],
      "metadata": {
        "colab": {
          "base_uri": "https://localhost:8080/",
          "height": 0
        },
        "id": "OKRbWZPZqd-i",
        "outputId": "30415847-53bd-4c64-87d8-5164d3452dfa"
      },
      "execution_count": 6,
      "outputs": [
        {
          "output_type": "display_data",
          "data": {
            "text/plain": [
              "<Figure size 640x480 with 1 Axes>"
            ],
            "image/png": "[encoded data removed]"
          },
          "metadata": {}
        }
      ]
    },
    {
      "cell_type": "code",
      "source": [
        "E"
      ],
      "metadata": {
        "colab": {
          "base_uri": "https://localhost:8080/"
        },
        "id": "TP-0wkgJDJun",
        "outputId": "ad640304-fd0a-4a82-e0ec-a51e90186009"
      },
      "execution_count": 7,
      "outputs": [
        {
          "output_type": "execute_result",
          "data": {
            "text/plain": [
              "array([[ 0, 10,  8, 14, 12],\n",
              "       [10,  0,  9,  4, 14],\n",
              "       [ 8,  9,  0,  3, 12],\n",
              "       [14,  4,  3,  0,  9],\n",
              "       [12, 14, 12,  9,  0]])"
            ]
          },
          "metadata": {},
          "execution_count": 7
        }
      ]
    },
    {
      "cell_type": "markdown",
      "source": [
        "# Useful functions"
      ],
      "metadata": {
        "id": "ynfpjho1TDQ4"
      }
    },
    {
      "cell_type": "markdown",
      "source": [
        "## TSP DFJ GAMA"
      ],
      "metadata": {
        "id": "cFTRl89FvOc3"
      }
    },
    {
      "cell_type": "code",
      "source": [
        "def TSP_DFJ_gama(cluster):\n",
        "\n",
        "################################################################################\n",
        "\n",
        "  # useful function for Graver Augmentation\n",
        "\n",
        "  # Objective function definition\n",
        "  def f(x):\n",
        "    return np.sum([obj_coeffs[i]*x[i] for i in range(len(obj_coeffs))])\n",
        "\n",
        "  # Constraints satisfaction\n",
        "  def const(x):\n",
        "      return np.array_equiv(np.dot(A,x),b.T) or np.array_equiv(np.dot(A,x),b)\n",
        "\n",
        "################################################################################\n",
        "\n",
        "  cluster = set(cluster)\n",
        "  n = len(cluster)\n",
        "\n",
        "  # Declare and initialize model\n",
        "  m = gp.Model('TSP_GAMA')\n",
        "  # m.Params.LogToConsole = 0\n",
        "\n",
        "  # edge variables\n",
        "  x = {}\n",
        "  for i in cluster:\n",
        "    for j in cluster:\n",
        "      if E[i,j]!=0 and i!=j:\n",
        "        x[(i,j)] = m.addVar(vtype=GRB.BINARY, name=f\"x[{i},{j}]\")\n",
        "\n",
        "  # dictionary of slack variables for subtour elimination constraint\n",
        "  s = {}\n",
        "\n",
        "  # update model\n",
        "  m.update()\n",
        "\n",
        "  # only one vehicle on edge (i, j) for every (i, j)\n",
        "  m.addConstrs((sum(x[(i, j)] for i in cluster if E[i, j]!=0 and i!=j) == 1 for j in cluster), name='enter_node')\n",
        "  m.addConstrs((sum(x[(i, j)] for j in cluster if E[i, j]!=0 and i!=j) == 1 for i in cluster), name='leave_node')\n",
        "\n",
        "  # update model\n",
        "  m.update()\n",
        "\n",
        "  # Objective: minimize total cost of all assignments\n",
        "  obj = np.sum([E[i,j]*x[(i,j)]\n",
        "                for i in cluster\n",
        "                for j in cluster if E[i,j]!=0 and i!=j])\n",
        "\n",
        "  m.setObjective(obj, GRB.MINIMIZE)\n",
        "\n",
        "  # update model\n",
        "  m.update()\n",
        "\n",
        "  # check whether current solution has subtours\n",
        "  bool_subtour = True\n",
        "  subtour = []\n",
        "\n",
        "  # count number of found subtours\n",
        "  cont = 0\n",
        "\n",
        "  while bool_subtour == True:\n",
        "\n",
        "    if len(subtour)>0:\n",
        "\n",
        "        # define slack variable for subtour elimination\n",
        "      num_var_enc = int(np.ceil(np.log2(sum([1 for i in subtour for j in cluster.difference(subtour) if E[i, j]!=0 and i!=j])+1)))\n",
        "      for t in range(num_var_enc):\n",
        "        s[(cont,t)] = m.addVar(vtype=GRB.BINARY, name=f\"s[{cont},{t}]\")\n",
        "\n",
        "      m.update()\n",
        "\n",
        "      # add subtour elimination constraint\n",
        "      m.addConstr( -sum(x[(i, j)] for i in subtour for j in cluster.difference(subtour) if E[i, j]!=0 and i!=j) +\n",
        "                    (-1 + sum([2**t * s[(cont,t)] for t in range(num_var_enc-1)]) +\n",
        "                    (sum([1 for i in subtour for j in cluster.difference(subtour) if E[i, j]!=0 and i!=j]) -\n",
        "                    sum([2**t for t in range(num_var_enc-1)]))*s[(cont, num_var_enc-1)])   # s[cont]\n",
        "                    == -1.0, name=f'subtour_elimination({cont})')\n",
        "\n",
        "    # update model\n",
        "    m.update()\n",
        "\n",
        "    # Save model for inspection\n",
        "    m.write('TSP_GAMA.lp')\n",
        "\n",
        "    # Run optimization engine\n",
        "    A = m.getA()\n",
        "    A = A.toarray()\n",
        "    b = np.array(m.getAttr(\"RHS\", m.getConstrs()), int)\n",
        "    obj_coeffs = m.getAttr(\"Obj\", m.getVars())\n",
        "\n",
        "    # compute graver basis elements\n",
        "    graver_elems = get_feasible(A, np.zeros_like(b), sampler=sampler, samples=100, refine_almost_feasible=True)\n",
        "    # print(len(graver_elems), ' graver elements found.')\n",
        "\n",
        "    # compute feasible solutions\n",
        "    feas_sols = get_feasible(A, b, sampler=sampler, samples=100)\n",
        "    # print(len(feas_sols), ' feasible solutions found.')\n",
        "\n",
        "    # Multiseed Augmentation\n",
        "    final_sols, final_obj_full = graver_multiseed_augmentation(feas_sols, graver_elems, const, f)\n",
        "\n",
        "    # get best solution\n",
        "    x_opt = final_sols[np.argmin(final_obj_full), :]\n",
        "\n",
        "    # get route\n",
        "    route = []\n",
        "    for i in cluster:\n",
        "      for j in cluster:\n",
        "        if E[i,j]!=0 and i!=j:\n",
        "          route.append((i,j))\n",
        "\n",
        "    route = [route[i] for i in range(len(route)) if x_opt[i]>1e-6]\n",
        "\n",
        "    bool_subtour = contains_subtours(cluster, route)[0]\n",
        "    if bool_subtour==True:\n",
        "      cont += 1\n",
        "      subtour = set(contains_subtours(cluster, route)[1])\n",
        "\n",
        "  # compute final objective function value\n",
        "  obj = f(x_opt)\n",
        "  return (route, obj)"
      ],
      "metadata": {
        "id": "2-1txUlKvRAs"
      },
      "execution_count": 8,
      "outputs": []
    },
    {
      "cell_type": "markdown",
      "source": [
        "## TSP DFJ QUBO"
      ],
      "metadata": {
        "id": "RxL0ZLVXGCkS"
      }
    },
    {
      "cell_type": "code",
      "source": [
        "def TSP_DFJ_qubo(cluster, p = np.sum(E)+1):\n",
        "\n",
        "  cluster = set(cluster)\n",
        "  n = len(cluster)\n",
        "\n",
        "  # create QUBO variables for the edges\n",
        "  x = {}\n",
        "  for i in cluster:\n",
        "    for j in cluster:\n",
        "      if E[i,j]!=0 and i!=j:\n",
        "        x[(i,j)] = Binary(f'x[{i},{j}]')\n",
        "\n",
        "  # ditionary of slack variables for subtour elimination constraints\n",
        "  s = {}\n",
        "\n",
        "  # count number of subtours\n",
        "  cont = 0\n",
        "\n",
        "  # check whether current solution has subtours\n",
        "  bool_subtour = True\n",
        "  subtour = []\n",
        "\n",
        "  # build QUBO by manually adding objective and constraints\n",
        "\n",
        "  # define objective function\n",
        "  obj = sum(E[i,j]*x[(i,j)] for i in cluster for j in cluster if E[i,j]!=0 and i!=j)\n",
        "\n",
        "  # add the objective\n",
        "  Q =  obj\n",
        "\n",
        "  # add the constraints\n",
        "  # only one edge coming out from each node\n",
        "  Q += p*sum([Constraint((sum([x[(i, j)] for j in cluster if j!=i and E[i, j]!=0])-1)**2, label=f'leave_node_{i}') for i in cluster])\n",
        "\n",
        "  # only one edge entering each node\n",
        "  Q += p*sum([Constraint((sum([x[(i, j)] for i in cluster if i!=j and E[i, j]!=0])-1)**2, label=f'enter_node_{j}') for j in cluster])\n",
        "\n",
        "  while bool_subtour == True:\n",
        "\n",
        "    if len(subtour)>0:\n",
        "        s[cont] = LogEncInteger(f's[{cont}]', (-1, -1 + int(sum([1 for i in subtour for j in cluster.difference(subtour) if E[i, j]!=0 and i!=j]))))\n",
        "        Q += p*(Constraint((-sum([x[(i, j)] for i in subtour for j in cluster.difference(subtour) if E[i, j]!=0 and i!=j]) + s[cont] + 1)**2,\n",
        "                          label=f'subtour_elimination_{t}'))\n",
        "    # get QUBO matrix\n",
        "    model = Q.compile()\n",
        "    Q_dict, offset = model.to_qubo()\n",
        "\n",
        "    # solve the model with the chosen sampler\n",
        "    if solver=='SimulAnneal':   # classic solver\n",
        "      sampleset = sampler.sample_qubo(Q_dict, num_reads=300, num_steps=1000)\n",
        "    elif solver=='hybrid_binary_quadratic_model_version2':    # hybrid solver\n",
        "      sampleset = sampler.sample_qubo(Q_dict)\n",
        "    elif solver=='Advantage_system6.2':   # quantum solver\n",
        "      sampleset = sampler.sample_qubo(Q_dict, num_reads=300, annealing_time=qpu.properties[\"annealing_time_range\"][1])\n",
        "\n",
        "    # get obtained solutions\n",
        "    samples = model.decode_sampleset(sampleset)\n",
        "\n",
        "    # take only valid solutions (actual routes)\n",
        "    samples = [s for s in samples if is_feasible(s.sample, s.energy)==True]\n",
        "\n",
        "    # take only best solution (feasible and with minimum energy)\n",
        "    best_sample = min(samples, key=lambda s: s.energy)\n",
        "\n",
        "    # get best_sample's edges\n",
        "    route = []\n",
        "    for i in cluster:\n",
        "      for j in cluster:\n",
        "        if E[i,j]!=0 and i!=j and best_sample.sample[f'x[{i},{j}]'] > 1e-6:\n",
        "          route.append((i, j))\n",
        "\n",
        "    bool_subtour = contains_subtours(cluster, route)[0]\n",
        "    if bool_subtour==True:\n",
        "      cont += 1\n",
        "      subtour = set(contains_subtours(cluster, route)[1])\n",
        "\n",
        "  # compute final objective function value\n",
        "  obj = np.sum([E[i,j]*best_sample.sample[f'x[{i},{j}]']\n",
        "                  for i in cluster for j in cluster if E[i,j]!=0 and i!=j])\n",
        "\n",
        "  return (route, obj)"
      ],
      "metadata": {
        "id": "EZ-AsQE2GCkU"
      },
      "execution_count": 9,
      "outputs": []
    },
    {
      "cell_type": "code",
      "source": [
        "def is_feasible(sample, energy):\n",
        "\n",
        "  # original objective function value\n",
        "  obj = np.sum([E[i,j]*sample[f'x[{i},{j}]']\n",
        "                  for i in cluster for j in cluster if E[i,j]!=0 and i!=j])\n",
        "\n",
        "  return obj==energy"
      ],
      "metadata": {
        "id": "h5VZ-F0MGCkW"
      },
      "execution_count": 10,
      "outputs": []
    },
    {
      "cell_type": "markdown",
      "source": [
        "## TSP DFJ Gurobi"
      ],
      "metadata": {
        "id": "8dMeAlRlfCsl"
      }
    },
    {
      "cell_type": "code",
      "source": [
        "def TSP_DFJ_gurobi(cluster):\n",
        "\n",
        "  cluster = set(cluster)\n",
        "  n = len(cluster)\n",
        "\n",
        "  # Declare and initialize model\n",
        "  m = gp.Model('TSP')\n",
        "\n",
        "  # edge variables\n",
        "  x = {}\n",
        "  for i in cluster:\n",
        "    for j in cluster:\n",
        "      if E[i,j]!=0 and i!=j:\n",
        "        x[(i,j)] = m.addVar(vtype=GRB.BINARY, name=f\"x[{i},{j}]\")\n",
        "\n",
        "  # dictionary of slack variables for subtour elimination constraint\n",
        "  s = {}\n",
        "\n",
        "  # update model\n",
        "  m.update()\n",
        "\n",
        "  # only one vehicle on edge (i, j) for every (i, j)\n",
        "  m.addConstrs((sum(x[(i, j)] for i in cluster if E[i, j]!=0 and i!=j) == 1 for j in cluster), name='enter_node')\n",
        "  m.addConstrs((sum(x[(i, j)] for j in cluster if E[i, j]!=0 and i!=j) == 1 for i in cluster), name='leave_node')\n",
        "\n",
        "  # update model\n",
        "  m.update()\n",
        "\n",
        "  # Objective: minimize total cost of all assignments\n",
        "  obj = np.sum([E[i,j]*x[(i,j)]\n",
        "                for i in cluster\n",
        "                for j in cluster if E[i,j]!=0 and i!=j])\n",
        "\n",
        "  m.setObjective(obj, GRB.MINIMIZE)\n",
        "\n",
        "  # update model\n",
        "  m.update()\n",
        "\n",
        "  # check whether current solution has subtours\n",
        "  bool_subtour = True\n",
        "  subtour = []\n",
        "\n",
        "  # count number of found subtours\n",
        "  cont = 0\n",
        "\n",
        "  while bool_subtour == True:\n",
        "\n",
        "    if len(subtour)>0:\n",
        "      # add subtour elimination constraint\n",
        "      m.addConstr(sum(x[(i, j)] for i in subtour for j in cluster.difference(subtour) if E[i, j]!=0 and i!=j) >= 1, name='subtour_elimination')\n",
        "\n",
        "    # update model\n",
        "    m.update()\n",
        "\n",
        "    # Save model for inspection\n",
        "    m.write('TSP_gurobi.lp')\n",
        "\n",
        "    # Run optimization engine\n",
        "    m.optimize()\n",
        "\n",
        "    # get route\n",
        "    route = []\n",
        "    for v in m.getVars():\n",
        "      if v.varName[0]=='x' and v.x > 1e-6:\n",
        "        nodes_indices = re.findall(r'\\d+', v.varName)\n",
        "        route.append((int(nodes_indices[0]), int(nodes_indices[1])))\n",
        "\n",
        "    bool_subtour = contains_subtours(cluster, route)[0]\n",
        "    if bool_subtour==True:\n",
        "      cont += 1\n",
        "      subtour = set(contains_subtours(cluster, route)[1])\n",
        "\n",
        "  # compute final objective function value\n",
        "  obj = np.sum([E[i,j]*x[(i,j)].X\n",
        "                  for i in cluster\n",
        "                  for j in cluster if E[i,j]!=0 and i!=j])\n",
        "\n",
        "  return (route, obj)"
      ],
      "metadata": {
        "id": "9guZG_kZfDBQ"
      },
      "execution_count": 11,
      "outputs": []
    },
    {
      "cell_type": "markdown",
      "source": [
        "## check subtours"
      ],
      "metadata": {
        "id": "eVngP09lo4VB"
      }
    },
    {
      "cell_type": "code",
      "source": [
        "def contains_subtours(cluster, edges, VERBOSE=False):\n",
        "\n",
        "  n = len(cluster)\n",
        "  routes = []\n",
        "  unvisited_nodes = list(cluster)\n",
        "\n",
        "  while len(unvisited_nodes)>0:\n",
        "    route = []\n",
        "    initial_node = unvisited_nodes[0]\n",
        "    route.append(initial_node)\n",
        "    next_node = [edge[1] for edge in edges if edge[0]==initial_node][0]\n",
        "    route.append(next_node)\n",
        "    while len(route)<n and next_node!=initial_node:\n",
        "      next_node = [edge[1] for edge in edges if edge[0]==next_node][0]\n",
        "      route.append(next_node)\n",
        "    routes.append(route)\n",
        "\n",
        "    # update list on not yet visited nodes\n",
        "    unvisited_nodes = [node for node in unvisited_nodes if route.count(node)==0]\n",
        "\n",
        "  if len(routes)>1:\n",
        "    subtour = [route for route in routes if 0 not in route][0]\n",
        "    if VERBOSE==True:\n",
        "      print('subtour: \\t', subtour)\n",
        "    return (True, subtour)\n",
        "\n",
        "  return (False, routes)"
      ],
      "metadata": {
        "id": "v8g_YoaKfKMl"
      },
      "execution_count": 12,
      "outputs": []
    },
    {
      "cell_type": "markdown",
      "source": [
        "## check if clustering is a valid clustering"
      ],
      "metadata": {
        "id": "ZncmZpdE3W7f"
      }
    },
    {
      "cell_type": "code",
      "source": [
        "def is_valid_clustering(clusters, VERBOSE=False):\n",
        "\n",
        "  # store the clusters\n",
        "  clustering = []\n",
        "\n",
        "  # get used vehicles\n",
        "  vehicles = set([elem[0] for elem in clusters])\n",
        "\n",
        "  # for each vehicle get the visited customers\n",
        "  for vehicle in vehicles:\n",
        "    clustering.append([elem[1] for elem in clusters if elem[0]==vehicle])\n",
        "\n",
        "  # to be a valid clustering each node must be visited by exactly one vehicle\n",
        "  # i.e. each node must appear in exactly one cluster\n",
        "  cont = {}\n",
        "  for i in range(1, n):\n",
        "    cont[i] = sum([c.count(i) for c in clustering])\n",
        "    if cont[i]!=1:\n",
        "      if VERBOSE==True:\n",
        "        print('Not a valid clustering: node served by multiple vehicles')\n",
        "        print(clustering)\n",
        "      return (False, clustering)\n",
        "\n",
        "  # Also, the depot must be in each cluster\n",
        "  cont[0] = sum([c.count(0) for c in clustering])\n",
        "  if cont[0]!=len(clustering):\n",
        "    if VERBOSE==True:\n",
        "      print('Not a valid clustering: depot not in every cluster')\n",
        "      print(clustering)\n",
        "    return (False, clustering)\n",
        "\n",
        "  # Moreover, the capacity of each vehicle must not be exceeded\n",
        "  for c in clustering:\n",
        "    if sum([d[node] for node in c])>C:\n",
        "      if VERBOSE==True:\n",
        "        print('Not a valid clustering: capacity exceeded')\n",
        "        print(clustering)\n",
        "      return (False, clustering)\n",
        "\n",
        "  if VERBOSE==True:\n",
        "    print('Valid clustering')\n",
        "    print(clustering)\n",
        "\n",
        "  return (True, clustering)"
      ],
      "metadata": {
        "id": "KnBXs87V3XNo"
      },
      "execution_count": 13,
      "outputs": []
    },
    {
      "cell_type": "markdown",
      "source": [
        "## get clusters from annealing sample"
      ],
      "metadata": {
        "id": "jWAWcSd99J2i"
      }
    },
    {
      "cell_type": "code",
      "source": [
        "def get_clusters_from_sample(sample):\n",
        "  clusters = []\n",
        "  for v in range(k):\n",
        "    for i in range(n):\n",
        "      if sample[f'z[{v},{i}]']==1:\n",
        "        clusters.append((v, i))\n",
        "  return clusters"
      ],
      "metadata": {
        "id": "kU3ni47L9Ki6"
      },
      "execution_count": 14,
      "outputs": []
    },
    {
      "cell_type": "markdown",
      "source": [
        "## check if feasible solution is an actual route"
      ],
      "metadata": {
        "id": "st6HXJDXTFzK"
      }
    },
    {
      "cell_type": "code",
      "source": [
        "def is_valid_routing(edges, VERBOSE=False, formulation=1):\n",
        "\n",
        "  # here we save the final routes (if any)\n",
        "  routes = []\n",
        "\n",
        "  # get starting edges of each route\n",
        "  if formulation==1:\n",
        "    for edge in edges:    # edge = (node i, node j)\n",
        "      if edge[0]==0:\n",
        "        routes.append([edge[0], edge[1]])\n",
        "\n",
        "    # attempt to build the routes\n",
        "    for i in range(len(routes)):\n",
        "      # build route for i-th vehicle\n",
        "      next_nodes = [edge[1] for edge in edges if edge[0]==routes[i][-1]]\n",
        "      if next_nodes == []:\n",
        "        pass\n",
        "      elif len(next_nodes)>1:   # if we have multiple next_nodes, that means there are multiple edges coming out from the same customer. Infeasible\n",
        "        if VERBOSE==True:\n",
        "          print('Not a valid routing')\n",
        "        return (False, routes)\n",
        "      else:\n",
        "        next_node = next_nodes[0]\n",
        "        routes[i].append(next_node)\n",
        "        while (len(routes[i])<n) and (next_node!=0) and (next_nodes!=[]):\n",
        "          next_nodes = [edge[1] for edge in edges if edge[0]==routes[i][-1]]\n",
        "          if len(next_nodes)>1:   # if we have multiple next_nodes, that means there are multiple edges coming out from the same customer. Infeasible\n",
        "            if VERBOSE==True:\n",
        "              print('Not a valid routing')\n",
        "            return (False, routes)\n",
        "          elif len(next_nodes) == 1:\n",
        "            next_node = next_nodes[0]\n",
        "            routes[i].append(next_node)\n",
        "\n",
        "  elif formulation==2:\n",
        "    for v in range(k):\n",
        "      # take nodes visited by v-th vehicle\n",
        "      nodes_vth_veich = sorted([edge for edge in edges if edge[0]==v], key=lambda x: x[2])    # edge = (vehicle, node, timestep)\n",
        "      # check time consistency (one node per time step)\n",
        "      time_steps = [node[2] for node in nodes_vth_veich]\n",
        "      if time_steps != [i for i in range(n)]:\n",
        "        if VERBOSE==True:\n",
        "          print('Not a valid routing')\n",
        "        return (False, routes)\n",
        "      else:\n",
        "        routes.append([node[1] for node in nodes_vth_veich])\n",
        "\n",
        "  # for each route, check wheter the first and last nodes are zero (depot)\n",
        "  for route in routes:\n",
        "    first_node = route[0]\n",
        "    last_node = route[-1]\n",
        "    if first_node!=0 or last_node!=0:\n",
        "      if VERBOSE==True:\n",
        "        print('Not a valid routing')\n",
        "      return (False, routes)\n",
        "\n",
        "  # count the number of times each node appears among the routes\n",
        "  cont = {}\n",
        "  for i in range(n):\n",
        "    cont[i] = sum([route.count(i) for route in routes])\n",
        "\n",
        "  # the depot must be visited 2*k times\n",
        "  # k edges leaving the depot\n",
        "  # k edges returning to the depot\n",
        "  if cont[0]!=2*k:\n",
        "    if VERBOSE==True:\n",
        "        print('Not a valid routing')\n",
        "    return (False, routes)\n",
        "\n",
        "  # check wether each other node is visited exactly once\n",
        "  for i in range(1, n):\n",
        "    if cont[i]!=1:\n",
        "      if VERBOSE==True:\n",
        "        print('Not a valid routing')\n",
        "      return (False, routes)\n",
        "\n",
        "  if VERBOSE==True:\n",
        "    print('Valid routing. The routes are\\n')\n",
        "    for route in routes:\n",
        "      print(route)\n",
        "\n",
        "  return (True, routes)"
      ],
      "metadata": {
        "id": "Ljj2yKmbioKj"
      },
      "execution_count": 15,
      "outputs": []
    },
    {
      "cell_type": "markdown",
      "source": [
        "## get visited edges from annealing sampling"
      ],
      "metadata": {
        "id": "ui7YxoZfTJ3i"
      }
    },
    {
      "cell_type": "code",
      "source": [
        "# get edges\n",
        "def get_edges_from_sample(sample, formulation=1):\n",
        "\n",
        "  edges = []\n",
        "\n",
        "  if formulation==1:\n",
        "    for i in range(n):\n",
        "      for j in range(n):\n",
        "        if i!=j:\n",
        "          if sample[f'x[{i},{j}]']==1:\n",
        "            edges.append((i, j))\n",
        "\n",
        "  elif formulation==2:\n",
        "    for v in range(k):\n",
        "      for i in range(n):\n",
        "        for j in range(n):\n",
        "          if sample[f'x[{v}][{i}][{j}]']==1:\n",
        "            edges.append((v, i, j))\n",
        "\n",
        "  return edges"
      ],
      "metadata": {
        "id": "k6XVlmIs9NAY"
      },
      "execution_count": 16,
      "outputs": []
    },
    {
      "cell_type": "markdown",
      "source": [
        "## Graver Augmentation"
      ],
      "metadata": {
        "id": "5GAY33nLTRe1"
      }
    },
    {
      "cell_type": "code",
      "source": [
        "# Define rules to choose augmentation element, either the best one (argmin) or the first one that is found\n",
        "def argmin(iterable):\n",
        "  return min(enumerate(iterable), key=lambda x: x[1])\n",
        "\n",
        "def greedy(iterable):\n",
        "  for i, val in enumerate(iterable):  #[i = graver element, val=(obj, step_size)]\n",
        "      if val[1] != 0:\n",
        "          return i, val\n",
        "  return i, val"
      ],
      "metadata": {
        "id": "8j1E96nPPAsT"
      },
      "execution_count": 17,
      "outputs": []
    },
    {
      "cell_type": "code",
      "source": [
        "# We can just have a single step move (works well with greedy approach)\n",
        "def single_move(g, fun, x, x_lo = None, x_up = None):\n",
        "  if x_lo is None:\n",
        "      x_lo = np.zeros_like(x)\n",
        "  if x_up is None:\n",
        "      x_up = np.ones_like(x)\n",
        "\n",
        "  alpha = 0\n",
        "\n",
        "  if (x + g <= x_up).all() and (x + g >= x_lo).all():\n",
        "      if fun(x + g) < fun(x):\n",
        "          alpha = 1\n",
        "  elif (x - g <= x_up).all() and (x - g >= x_lo).all():\n",
        "      if fun(x - g) < fun(x) and fun(x - g) < fun(x + g):\n",
        "          alpha = -1\n",
        "\n",
        "  return (fun(x + alpha*g), alpha)"
      ],
      "metadata": {
        "id": "739eaAKtRiKt"
      },
      "execution_count": 18,
      "outputs": []
    },
    {
      "cell_type": "code",
      "source": [
        "def augmentation(grav, func, x, x_lo = np.zeros(n*n), x_up = np.ones(n*n), VERBOSE = True, itermax = 1000):\n",
        "  # Let's perform the augmentation and return the number of steps and the best solution\n",
        "  # OPTION = 3 # Greedy augmentation, select using first found\n",
        "  dist = 1\n",
        "  gprev = None\n",
        "  k = 1\n",
        "  if VERBOSE:\n",
        "      print(\"Initial point:\", x)\n",
        "      print(\"Objective function:\",func(x))\n",
        "  while dist != 0 and k < itermax:\n",
        "    g1, (obj, dist) = greedy(single_move(g=e, fun=func, x=x, x_lo=x_lo, x_up=x_up) for e in grav)\n",
        "    x = x + grav[g1]*dist\n",
        "    gprev = grav[g1]\n",
        "    if VERBOSE:\n",
        "        print(\"Iteration \", k)\n",
        "        print('Graver element, (obj, alpha):', g1, (obj, dist))\n",
        "        print(\"Augmentation direction:\", gprev)\n",
        "        print(\"Objective function:\", func(x))\n",
        "        print(\"Current point:\", x)\n",
        "        print(\"Are constraints satisfied?\", const(x))\n",
        "    else:\n",
        "        if k%50 == 0:\n",
        "            print(k)\n",
        "            print(obj)\n",
        "    k += 1\n",
        "  return(k, obj, x)"
      ],
      "metadata": {
        "id": "Pux1pzfcSB3E"
      },
      "execution_count": 19,
      "outputs": []
    },
    {
      "cell_type": "code",
      "source": [
        "def get_feasible(A, b, sampler, samples=500, refine_almost_feasible=False):\n",
        "\n",
        "  AA = np.dot(A.T, A)\n",
        "  h = -2.0*np.dot(b.T, A)\n",
        "  Q = AA + np.diag(h)\n",
        "  offset = np.dot(b.T, b) + 0.0\n",
        "\n",
        "  # Define Binary Quadratic Model\n",
        "  bqm = dimod.BinaryQuadraticModel(Q, \"BINARY\", offset=offset)\n",
        "\n",
        "  # solve the model with the chosen sampler\n",
        "  if solver=='SimulAnneal':   # classic solver\n",
        "    response = sampler.sample(bqm, num_reads=samples, num_steps=1000)\n",
        "  elif solver=='hybrid_binary_quadratic_model_version2':    # hybrid solver\n",
        "    response = sampler.sample(bqm)\n",
        "  elif solver=='Advantage_system6.2':   # quantum solver\n",
        "    response = sampler.sample(bqm, num_reads=samples, annealing_time=qpu.properties[\"annealing_time_range\"][1])\n",
        "\n",
        "  # remove duplicates from the sample set\n",
        "  response = response.aggregate()\n",
        "\n",
        "  filter_idx = [i for i, e in enumerate(response.record.energy) if e == 0.0] # get only actual feasible solutions\n",
        "  feas_sols = response.record.sample[filter_idx]\n",
        "\n",
        "  # feas_sols contains the actual solutions of the QUBO problem,\n",
        "  # namely those x such that Ax=0 (to get graver elems) and Ax=b (to get feasible solutions)\n",
        "  # Usually, when solving for the graver elements it might happen that we also find several\n",
        "  # low energy solutions y such that Ay ~ 0 but Ay!=0.\n",
        "  # Instead of discarding such y's, it is convenient to combine them in order\n",
        "  # to create new graver elements. That's what we do in the next lines of code\n",
        "\n",
        "  if refine_almost_feasible==True:\n",
        "\n",
        "    # get unfeasible solutions\n",
        "    filter_idx = [i for i, e in enumerate(response.record.energy) if e != 0.0]\n",
        "    sols = response.record.sample[filter_idx]\n",
        "    # compute error matrix\n",
        "    Error_matrix = np.dot(A, sols.T)\n",
        "\n",
        "    # almost feasible solutions with gap-value of 1\n",
        "    err_one_sols = [i for i in range(Error_matrix.shape[1]) if np.sum(np.abs(Error_matrix[:, i]))==1]\n",
        "    almost_feas_sols_1 = sols[err_one_sols]\n",
        "    # create new feasible solutions\n",
        "    feas_sols_1 = filter_sol_abs_error(A, almost_feas_sols_1, abs_error=1)\n",
        "    # stack everything togheter\n",
        "    if feas_sols_1.shape[0]>0:\n",
        "      feas_sols = np.vstack([feas_sols, feas_sols_1])\n",
        "\n",
        "    # almost feasible solutions with gap-value of 2\n",
        "    err_two_sols = [i for i in range(Error_matrix.shape[1]) if np.sum(np.abs(Error_matrix[:, i]))==2]\n",
        "    almost_feas_sols_2 = sols[err_two_sols]\n",
        "    # create new feasible solutions\n",
        "    feas_sols_2 = filter_sol_abs_error(A, almost_feas_sols_2, abs_error=2)\n",
        "    # stack everything togheter\n",
        "    if feas_sols_2.shape[0]>0:\n",
        "      feas_sols = np.vstack([feas_sols, feas_sols_2])\n",
        "\n",
        "  # remove duplicate solutions\n",
        "  feas_sols = np.unique(feas_sols, axis=0)\n",
        "  return feas_sols"
      ],
      "metadata": {
        "id": "D8bbD6aISNK2"
      },
      "execution_count": 20,
      "outputs": []
    },
    {
      "cell_type": "code",
      "source": [
        "# this functions takes as input a set of almost feasible solutions\n",
        "# and combines them to create new actual feasible solutions\n",
        "def filter_sol_abs_error(A, sols, abs_error=1):\n",
        "\n",
        "  plus_one_group = []\n",
        "  minus_one_group = []\n",
        "  for i in range(sols.shape[0]):\n",
        "    if np.sum(np.dot(A, sols[i].T))==abs_error:\n",
        "      plus_one_group.append(sols[i])\n",
        "    elif np.sum(np.dot(A, sols[i].T))==-abs_error:\n",
        "      minus_one_group.append(sols[i])\n",
        "\n",
        "  plus_one_group = np.array(plus_one_group)\n",
        "  minus_one_group = np.array(minus_one_group)\n",
        "\n",
        "  new_sols = []\n",
        "\n",
        "  for i in range(plus_one_group.shape[0]):\n",
        "    for j in range(i, plus_one_group.shape[0]):\n",
        "      curr_sol = plus_one_group[i] - plus_one_group[j]\n",
        "      if np.sum(np.abs(np.dot(A, curr_sol.T)))==0:\n",
        "        new_sols.append(curr_sol)\n",
        "        new_sols.append(-curr_sol)\n",
        "\n",
        "  for i in range(minus_one_group.shape[0]):\n",
        "    for j in range(i, minus_one_group.shape[0]):\n",
        "      curr_sol = minus_one_group[i] - minus_one_group[j]\n",
        "      if np.sum(np.abs(np.dot(A, curr_sol.T)))==0:\n",
        "        new_sols.append(curr_sol)\n",
        "        new_sols.append(-curr_sol)\n",
        "\n",
        "  for i in range(plus_one_group.shape[0]):\n",
        "    for j in range(minus_one_group.shape[0]):\n",
        "      curr_sol = plus_one_group[i] + minus_one_group[j]\n",
        "      if np.sum(np.abs(np.dot(A, curr_sol.T)))==0:\n",
        "        new_sols.append(curr_sol)\n",
        "\n",
        "  new_sols = np.array(new_sols)\n",
        "  return new_sols"
      ],
      "metadata": {
        "id": "kzd__rqm3fnj"
      },
      "execution_count": 21,
      "outputs": []
    },
    {
      "cell_type": "code",
      "source": [
        "def graver_multiseed_augmentation(feas_sols, graver_elems, const, f):\n",
        "\n",
        "  if len(feas_sols)==0:\n",
        "    print('No feasible solutions to augment')\n",
        "    return\n",
        "\n",
        "  init_obj = np.zeros((len(feas_sols)))\n",
        "  iters_full = np.zeros((len(feas_sols)))\n",
        "  final_obj_full = np.zeros((len(feas_sols)))\n",
        "  times_full = np.zeros((len(feas_sols)))\n",
        "  final_sols = np.zeros(shape=(len(feas_sols), feas_sols[0].shape[0]))\n",
        "\n",
        "  for i, sol in enumerate(feas_sols):\n",
        "    if not const(sol):\n",
        "      print(\"Infeasible\")\n",
        "      pass\n",
        "    init_obj[i] = f(sol)\n",
        "    start = time.process_time()\n",
        "    iter, f_obj, xf = augmentation(grav = graver_elems, func = f, x = sol,\n",
        "                                   x_lo = np.zeros(feas_sols[0].shape[0]),\n",
        "                                   x_up = np.ones(feas_sols[0].shape[0]),\n",
        "                                   VERBOSE=False)\n",
        "    times_full[i] = time.process_time() - start\n",
        "    iters_full[i] = iter\n",
        "    final_obj_full[i] = f_obj\n",
        "    final_sols[i, :] = xf\n",
        "\n",
        "  return (final_sols, final_obj_full)"
      ],
      "metadata": {
        "id": "7uRg0rbMSW7Z"
      },
      "execution_count": 22,
      "outputs": []
    },
    {
      "cell_type": "markdown",
      "source": [
        "# CVRP with exactly k vehicles"
      ],
      "metadata": {
        "id": "ARv-ITxH3BRW"
      }
    },
    {
      "cell_type": "markdown",
      "source": [
        "## Formulation"
      ],
      "metadata": {
        "id": "ZgLVN3C8ef17"
      }
    },
    {
      "cell_type": "markdown",
      "source": [
        "\\begin{alignat*}{2}\n",
        "\\text{Minimize} \\quad & \\sum_{i, j} c_{ij}x_{ij} \\\\\n",
        "\\text{subject to} \\quad & \\sum_{j \\in N^{+}(0)} x_{0j} = k \\\\\n",
        "& \\sum_{j \\in N^{-}(0)} x_{j0} = k \\\\\n",
        "& \\sum_{j \\in N^{+}(i)} x_{ij} = 1 \\quad \\forall i=1, \\dots, n-1 \\\\\n",
        "& \\sum_{i \\in N^{-}(j)} x_{ij} = 1 \\quad \\forall j=1, \\dots, n-1 \\\\\n",
        "& u_i - u_j + Cx_{ij} \\leq C - d_j \\quad \\forall i \\neq j \\in \\{1, \\dots, n-1\\}, \\,\\, \\text{with} \\,\\, d_i+d_j\\leq C\\\\\n",
        "& d_i \\leq u_i \\leq C \\quad \\forall i=1, \\dots, n-1\\\\\n",
        "& u_i \\in \\mathbf{Z}_{+} \\quad \\forall i=1, \\dots, n-1\\\\\n",
        "& x_{ij} \\in \\{0, 1\\} \\quad \\forall i,j=0, \\dots, n-1\n",
        "\\end{alignat*}"
      ],
      "metadata": {
        "id": "zMsqEnffehhz"
      }
    },
    {
      "cell_type": "markdown",
      "source": [
        "## Gurobi"
      ],
      "metadata": {
        "id": "YXY5O8zNR3e2"
      }
    },
    {
      "cell_type": "code",
      "source": [
        "# Declare and initialize model\n",
        "m = gp.Model('VRP')"
      ],
      "metadata": {
        "id": "CriudpPF1Cmj",
        "colab": {
          "base_uri": "https://localhost:8080/"
        },
        "outputId": "55f94ab0-f6de-4b01-fa1c-24f7655554d3"
      },
      "execution_count": 23,
      "outputs": [
        {
          "output_type": "stream",
          "name": "stdout",
          "text": [
            "Restricted license - for non-production use only - expires 2024-10-28\n"
          ]
        }
      ]
    },
    {
      "cell_type": "markdown",
      "source": [
        "### Decision variables"
      ],
      "metadata": {
        "id": "phVmRrYb1W6t"
      }
    },
    {
      "cell_type": "code",
      "source": [
        "# Create decision variables\n",
        "\n",
        "# edge variables\n",
        "x = {}\n",
        "for i in range(n):\n",
        "  for j in range(n):\n",
        "    if E[i,j]!=0 and i!=j:\n",
        "      x[(i,j)] = m.addVar(vtype=GRB.BINARY, name=f\"x[{i},{j}]\")\n",
        "\n",
        "# capacity variables\n",
        "u = {}\n",
        "for i in range(1, n):\n",
        "  u[i] = m.addVar(vtype=GRB.INTEGER, name=f\"u[{i}]\")\n",
        "\n",
        "# update model\n",
        "m.update()"
      ],
      "metadata": {
        "id": "k1jgrHw31KM5"
      },
      "execution_count": 24,
      "outputs": []
    },
    {
      "cell_type": "markdown",
      "source": [
        "### Constraints"
      ],
      "metadata": {
        "id": "-eGr-OgQ1bFS"
      }
    },
    {
      "cell_type": "code",
      "source": [
        "# k vehicle departing from depot\n",
        "m.addConstr(sum(x[(0, j)] for j in range(1, n) if E[0, j]!=0) == k, name='leave_depot')\n",
        "\n",
        "# k vehicle returning to depot\n",
        "m.addConstr(sum(x[(j, 0)] for j in range(1, n) if E[j, 0]!=0) == k, name='return_depot')\n",
        "\n",
        "# only one vehicle on edge (i, j) for every (i, j)\n",
        "m.addConstrs((sum(x[(i, j)] for i in range(n) if E[i, j]!=0 and i!=j) == 1 for j in range(1, n)), name='enter_node')\n",
        "m.addConstrs((sum(x[(i, j)] for j in range(n) if E[i, j]!=0 and i!=j) == 1 for i in range(1, n)), name='leave_node')\n",
        "\n",
        "# Capacity Cut Constraints\n",
        "m.addConstrs(((u[i]-u[j]+C*x[(i,j)] <= C-d[j]) for i in range(1, n) for j in range(1, n) if E[i,j]!=0 and i!=j and d[i]+d[j]<=C), name='CCCs')\n",
        "m.addConstrs(((d[i] - u[i] <= 0) for i in range(1, n)), name='capacity_constraints_lb')\n",
        "m.addConstrs(((u[i] <= C) for i in range(1, n)), name='capacity_constraints_ub')\n",
        "\n",
        "# update model\n",
        "m.update()"
      ],
      "metadata": {
        "id": "TlR1rJSW1Rvd"
      },
      "execution_count": 25,
      "outputs": []
    },
    {
      "cell_type": "markdown",
      "source": [
        "### Objective function"
      ],
      "metadata": {
        "id": "AMLDhZlH2_eL"
      }
    },
    {
      "cell_type": "code",
      "source": [
        "# Objective: minimize total cost of all assignments\n",
        "obj = np.sum([E[i,j]*x[i,j]\n",
        "              for i in range(n)\n",
        "              for j in range(n) if E[i,j]!=0 and i!=j])\n",
        "\n",
        "m.setObjective(obj, GRB.MINIMIZE)\n",
        "\n",
        "# update model\n",
        "m.update()"
      ],
      "metadata": {
        "id": "PXUHDvjE3Bjb"
      },
      "execution_count": 26,
      "outputs": []
    },
    {
      "cell_type": "markdown",
      "source": [
        "### Optimize"
      ],
      "metadata": {
        "id": "ClDyMvak3WKY"
      }
    },
    {
      "cell_type": "code",
      "source": [
        "# Save model for inspection\n",
        "m.write('VRP.lp')"
      ],
      "metadata": {
        "id": "JRndLZpv3P5x"
      },
      "execution_count": 27,
      "outputs": []
    },
    {
      "cell_type": "code",
      "source": [
        "# Run optimization engine\n",
        "m.optimize()"
      ],
      "metadata": {
        "colab": {
          "base_uri": "https://localhost:8080/"
        },
        "id": "nro2u7rv3X-K",
        "outputId": "496e8321-87ed-488e-db70-f5ddd301aaf9"
      },
      "execution_count": 28,
      "outputs": [
        {
          "output_type": "stream",
          "name": "stdout",
          "text": [
            "Gurobi Optimizer version 10.0.2 build v10.0.2rc0 (linux64)\n",
            "\n",
            "CPU model: Intel(R) Xeon(R) CPU @ 2.20GHz, instruction set [SSE2|AVX|AVX2]\n",
            "Thread count: 1 physical cores, 2 logical processors, using up to 2 threads\n",
            "\n",
            "Optimize a model with 30 rows, 24 columns and 84 nonzeros\n",
            "Model fingerprint: 0x7059dd43\n",
            "Variable types: 0 continuous, 24 integer (20 binary)\n",
            "Coefficient statistics:\n",
            "  Matrix range     [1e+00, 5e+00]\n",
            "  Objective range  [3e+00, 1e+01]\n",
            "  Bounds range     [1e+00, 1e+00]\n",
            "  RHS range        [1e+00, 5e+00]\n",
            "Found heuristic solution: objective 71.0000000\n",
            "Presolve removed 8 rows and 0 columns\n",
            "Presolve time: 0.00s\n",
            "Presolved: 22 rows, 24 columns, 76 nonzeros\n",
            "Variable types: 0 continuous, 24 integer (20 binary)\n",
            "\n",
            "Root relaxation: objective 4.840000e+01, 12 iterations, 0.00 seconds (0.00 work units)\n",
            "\n",
            "    Nodes    |    Current Node    |     Objective Bounds      |     Work\n",
            " Expl Unexpl |  Obj  Depth IntInf | Incumbent    BestBd   Gap | It/Node Time\n",
            "\n",
            "     0     0   48.40000    0    4   71.00000   48.40000  31.8%     -    0s\n",
            "H    0     0                      51.0000000   48.40000  5.10%     -    0s\n",
            "H    0     0                      49.0000000   48.40000  1.22%     -    0s\n",
            "     0     0   48.40000    0    4   49.00000   48.40000  1.22%     -    0s\n",
            "\n",
            "Explored 1 nodes (12 simplex iterations) in 0.03 seconds (0.00 work units)\n",
            "Thread count was 2 (of 2 available processors)\n",
            "\n",
            "Solution count 3: 49 51 71 \n",
            "\n",
            "Optimal solution found (tolerance 1.00e-04)\n",
            "Best objective 4.900000000000e+01, best bound 4.900000000000e+01, gap 0.0000%\n"
          ]
        }
      ]
    },
    {
      "cell_type": "markdown",
      "source": [
        "### Routes"
      ],
      "metadata": {
        "id": "9HOh7lP06fQN"
      }
    },
    {
      "cell_type": "code",
      "source": [
        "# get non zero decision variables (only x's)\n",
        "routes = []\n",
        "for v in m.getVars():\n",
        "  if v.varName[0]=='x' and v.x > 1e-6:\n",
        "    nodes_indices = re.findall(r'\\d+', v.varName)\n",
        "    routes.append((int(nodes_indices[0]), int(nodes_indices[1])))\n",
        "\n",
        "is_valid_routing(routes)"
      ],
      "metadata": {
        "colab": {
          "base_uri": "https://localhost:8080/"
        },
        "id": "DxOgCraw_5uS",
        "outputId": "586305ec-80aa-44d5-8f8c-076f7e3c2b7f"
      },
      "execution_count": 29,
      "outputs": [
        {
          "output_type": "execute_result",
          "data": {
            "text/plain": [
              "(True, [[0, 1, 3, 2, 0], [0, 4, 0]])"
            ]
          },
          "metadata": {},
          "execution_count": 29
        }
      ]
    },
    {
      "cell_type": "markdown",
      "source": [
        "## QUBO"
      ],
      "metadata": {
        "id": "7awFsqQoakWv"
      }
    },
    {
      "cell_type": "markdown",
      "source": [
        "### Define the variables"
      ],
      "metadata": {
        "id": "RVZT0NQtTkej"
      }
    },
    {
      "cell_type": "code",
      "source": [
        "# create QUBO variables for the edges\n",
        "x = {}\n",
        "for i in range(n):\n",
        "  for j in range(n):\n",
        "    if i!=j:\n",
        "      x[(i,j)] = Binary(f'x[{i},{j}]')\n",
        "\n",
        "# create QUBO variables for CCCs\n",
        "# since each u[i] is Integer, we need to encode it using binary variables\n",
        "# we use logarithmic encoding to reduce the number of variables\n",
        "u = {}\n",
        "for i in range(1, n):\n",
        "  u[i] = LogEncInteger(f'u[{i}]', (int(d[i]), C))\n",
        "\n",
        "# we also need to introduce slack variables for the CCCs\n",
        "# Normally the slack variables would be integer, so we need\n",
        "# to binary encode them too. As before, we use logarithmic encoding\n",
        "s = {}\n",
        "for i in range(1, n):\n",
        "  for j in range(1, n):\n",
        "    if E[i,j]!=0 and i!=j and d[i]+d[j]<=C:\n",
        "      s[(i, j)] = LogEncInteger(f's[({i}, {j})]', (-C, 2*C-int(d[i])-int(d[j])))\n",
        "\n",
        "# penalty factors for QUBO\n",
        "p = np.sum(E)+1\n",
        "# p = n*np.max(E)"
      ],
      "metadata": {
        "id": "Szl_86Wcpud9"
      },
      "execution_count": 30,
      "outputs": []
    },
    {
      "cell_type": "markdown",
      "source": [
        "### Build the matrix"
      ],
      "metadata": {
        "id": "iECTCpbh__f7"
      }
    },
    {
      "cell_type": "code",
      "source": [
        "# build QUBO by manually adding objective and constraints\n",
        "\n",
        "# define objective function\n",
        "obj = sum(E[i,j]*x[(i,j)] for i in range(n) for j in range(n) if E[i,j]!=0 and i!=j)\n",
        "\n",
        "# add the objective\n",
        "Q =  obj\n",
        "\n",
        "# add the constraints\n",
        "# penalize the usage of non-existing edges, if there are any\n",
        "if len([1 for i in range(n) for j in range(n) if i!=j and E[i,j]==0])>0:\n",
        "  Q += p*(Constraint(sum([x[(i, j)] for i in range(n) for j in range(n) if E[i, j]==0 and i!=j]), label='non_existing_edges'))\n",
        "\n",
        "# k vehicles leaving the depot\n",
        "Q += p*(Constraint((sum([x[(0, j)] for j in range(1, n) if E[0, j]!=0])-k)**2, label='leave_depot'))\n",
        "\n",
        "# k vehicles returning to depot\n",
        "Q += p*(Constraint((sum([x[(j, 0)] for j in range(1, n) if E[j, 0]!=0])-k)**2, label='return_depot'))\n",
        "\n",
        "# only one edge coming out from each node\n",
        "Q += p*sum([Constraint((sum([x[(i, j)] for j in range(n) if j!=i and E[i, j]!=0])-1)**2, label=f'leave_node_{i}') for i in range(1, n)])\n",
        "\n",
        "# only one edge entering each node\n",
        "Q += p*sum([Constraint((sum([x[(i, j)] for i in range(n) if i!=j and E[i, j]!=0])-1)**2, label=f'enter_node_{j}') for j in range(1, n)])\n",
        "\n",
        "# Capacity Cut Constraints\n",
        "Q += p*sum([Constraint((u[i] - u[j] + C*x[(i,j)] + s[(i,j)] - C + d[j])**2,\n",
        "                       label=f'CCC({i},{j})') for i in range(1, n) for j in range(1, n)\n",
        "                       if E[i,j]!=0 and i!=j and d[i]+d[j]<=C])"
      ],
      "metadata": {
        "id": "689z6-RkamWw"
      },
      "execution_count": 31,
      "outputs": []
    },
    {
      "cell_type": "code",
      "source": [
        "# get QUBO matrix\n",
        "model = Q.compile()\n",
        "Q, offset = model.to_qubo()\n",
        "Q"
      ],
      "metadata": {
        "colab": {
          "base_uri": "https://localhost:8080/"
        },
        "id": "yIm6Yy8DgUkW",
        "outputId": "6858be69-eca3-43f8-c7ad-68164ff025b6"
      },
      "execution_count": 32,
      "outputs": [
        {
          "output_type": "execute_result",
          "data": {
            "text/plain": [
              "{('s[(1, 4)][0]', 'x[1,4]'): 1910.0,\n",
              " ('x[4,2]', 'u[2][0]'): -1910.0,\n",
              " ('u[1][1]', 'x[2,1]'): -3820.0,\n",
              " ('u[3][2]', 's[(3, 4)][3]'): 2292.0,\n",
              " ('u[1][0]', 'u[1][0]'): 1146.0,\n",
              " ('x[2,3]', 'x[1,3]'): 382.0,\n",
              " ('u[2][0]', 's[(1, 2)][2]'): -1528.0,\n",
              " ('u[4][2]', 's[(2, 4)][1]'): -764.0,\n",
              " ('u[1][0]', 's[(1, 2)][2]'): 1528.0,\n",
              " ('u[1][2]', 'u[1][2]'): 1146.0,\n",
              " ('x[4,0]', 'x[4,0]'): -752.0,\n",
              " ('u[4][2]', 's[(1, 4)][1]'): -764.0,\n",
              " ('u[2][2]', 's[(2, 3)][0]'): 382.0,\n",
              " ('u[4][2]', 's[(2, 4)][2]'): -1528.0,\n",
              " ('s[(2, 4)][1]', 's[(2, 4)][0]'): 764.0,\n",
              " ('s[(1, 2)][3]', 'x[1,2]'): 11460.0,\n",
              " ('u[3][1]', 'u[1][2]'): -1528.0,\n",
              " ('x[1,2]', 'x[0,2]'): 382.0,\n",
              " ('u[4][0]', 'x[1,4]'): -1910.0,\n",
              " ('u[1][1]', 's[(2, 1)][3]'): -4584.0,\n",
              " ('s[(3, 1)][1]', 's[(3, 1)][0]'): 764.0,\n",
              " ('x[0,4]', 'x[0,3]'): 382.0,\n",
              " ('u[3][0]', 's[(1, 3)][0]'): -382.0,\n",
              " ('u[3][2]', 's[(2, 3)][2]'): -1528.0,\n",
              " ('s[(4, 3)][3]', 's[(4, 3)][1]'): 4584.0,\n",
              " ('x[4,3]', 'x[4,3]'): -12788.0,\n",
              " ('s[(1, 3)][3]', 's[(1, 3)][1]'): 4584.0,\n",
              " ('s[(4, 2)][1]', 's[(4, 2)][0]'): 764.0,\n",
              " ('x[4,3]', 'x[4,0]'): 382.0,\n",
              " ('u[2][2]', 'u[1][1]'): -1528.0,\n",
              " ('u[3][1]', 's[(3, 4)][3]'): 4584.0,\n",
              " ('x[4,3]', 'u[4][0]'): 1910.0,\n",
              " ('s[(4, 2)][1]', 'u[2][0]'): -764.0,\n",
              " ('s[(3, 1)][3]', 's[(3, 1)][0]'): 2292.0,\n",
              " ('u[2][1]', 's[(2, 3)][2]'): 3056.0,\n",
              " ('x[4,3]', 'x[4,1]'): 382.0,\n",
              " ('u[2][2]', 's[(1, 2)][2]'): -1528.0,\n",
              " ('u[1][0]', 's[(2, 1)][2]'): -1528.0,\n",
              " ('u[4][2]', 'u[3][2]'): -764.0,\n",
              " ('s[(1, 3)][1]', 'x[1,3]'): 3820.0,\n",
              " ('u[4][0]', 'u[1][1]'): -1528.0,\n",
              " ('u[2][0]', 'x[1,2]'): -1910.0,\n",
              " ('x[3,1]', 'x[2,1]'): 382.0,\n",
              " ('u[2][1]', 's[(2, 1)][0]'): 764.0,\n",
              " ('s[(4, 1)][1]', 'u[1][0]'): -764.0,\n",
              " ('u[4][1]', 's[(4, 2)][2]'): 3056.0,\n",
              " ('s[(4, 3)][1]', 'u[3][0]'): -764.0,\n",
              " ('u[3][2]', 's[(2, 3)][1]'): -764.0,\n",
              " ('u[4][2]', 'u[2][2]'): -764.0,\n",
              " ('s[(2, 4)][2]', 's[(2, 4)][0]'): 1528.0,\n",
              " ('s[(4, 3)][2]', 's[(4, 3)][2]'): -10696.0,\n",
              " ('u[4][0]', 's[(3, 4)][2]'): -1528.0,\n",
              " ('u[3][0]', 's[(3, 4)][3]'): 2292.0,\n",
              " ('x[3,4]', 'x[0,4]'): 382.0,\n",
              " ('s[(3, 2)][0]', 'x[3,2]'): 1910.0,\n",
              " ('x[1,4]', 'x[1,0]'): 382.0,\n",
              " ('s[(4, 3)][0]', 'u[4][0]'): 382.0,\n",
              " ('u[4][2]', 'x[4,1]'): 1910.0,\n",
              " ('u[1][1]', 's[(3, 1)][0]'): -764.0,\n",
              " ('u[1][0]', 'x[3,1]'): -1910.0,\n",
              " ('s[(4, 3)][2]', 'u[3][1]'): -3056.0,\n",
              " ('x[0,4]', 'x[0,1]'): 382.0,\n",
              " ('s[(4, 3)][3]', 's[(4, 3)][3]'): -13752.0,\n",
              " ('s[(4, 3)][0]', 'u[3][1]'): -764.0,\n",
              " ('x[2,1]', 'x[0,1]'): 382.0,\n",
              " ('x[4,3]', 'u[3][1]'): -3820.0,\n",
              " ('u[4][2]', 's[(4, 2)][3]'): 2292.0,\n",
              " ('u[3][0]', 'u[2][2]'): -764.0,\n",
              " ('u[3][0]', 's[(3, 1)][3]'): 2292.0,\n",
              " ('u[3][2]', 's[(3, 4)][1]'): 764.0,\n",
              " ('u[4][1]', 'x[3,4]'): -3820.0,\n",
              " ('x[3,0]', 'x[1,0]'): 382.0,\n",
              " ('s[(2, 4)][2]', 'x[2,4]'): 7640.0,\n",
              " ('u[3][0]', 's[(3, 2)][0]'): 382.0,\n",
              " ('u[4][1]', 'u[2][0]'): -1528.0,\n",
              " ('u[2][0]', 's[(2, 1)][2]'): 1528.0,\n",
              " ('s[(4, 1)][2]', 'u[1][1]'): -3056.0,\n",
              " ('u[3][2]', 'u[2][1]'): -1528.0,\n",
              " ('u[3][2]', 'x[2,3]'): -1910.0,\n",
              " ('u[2][1]', 's[(1, 2)][0]'): -764.0,\n",
              " ('u[1][1]', 's[(3, 1)][1]'): -1528.0,\n",
              " ('s[(1, 3)][3]', 's[(1, 3)][3]'): -13752.0,\n",
              " ('u[1][1]', 'x[1,2]'): 3820.0,\n",
              " ('u[3][2]', 's[(1, 3)][0]'): -382.0,\n",
              " ('s[(4, 2)][2]', 'x[4,2]'): 7640.0,\n",
              " ('u[4][0]', 'x[4,2]'): 1910.0,\n",
              " ('u[3][0]', 's[(3, 2)][1]'): 764.0,\n",
              " ('u[2][0]', 'x[2,1]'): 1910.0,\n",
              " ('u[3][1]', 'x[1,3]'): -3820.0,\n",
              " ('x[3,0]', 'x[2,0]'): 382.0,\n",
              " ('s[(1, 2)][1]', 'x[1,2]'): 3820.0,\n",
              " ('s[(2, 4)][1]', 'x[2,4]'): 3820.0,\n",
              " ('u[3][1]', 's[(2, 3)][3]'): -4584.0,\n",
              " ('u[4][1]', 'x[2,4]'): -3820.0,\n",
              " ('u[2][1]', 's[(1, 2)][3]'): -4584.0,\n",
              " ('u[2][2]', 's[(3, 2)][1]'): -764.0,\n",
              " ('s[(4, 3)][1]', 's[(4, 3)][0]'): 764.0,\n",
              " ('u[2][2]', 's[(2, 4)][3]'): 2292.0,\n",
              " ('s[(1, 4)][2]', 's[(1, 4)][0]'): 1528.0,\n",
              " ('s[(3, 1)][3]', 'x[3,1]'): 11460.0,\n",
              " ('s[(4, 1)][2]', 's[(4, 1)][1]'): 3056.0,\n",
              " ('s[(4, 1)][0]', 'u[1][1]'): -764.0,\n",
              " ('x[4,3]', 'u[4][1]'): 3820.0,\n",
              " ('u[3][1]', 's[(2, 3)][1]'): -1528.0,\n",
              " ('u[2][0]', 'x[2,4]'): 1910.0,\n",
              " ('s[(2, 4)][3]', 's[(2, 4)][2]'): 9168.0,\n",
              " ('u[1][2]', 's[(1, 3)][2]'): 1528.0,\n",
              " ('s[(4, 1)][2]', 'u[1][2]'): -1528.0,\n",
              " ('s[(4, 3)][2]', 'u[3][0]'): -1528.0,\n",
              " ('s[(4, 2)][0]', 'u[2][2]'): -382.0,\n",
              " ('u[4][0]', 's[(3, 4)][0]'): -382.0,\n",
              " ('s[(3, 2)][3]', 's[(3, 2)][0]'): 2292.0,\n",
              " ('u[2][1]', 's[(2, 4)][0]'): 764.0,\n",
              " ('u[1][2]', 's[(2, 1)][1]'): -764.0,\n",
              " ('u[1][1]', 's[(1, 4)][0]'): 764.0,\n",
              " ('u[4][0]', 'x[3,4]'): -1910.0,\n",
              " ('x[3,0]', 'x[3,0]'): -750.0,\n",
              " ('s[(1, 2)][1]', 's[(1, 2)][0]'): 764.0,\n",
              " ('u[4][2]', 'x[1,4]'): -1910.0,\n",
              " ('x[2,1]', 'x[2,1]'): -12788.0,\n",
              " ('s[(3, 4)][3]', 's[(3, 4)][1]'): 4584.0,\n",
              " ('u[2][0]', 'x[3,2]'): -1910.0,\n",
              " ('s[(3, 1)][2]', 'x[3,1]'): 7640.0,\n",
              " ('x[0,3]', 'x[0,2]'): 382.0,\n",
              " ('u[3][2]', 'u[1][0]'): -764.0,\n",
              " ('u[2][2]', 's[(2, 3)][2]'): 1528.0,\n",
              " ('u[3][0]', 's[(2, 3)][1]'): -764.0,\n",
              " ('u[1][1]', 'u[1][1]'): 4584.0,\n",
              " ('s[(3, 4)][2]', 's[(3, 4)][2]'): -10696.0,\n",
              " ('s[(1, 4)][3]', 'x[1,4]'): 11460.0,\n",
              " ('u[3][1]', 's[(3, 2)][1]'): 1528.0,\n",
              " ('u[3][1]', 's[(1, 3)][0]'): -764.0,\n",
              " ('x[1,3]', 'x[1,0]'): 382.0,\n",
              " ('u[4][0]', 's[(1, 4)][0]'): -382.0,\n",
              " ('u[1][0]', 's[(1, 4)][2]'): 1528.0,\n",
              " ('u[3][1]', 'u[2][2]'): -1528.0,\n",
              " ('s[(4, 2)][2]', 'u[2][1]'): -3056.0,\n",
              " ('s[(4, 3)][0]', 'u[4][1]'): 764.0,\n",
              " ('u[4][1]', 's[(4, 1)][0]'): 764.0,\n",
              " ('x[2,0]', 'x[2,0]'): -756.0,\n",
              " ('x[2,4]', 'x[2,4]'): -12785.0,\n",
              " ('x[0,3]', 'x[0,1]'): 382.0,\n",
              " ('u[4][1]', 'u[2][1]'): -3056.0,\n",
              " ('x[3,4]', 'x[3,4]'): -12788.0,\n",
              " ('u[1][0]', 's[(1, 3)][0]'): 382.0,\n",
              " ('u[2][2]', 's[(2, 1)][3]'): 2292.0,\n",
              " ('s[(4, 1)][0]', 'u[1][2]'): -382.0,\n",
              " ('u[3][1]', 'x[2,3]'): -3820.0,\n",
              " ('u[1][2]', 's[(1, 2)][0]'): 382.0,\n",
              " ('u[2][2]', 's[(1, 2)][1]'): -764.0,\n",
              " ('u[4][2]', 'u[1][1]'): -1528.0,\n",
              " ('s[(4, 3)][3]', 's[(4, 3)][0]'): 2292.0,\n",
              " ('u[1][2]', 'x[1,2]'): 1910.0,\n",
              " ('x[3,2]', 'x[3,1]'): 382.0,\n",
              " ('u[2][0]', 'u[1][0]'): -764.0,\n",
              " ('s[(3, 4)][2]', 'x[3,4]'): 7640.0,\n",
              " ('x[4,2]', 'u[2][1]'): -3820.0,\n",
              " ('u[2][2]', 's[(2, 4)][2]'): 1528.0,\n",
              " ('s[(4, 2)][3]', 'u[2][1]'): -4584.0,\n",
              " ('u[4][0]', 'u[3][0]'): -764.0,\n",
              " ('u[2][2]', 's[(1, 2)][3]'): -2292.0,\n",
              " ('u[3][2]', 'u[3][0]'): 2292.0,\n",
              " ('u[1][2]', 'u[1][0]'): 2292.0,\n",
              " ('u[3][1]', 's[(3, 2)][0]'): 764.0,\n",
              " ('x[1,3]', 'x[1,2]'): 382.0,\n",
              " ('u[1][1]', 's[(1, 2)][1]'): 1528.0,\n",
              " ('u[3][0]', 's[(3, 1)][1]'): 764.0,\n",
              " ('u[1][1]', 's[(1, 2)][0]'): 764.0,\n",
              " ('u[1][2]', 'x[1,3]'): 1910.0,\n",
              " ('u[1][0]', 's[(2, 1)][1]'): -764.0,\n",
              " ('u[4][2]', 's[(2, 4)][0]'): -382.0,\n",
              " ('u[4][0]', 'u[2][2]'): -764.0,\n",
              " ('u[4][1]', 'u[2][2]'): -1528.0,\n",
              " ('u[1][1]', 's[(1, 4)][2]'): 3056.0,\n",
              " ('x[4,1]', 'x[4,0]'): 382.0,\n",
              " ('u[3][0]', 'u[2][0]'): -764.0,\n",
              " ('u[4][0]', 'x[2,4]'): -1910.0,\n",
              " ('s[(3, 1)][1]', 's[(3, 1)][1]'): -6112.0,\n",
              " ('u[1][0]', 's[(1, 4)][3]'): 2292.0,\n",
              " ('s[(4, 1)][2]', 'u[1][0]'): -1528.0,\n",
              " ('s[(4, 1)][1]', 'u[1][2]'): -764.0,\n",
              " ('s[(4, 1)][3]', 'u[1][1]'): -4584.0,\n",
              " ('u[1][1]', 's[(1, 4)][3]'): 4584.0,\n",
              " ('u[2][1]', 's[(1, 2)][2]'): -3056.0,\n",
              " ('u[4][1]', 's[(3, 4)][1]'): -1528.0,\n",
              " ('u[4][1]', 'u[3][0]'): -1528.0,\n",
              " ('u[3][1]', 'u[3][0]'): 4584.0,\n",
              " ('u[4][0]', 's[(2, 4)][1]'): -764.0,\n",
              " ('s[(3, 1)][2]', 's[(3, 1)][2]'): -10696.0,\n",
              " ('u[3][0]', 'u[2][1]'): -1528.0,\n",
              " ('s[(4, 3)][3]', 'x[4,3]'): 11460.0,\n",
              " ('s[(1, 4)][3]', 's[(1, 4)][0]'): 2292.0,\n",
              " ('u[4][1]', 'u[3][1]'): -3056.0,\n",
              " ('s[(4, 2)][0]', 'u[2][1]'): -764.0,\n",
              " ('u[4][2]', 'u[4][1]'): 4584.0,\n",
              " ('u[1][0]', 'x[1,2]'): 1910.0,\n",
              " ('x[4,0]', 'x[3,0]'): 382.0,\n",
              " ('x[4,2]', 'x[4,1]'): 382.0,\n",
              " ('s[(4, 3)][2]', 's[(4, 3)][0]'): 1528.0,\n",
              " ('u[3][2]', 's[(3, 4)][0]'): 382.0,\n",
              " ('x[4,3]', 'x[0,3]'): 382.0,\n",
              " ('s[(3, 1)][3]', 's[(3, 1)][3]'): -13752.0,\n",
              " ('s[(4, 3)][2]', 'u[4][1]'): 3056.0,\n",
              " ('s[(4, 1)][2]', 's[(4, 1)][0]'): 1528.0,\n",
              " ('x[2,4]', 'x[2,1]'): 382.0,\n",
              " ('u[4][1]', 's[(3, 4)][0]'): -764.0,\n",
              " ('u[1][2]', 's[(1, 2)][3]'): 2292.0,\n",
              " ('s[(4, 3)][2]', 'u[4][2]'): 1528.0,\n",
              " ('u[3][0]', 'x[2,3]'): -1910.0,\n",
              " ('u[3][0]', 's[(3, 2)][2]'): 1528.0,\n",
              " ('u[2][0]', 's[(1, 2)][0]'): -382.0,\n",
              " ('u[3][2]', 'u[2][0]'): -764.0,\n",
              " ('s[(4, 3)][0]', 'u[4][2]'): 382.0,\n",
              " ('s[(4, 2)][2]', 's[(4, 2)][2]'): -10696.0,\n",
              " ('u[4][2]', 'u[3][0]'): -764.0,\n",
              " ('u[1][1]', 's[(1, 3)][0]'): 764.0,\n",
              " ('s[(3, 4)][3]', 's[(3, 4)][3]'): -13752.0,\n",
              " ('u[4][0]', 'u[3][1]'): -1528.0,\n",
              " ('u[2][0]', 's[(2, 4)][3]'): 2292.0,\n",
              " ('s[(3, 4)][1]', 's[(3, 4)][1]'): -6112.0,\n",
              " ('u[2][0]', 'u[1][2]'): -764.0,\n",
              " ('x[3,1]', 'x[0,1]'): 382.0,\n",
              " ('u[4][1]', 'u[1][2]'): -1528.0,\n",
              " ('u[1][2]', 's[(2, 1)][0]'): -382.0,\n",
              " ('u[4][0]', 's[(2, 4)][2]'): -1528.0,\n",
              " ('u[1][0]', 's[(3, 1)][0]'): -382.0,\n",
              " ('u[3][1]', 'x[3,2]'): 3820.0,\n",
              " ('s[(3, 2)][2]', 's[(3, 2)][2]'): -10696.0,\n",
              " ('u[1][0]', 's[(1, 3)][1]'): 764.0,\n",
              " ('u[2][0]', 's[(3, 2)][3]'): -2292.0,\n",
              " ('s[(4, 3)][0]', 'x[4,3]'): 1910.0,\n",
              " ('u[2][1]', 's[(2, 1)][2]'): 3056.0,\n",
              " ('u[1][1]', 's[(1, 3)][2]'): 3056.0,\n",
              " ('u[1][1]', 's[(1, 3)][3]'): 4584.0,\n",
              " ('u[2][1]', 'u[1][2]'): -1528.0,\n",
              " ('u[3][0]', 's[(3, 4)][0]'): 382.0,\n",
              " ('u[3][1]', 's[(3, 4)][2]'): 3056.0,\n",
              " ('u[2][1]', 'u[1][0]'): -1528.0,\n",
              " ('s[(4, 2)][3]', 's[(4, 2)][2]'): 9168.0,\n",
              " ('u[2][1]', 's[(2, 3)][1]'): 1528.0,\n",
              " ('u[3][2]', 'x[3,2]'): 1910.0,\n",
              " ('u[2][1]', 's[(2, 3)][0]'): 764.0,\n",
              " ('u[4][1]', 's[(2, 4)][2]'): -3056.0,\n",
              " ('u[2][2]', 's[(2, 4)][0]'): 382.0,\n",
              " ('s[(3, 4)][3]', 's[(3, 4)][2]'): 9168.0,\n",
              " ('u[2][0]', 'u[1][1]'): -1528.0,\n",
              " ('s[(3, 4)][3]', 's[(3, 4)][0]'): 2292.0,\n",
              " ('s[(2, 1)][3]', 'x[2,1]'): 11460.0,\n",
              " ('s[(3, 1)][0]', 'x[3,1]'): 1910.0,\n",
              " ('u[4][0]', 's[(2, 4)][0]'): -382.0,\n",
              " ('s[(2, 1)][3]', 's[(2, 1)][3]'): -13752.0,\n",
              " ('x[2,3]', 'x[2,1]'): 382.0,\n",
              " ('s[(4, 2)][3]', 'x[4,2]'): 11460.0,\n",
              " ('u[3][2]', 'u[1][2]'): -764.0,\n",
              " ('s[(1, 4)][0]', 's[(1, 4)][0]'): -3247.0,\n",
              " ('u[2][2]', 's[(2, 3)][1]'): 764.0,\n",
              " ('u[2][1]', 'u[2][1]'): 4584.0,\n",
              " ('x[1,2]', 'x[1,2]'): -12788.0,\n",
              " ('u[3][2]', 's[(1, 3)][2]'): -1528.0,\n",
              " ('u[3][1]', 's[(3, 1)][2]'): 3056.0,\n",
              " ('u[4][1]', 'u[3][2]'): -1528.0,\n",
              " ('s[(2, 4)][0]', 's[(2, 4)][0]'): -3247.0,\n",
              " ('u[3][0]', 's[(3, 1)][2]'): 1528.0,\n",
              " ('x[4,3]', 'u[4][2]'): 1910.0,\n",
              " ('s[(4, 3)][3]', 'u[3][2]'): -2292.0,\n",
              " ('u[3][2]', 's[(3, 2)][1]'): 764.0,\n",
              " ('u[4][0]', 's[(2, 4)][3]'): -2292.0,\n",
              " ('u[4][0]', 's[(4, 2)][2]'): 1528.0,\n",
              " ('u[4][2]', 's[(4, 1)][0]'): 382.0,\n",
              " ('u[3][2]', 's[(1, 3)][1]'): -764.0,\n",
              " ('u[2][1]', 'x[2,3]'): 3820.0,\n",
              " ('x[1,4]', 'x[1,3]'): 382.0,\n",
              " ('x[3,4]', 'x[3,1]'): 382.0,\n",
              " ('s[(1, 4)][3]', 's[(1, 4)][3]'): -13752.0,\n",
              " ('s[(4, 1)][2]', 'x[4,1]'): 7640.0,\n",
              " ('u[1][0]', 's[(1, 3)][3]'): 2292.0,\n",
              " ('x[3,4]', 'x[3,0]'): 382.0,\n",
              " ('x[4,2]', 'x[0,2]'): 382.0,\n",
              " ('u[3][2]', 'u[2][2]'): -764.0,\n",
              " ('u[1][1]', 's[(2, 1)][0]'): -764.0,\n",
              " ('u[4][2]', 'u[2][0]'): -764.0,\n",
              " ('s[(3, 1)][2]', 's[(3, 1)][1]'): 3056.0,\n",
              " ('s[(3, 2)][1]', 's[(3, 2)][0]'): 764.0,\n",
              " ('u[4][0]', 's[(4, 1)][1]'): 764.0,\n",
              " ('s[(1, 3)][3]', 's[(1, 3)][2]'): 9168.0,\n",
              " ('u[4][2]', 'x[2,4]'): -1910.0,\n",
              " ('u[1][2]', 's[(1, 4)][0]'): 382.0,\n",
              " ('u[4][1]', 's[(1, 4)][2]'): -3056.0,\n",
              " ('s[(3, 2)][1]', 's[(3, 2)][1]'): -6112.0,\n",
              " ('u[1][2]', 's[(3, 1)][1]'): -764.0,\n",
              " ('x[4,2]', 'x[4,0]'): 382.0,\n",
              " ('s[(3, 1)][0]', 's[(3, 1)][0]'): -3247.0,\n",
              " ('x[4,1]', 'u[1][2]'): -1910.0,\n",
              " ('s[(4, 3)][2]', 'u[3][2]'): -1528.0,\n",
              " ('u[4][1]', 's[(3, 4)][3]'): -4584.0,\n",
              " ('u[4][0]', 'u[4][0]'): 1146.0,\n",
              " ('x[0,3]', 'x[0,3]'): -750.0,\n",
              " ('s[(2, 1)][0]', 's[(2, 1)][0]'): -3247.0,\n",
              " ('u[2][1]', 'x[2,4]'): 3820.0,\n",
              " ('x[1,4]', 'x[1,4]'): -12783.0,\n",
              " ('s[(3, 2)][2]', 's[(3, 2)][0]'): 1528.0,\n",
              " ('u[3][0]', 'x[3,4]'): 1910.0,\n",
              " ('s[(4, 3)][2]', 's[(4, 3)][1]'): 3056.0,\n",
              " ('u[4][1]', 's[(2, 4)][3]'): -4584.0,\n",
              " ('u[2][1]', 's[(3, 2)][2]'): -3056.0,\n",
              " ('u[1][2]', 's[(3, 1)][0]'): -382.0,\n",
              " ('u[3][0]', 's[(3, 4)][1]'): 764.0,\n",
              " ('s[(1, 3)][2]', 's[(1, 3)][1]'): 3056.0,\n",
              " ('u[2][0]', 's[(2, 3)][1]'): 764.0,\n",
              " ('s[(2, 3)][2]', 's[(2, 3)][0]'): 1528.0,\n",
              " ('s[(2, 3)][0]', 'x[2,3]'): 1910.0,\n",
              " ('u[2][2]', 'x[2,1]'): 1910.0,\n",
              " ('u[2][2]', 'u[1][2]'): -764.0,\n",
              " ('u[2][2]', 'u[2][0]'): 2292.0,\n",
              " ('u[3][1]', 'x[3,4]'): 3820.0,\n",
              " ('s[(2, 3)][1]', 'x[2,3]'): 3820.0,\n",
              " ('u[4][2]', 's[(3, 4)][3]'): -2292.0,\n",
              " ('u[2][1]', 's[(3, 2)][0]'): -764.0,\n",
              " ('u[3][1]', 's[(3, 1)][3]'): 4584.0,\n",
              " ('x[4,3]', 'x[2,3]'): 382.0,\n",
              " ('u[1][0]', 's[(3, 1)][1]'): -764.0,\n",
              " ('u[1][0]', 's[(3, 1)][2]'): -1528.0,\n",
              " ('u[4][2]', 's[(4, 2)][1]'): 764.0,\n",
              " ('s[(4, 1)][3]', 's[(4, 1)][1]'): 4584.0,\n",
              " ('u[2][2]', 'x[1,2]'): -1910.0,\n",
              " ('u[4][1]', 's[(4, 2)][3]'): 4584.0,\n",
              " ('u[2][1]', 'x[2,1]'): 3820.0,\n",
              " ('u[3][1]', 's[(3, 4)][0]'): 764.0,\n",
              " ('x[2,4]', 'x[2,0]'): 382.0,\n",
              " ('x[1,4]', 'x[1,2]'): 382.0,\n",
              " ('s[(2, 4)][3]', 's[(2, 4)][1]'): 4584.0,\n",
              " ('u[3][0]', 'x[3,1]'): 1910.0,\n",
              " ('u[1][2]', 'u[1][1]'): 4584.0,\n",
              " ('x[1,3]', 'x[0,3]'): 382.0,\n",
              " ('s[(3, 2)][1]', 'x[3,2]'): 3820.0,\n",
              " ('s[(4, 2)][2]', 'u[2][2]'): -1528.0,\n",
              " ('x[4,2]', 'x[1,2]'): 382.0,\n",
              " ('s[(4, 2)][2]', 's[(4, 2)][0]'): 1528.0,\n",
              " ('u[4][2]', 'x[3,4]'): -1910.0,\n",
              " ('x[1,4]', 'x[0,4]'): 382.0,\n",
              " ('s[(4, 3)][0]', 's[(4, 3)][0]'): -3247.0,\n",
              " ('x[2,3]', 'x[2,0]'): 382.0,\n",
              " ('u[2][0]', 's[(3, 2)][2]'): -1528.0,\n",
              " ('u[4][2]', 'x[4,2]'): 1910.0,\n",
              " ('u[2][1]', 's[(2, 3)][3]'): 4584.0,\n",
              " ('u[1][2]', 's[(1, 2)][2]'): 1528.0,\n",
              " ('x[4,1]', 'x[2,1]'): 382.0,\n",
              " ('s[(3, 4)][2]', 's[(3, 4)][0]'): 1528.0,\n",
              " ('s[(4, 1)][3]', 'x[4,1]'): 11460.0,\n",
              " ('u[3][1]', 'u[2][1]'): -3056.0,\n",
              " ('u[2][2]', 's[(2, 4)][1]'): 764.0,\n",
              " ('u[4][1]', 'x[1,4]'): -3820.0,\n",
              " ('u[4][0]', 'u[1][2]'): -764.0,\n",
              " ('s[(2, 4)][3]', 's[(2, 4)][0]'): 2292.0,\n",
              " ('s[(4, 3)][1]', 's[(4, 3)][1]'): -6112.0,\n",
              " ('s[(4, 3)][1]', 'u[4][2]'): 764.0,\n",
              " ('u[4][1]', 'u[4][0]'): 4584.0,\n",
              " ('u[3][1]', 'u[1][1]'): -3056.0,\n",
              " ('s[(1, 2)][2]', 'x[1,2]'): 7640.0,\n",
              " ('u[4][0]', 's[(4, 2)][3]'): 2292.0,\n",
              " ('u[4][2]', 's[(3, 4)][2]'): -1528.0,\n",
              " ('x[0,2]', 'x[0,2]'): -756.0,\n",
              " ('u[2][1]', 's[(3, 2)][1]'): -1528.0,\n",
              " ('u[1][1]', 's[(3, 1)][2]'): -3056.0,\n",
              " ('x[4,0]', 'x[1,0]'): 382.0,\n",
              " ('s[(1, 2)][2]', 's[(1, 2)][1]'): 3056.0,\n",
              " ('s[(1, 4)][2]', 'x[1,4]'): 7640.0,\n",
              " ('s[(1, 2)][0]', 'x[1,2]'): 1910.0,\n",
              " ('s[(2, 3)][2]', 's[(2, 3)][2]'): -10696.0,\n",
              " ('u[4][0]', 's[(1, 4)][2]'): -1528.0,\n",
              " ('x[3,1]', 'x[3,1]'): -12793.0,\n",
              " ('x[2,1]', 'x[2,0]'): 382.0,\n",
              " ('s[(4, 3)][1]', 'u[4][0]'): 764.0,\n",
              " ('u[2][1]', 's[(2, 1)][1]'): 1528.0,\n",
              " ('u[4][2]', 's[(1, 4)][2]'): -1528.0,\n",
              " ('s[(4, 3)][1]', 'x[4,3]'): 3820.0,\n",
              " ('u[1][2]', 's[(1, 3)][1]'): 764.0,\n",
              " ('u[2][0]', 's[(2, 3)][2]'): 1528.0,\n",
              " ('s[(1, 4)][3]', 's[(1, 4)][2]'): 9168.0,\n",
              " ('s[(2, 3)][1]', 's[(2, 3)][0]'): 764.0,\n",
              " ('s[(4, 2)][2]', 'u[2][0]'): -1528.0,\n",
              " ('u[4][2]', 's[(4, 2)][2]'): 1528.0,\n",
              " ('u[2][1]', 's[(1, 2)][1]'): -1528.0,\n",
              " ('s[(4, 3)][3]', 'u[4][2]'): 2292.0,\n",
              " ('s[(4, 1)][0]', 's[(4, 1)][0]'): -3247.0,\n",
              " ('u[4][0]', 's[(4, 1)][3]'): 2292.0,\n",
              " ('u[3][2]', 's[(3, 2)][3]'): 2292.0,\n",
              " ('s[(4, 1)][1]', 's[(4, 1)][1]'): -6112.0,\n",
              " ('s[(2, 3)][3]', 's[(2, 3)][2]'): 9168.0,\n",
              " ('s[(1, 4)][1]', 'x[1,4]'): 3820.0,\n",
              " ('x[2,4]', 'x[2,3]'): 382.0,\n",
              " ('u[3][2]', 's[(2, 3)][3]'): -2292.0,\n",
              " ('u[3][2]', 's[(3, 1)][0]'): 382.0,\n",
              " ('s[(2, 4)][0]', 'x[2,4]'): 1910.0,\n",
              " ('s[(2, 1)][2]', 's[(2, 1)][0]'): 1528.0,\n",
              " ('x[2,3]', 'x[2,3]'): -12794.0,\n",
              " ('x[4,1]', 'x[4,1]'): -12783.0,\n",
              " ('u[2][1]', 's[(3, 2)][3]'): -4584.0,\n",
              " ('s[(4, 3)][3]', 's[(4, 3)][2]'): 9168.0,\n",
              " ('s[(4, 3)][1]', 'u[3][2]'): -764.0,\n",
              " ('u[4][0]', 'u[2][1]'): -1528.0,\n",
              " ('s[(3, 2)][3]', 's[(3, 2)][3]'): -13752.0,\n",
              " ('u[3][1]', 's[(3, 2)][3]'): 4584.0,\n",
              " ('x[4,2]', 'x[3,2]'): 382.0,\n",
              " ('u[2][0]', 's[(1, 2)][1]'): -764.0,\n",
              " ('u[1][0]', 's[(1, 3)][2]'): 1528.0,\n",
              " ('s[(1, 2)][2]', 's[(1, 2)][0]'): 1528.0,\n",
              " ('u[2][1]', 'u[2][0]'): 4584.0,\n",
              " ('s[(1, 4)][1]', 's[(1, 4)][0]'): 764.0,\n",
              " ('s[(4, 1)][0]', 'u[1][0]'): -382.0,\n",
              " ('s[(4, 1)][3]', 's[(4, 1)][0]'): 2292.0,\n",
              " ('s[(4, 2)][3]', 's[(4, 2)][1]'): 4584.0,\n",
              " ('x[2,4]', 'x[1,4]'): 382.0,\n",
              " ('x[0,4]', 'x[0,4]'): -752.0,\n",
              " ('s[(4, 3)][1]', 'u[3][1]'): -1528.0,\n",
              " ('u[4][0]', 's[(3, 4)][1]'): -764.0,\n",
              " ('s[(3, 1)][3]', 's[(3, 1)][2]'): 9168.0,\n",
              " ('u[3][0]', 's[(3, 2)][3]'): 2292.0,\n",
              " ('s[(2, 3)][1]', 's[(2, 3)][1]'): -6112.0,\n",
              " ('s[(4, 3)][2]', 'x[4,3]'): 7640.0,\n",
              " ('u[3][2]', 'u[1][1]'): -1528.0,\n",
              " ('x[4,3]', 'x[1,3]'): 382.0,\n",
              " ('u[3][2]', 's[(2, 3)][0]'): -382.0,\n",
              " ('u[1][0]', 's[(3, 1)][3]'): -2292.0,\n",
              " ('u[1][1]', 'u[1][0]'): 4584.0,\n",
              " ('u[3][1]', 's[(1, 3)][3]'): -4584.0,\n",
              " ('u[2][1]', 'x[3,2]'): -3820.0,\n",
              " ('u[4][2]', 's[(3, 4)][1]'): -764.0,\n",
              " ('u[2][2]', 's[(2, 3)][3]'): 2292.0,\n",
              " ('u[3][0]', 's[(3, 1)][0]'): 382.0,\n",
              " ('s[(2, 1)][2]', 'x[2,1]'): 7640.0,\n",
              " ('u[4][0]', 's[(4, 1)][2]'): 1528.0,\n",
              " ('u[1][0]', 's[(1, 2)][0]'): 382.0,\n",
              " ('u[3][1]', 's[(1, 3)][1]'): -1528.0,\n",
              " ('u[4][1]', 'u[1][0]'): -1528.0,\n",
              " ('u[1][1]', 's[(2, 1)][1]'): -1528.0,\n",
              " ('u[2][0]', 's[(2, 4)][2]'): 1528.0,\n",
              " ('x[3,2]', 'x[3,2]'): -12794.0,\n",
              " ('u[4][2]', 'u[1][2]'): -764.0,\n",
              " ('u[2][0]', 's[(2, 4)][1]'): 764.0,\n",
              " ('x[0,1]', 'x[0,1]'): -754.0,\n",
              " ('u[4][1]', 's[(1, 4)][0]'): -764.0,\n",
              " ('u[1][2]', 's[(1, 2)][1]'): 764.0,\n",
              " ('u[4][2]', 's[(4, 2)][0]'): 382.0,\n",
              " ('s[(2, 4)][3]', 's[(2, 4)][3]'): -13752.0,\n",
              " ('s[(2, 1)][2]', 's[(2, 1)][2]'): -10696.0,\n",
              " ('x[3,2]', 'x[0,2]'): 382.0,\n",
              " ('u[1][2]', 's[(3, 1)][2]'): -1528.0,\n",
              " ('x[4,0]', 'x[2,0]'): 382.0,\n",
              " ('u[1][2]', 'x[1,4]'): 1910.0,\n",
              " ('u[3][0]', 's[(2, 3)][2]'): -1528.0,\n",
              " ('s[(4, 3)][3]', 'u[4][0]'): 2292.0,\n",
              " ('u[1][2]', 's[(1, 4)][1]'): 764.0,\n",
              " ('s[(3, 4)][1]', 'x[3,4]'): 3820.0,\n",
              " ('u[4][0]', 's[(4, 2)][0]'): 382.0,\n",
              " ('u[4][1]', 's[(4, 1)][2]'): 3056.0,\n",
              " ('u[3][2]', 'x[3,4]'): 1910.0,\n",
              " ('u[1][2]', 's[(3, 1)][3]'): -2292.0,\n",
              " ('u[4][0]', 's[(4, 1)][0]'): 382.0,\n",
              " ('u[3][2]', 's[(3, 1)][3]'): 2292.0,\n",
              " ('u[2][2]', 's[(3, 2)][2]'): -1528.0,\n",
              " ('u[1][1]', 'x[3,1]'): -3820.0,\n",
              " ('s[(3, 4)][1]', 's[(3, 4)][0]'): 764.0,\n",
              " ('s[(3, 1)][2]', 's[(3, 1)][0]'): 1528.0,\n",
              " ('x[4,1]', 'x[3,1]'): 382.0,\n",
              " ('s[(2, 1)][3]', 's[(2, 1)][2]'): 9168.0,\n",
              " ('x[1,3]', 'x[1,3]'): -12793.0,\n",
              " ('s[(4, 1)][3]', 'u[1][0]'): -2292.0,\n",
              " ('x[2,4]', 'x[0,4]'): 382.0,\n",
              " ('u[4][2]', 'u[4][0]'): 2292.0,\n",
              " ('u[4][2]', 's[(3, 4)][0]'): -382.0,\n",
              " ('u[3][0]', 's[(3, 4)][2]'): 1528.0,\n",
              " ('u[1][0]', 's[(2, 1)][3]'): -2292.0,\n",
              " ('s[(4, 3)][2]', 'u[4][0]'): 1528.0,\n",
              " ('s[(2, 4)][1]', 's[(2, 4)][1]'): -6112.0,\n",
              " ('s[(4, 1)][3]', 'u[1][2]'): -2292.0,\n",
              " ('u[1][0]', 's[(2, 1)][0]'): -382.0,\n",
              " ('u[4][1]', 'x[4,2]'): 3820.0,\n",
              " ('u[3][1]', 'u[2][0]'): -1528.0,\n",
              " ('s[(2, 1)][1]', 's[(2, 1)][0]'): 764.0,\n",
              " ('s[(2, 1)][1]', 's[(2, 1)][1]'): -6112.0,\n",
              " ('u[4][1]', 's[(2, 4)][0]'): -764.0,\n",
              " ('u[2][0]', 'x[2,3]'): 1910.0,\n",
              " ('u[2][0]', 'u[2][0]'): 1146.0,\n",
              " ('u[2][2]', 's[(2, 1)][1]'): 764.0,\n",
              " ('u[4][2]', 's[(4, 1)][1]'): 764.0,\n",
              " ('s[(2, 4)][3]', 'x[2,4]'): 11460.0,\n",
              " ('s[(2, 3)][3]', 's[(2, 3)][0]'): 2292.0,\n",
              " ('s[(1, 3)][3]', 'x[1,3]'): 11460.0,\n",
              " ('s[(4, 2)][0]', 'x[4,2]'): 1910.0,\n",
              " ('u[4][2]', 's[(1, 4)][0]'): -382.0,\n",
              " ('x[4,1]', 'x[0,1]'): 382.0,\n",
              " ('u[3][1]', 's[(1, 3)][2]'): -3056.0,\n",
              " ('s[(4, 2)][3]', 'u[2][0]'): -2292.0,\n",
              " ('u[3][0]', 's[(2, 3)][0]'): -382.0,\n",
              " ('u[3][2]', 's[(1, 3)][3]'): -2292.0,\n",
              " ('x[1,2]', 'x[1,0]'): 382.0,\n",
              " ('u[2][2]', 'x[2,4]'): 1910.0,\n",
              " ('u[4][1]', 's[(2, 4)][1]'): -1528.0,\n",
              " ('u[3][2]', 's[(3, 1)][1]'): 764.0,\n",
              " ('x[4,1]', 'u[1][1]'): -3820.0,\n",
              " ('u[3][2]', 's[(3, 2)][2]'): 1528.0,\n",
              " ('u[2][1]', 's[(2, 4)][2]'): 3056.0,\n",
              " ('x[4,1]', 'u[1][0]'): -1910.0,\n",
              " ('u[2][0]', 's[(1, 2)][3]'): -2292.0,\n",
              " ('u[2][2]', 'u[2][1]'): 4584.0,\n",
              " ('s[(1, 3)][1]', 's[(1, 3)][1]'): -6112.0,\n",
              " ('u[1][1]', 's[(3, 1)][3]'): -4584.0,\n",
              " ('x[3,2]', 'x[1,2]'): 382.0,\n",
              " ('s[(4, 1)][3]', 's[(4, 1)][2]'): 9168.0,\n",
              " ('u[3][0]', 's[(1, 3)][1]'): -764.0,\n",
              " ('s[(2, 3)][3]', 's[(2, 3)][3]'): -13752.0,\n",
              " ('u[1][0]', 'x[1,4]'): 1910.0,\n",
              " ('s[(4, 2)][2]', 's[(4, 2)][1]'): 3056.0,\n",
              " ('u[2][1]', 's[(2, 1)][3]'): 4584.0,\n",
              " ('u[4][2]', 's[(4, 1)][2]'): 1528.0,\n",
              " ('u[2][1]', 'x[1,2]'): -3820.0,\n",
              " ('s[(3, 4)][0]', 's[(3, 4)][0]'): -3247.0,\n",
              " ('u[3][1]', 's[(3, 2)][2]'): 3056.0,\n",
              " ('s[(2, 1)][3]', 's[(2, 1)][1]'): 4584.0,\n",
              " ('u[2][0]', 's[(2, 1)][3]'): 2292.0,\n",
              " ('u[2][2]', 's[(2, 1)][0]'): 382.0,\n",
              " ('s[(4, 3)][0]', 'u[3][2]'): -382.0,\n",
              " ('s[(1, 3)][0]', 'x[1,3]'): 1910.0,\n",
              " ('u[4][0]', 's[(3, 4)][3]'): -2292.0,\n",
              " ('s[(3, 2)][0]', 's[(3, 2)][0]'): -3247.0,\n",
              " ('s[(4, 3)][3]', 'u[3][0]'): -2292.0,\n",
              " ('s[(2, 3)][3]', 'x[2,3]'): 11460.0,\n",
              " ('u[3][1]', 's[(2, 3)][0]'): -764.0,\n",
              " ('s[(2, 4)][2]', 's[(2, 4)][1]'): 3056.0,\n",
              " ('s[(2, 3)][0]', 's[(2, 3)][0]'): -3247.0,\n",
              " ('s[(2, 3)][3]', 's[(2, 3)][1]'): 4584.0,\n",
              " ('x[4,2]', 'u[2][2]'): -1910.0,\n",
              " ('u[1][2]', 's[(1, 3)][3]'): 2292.0,\n",
              " ('u[1][0]', 's[(1, 4)][1]'): 764.0,\n",
              " ('u[4][2]', 'u[4][2]'): 1146.0,\n",
              " ('u[3][2]', 's[(3, 4)][2]'): 1528.0,\n",
              " ('s[(3, 2)][3]', 's[(3, 2)][2]'): 9168.0,\n",
              " ('u[1][2]', 's[(1, 4)][2]'): 1528.0,\n",
              " ('u[2][1]', 's[(2, 4)][1]'): 1528.0,\n",
              " ('u[3][2]', 's[(3, 2)][0]'): 382.0,\n",
              " ('u[3][2]', 'u[3][1]'): 4584.0,\n",
              " ('x[3,4]', 'x[3,2]'): 382.0,\n",
              " ('u[1][1]', 's[(1, 3)][1]'): 1528.0,\n",
              " ('s[(1, 3)][2]', 'x[1,3]'): 7640.0,\n",
              " ('u[1][1]', 's[(1, 2)][2]'): 3056.0,\n",
              " ('s[(3, 4)][3]', 'x[3,4]'): 11460.0,\n",
              " ('u[1][1]', 'x[1,4]'): 3820.0,\n",
              " ('s[(3, 2)][2]', 'x[3,2]'): 7640.0,\n",
              " ('s[(2, 3)][2]', 'x[2,3]'): 7640.0,\n",
              " ('u[4][2]', 's[(2, 4)][3]'): -2292.0,\n",
              " ('u[2][0]', 's[(2, 3)][3]'): 2292.0,\n",
              " ('u[4][1]', 'x[4,1]'): 3820.0,\n",
              " ('s[(1, 2)][3]', 's[(1, 2)][2]'): 9168.0,\n",
              " ('u[4][1]', 's[(4, 2)][0]'): 764.0,\n",
              " ('s[(3, 2)][2]', 's[(3, 2)][1]'): 3056.0,\n",
              " ('u[3][1]', 's[(3, 1)][0]'): 764.0,\n",
              " ('s[(4, 1)][1]', 's[(4, 1)][0]'): 764.0,\n",
              " ('u[2][0]', 's[(3, 2)][0]'): -382.0,\n",
              " ('u[1][2]', 'x[3,1]'): -1910.0,\n",
              " ('x[4,2]', 'x[4,2]'): -12785.0,\n",
              " ('s[(3, 4)][0]', 'x[3,4]'): 1910.0,\n",
              " ('s[(1, 2)][0]', 's[(1, 2)][0]'): -3247.0,\n",
              " ('u[4][2]', 's[(4, 1)][3]'): 2292.0,\n",
              " ('s[(4, 2)][3]', 's[(4, 2)][3]'): -13752.0,\n",
              " ('s[(4, 3)][1]', 'u[4][1]'): 1528.0,\n",
              " ('u[2][2]', 's[(1, 2)][0]'): -382.0,\n",
              " ('s[(4, 3)][3]', 'u[4][1]'): 4584.0,\n",
              " ('s[(2, 1)][1]', 'x[2,1]'): 3820.0,\n",
              " ('u[4][1]', 's[(3, 4)][2]'): -3056.0,\n",
              " ('s[(1, 3)][3]', 's[(1, 3)][0]'): 2292.0,\n",
              " ('u[3][0]', 's[(2, 3)][3]'): -2292.0,\n",
              " ('u[1][0]', 's[(1, 2)][1]'): 764.0,\n",
              " ('u[3][1]', 's[(3, 4)][1]'): 1528.0,\n",
              " ('u[3][2]', 'u[3][2]'): 1146.0,\n",
              " ('s[(2, 3)][2]', 's[(2, 3)][1]'): 3056.0,\n",
              " ('u[3][0]', 'u[1][1]'): -1528.0,\n",
              " ('u[2][2]', 's[(2, 1)][2]'): 1528.0,\n",
              " ('u[1][1]', 's[(1, 4)][1]'): 1528.0,\n",
              " ('x[3,1]', 'x[3,0]'): 382.0,\n",
              " ('u[3][1]', 's[(2, 3)][2]'): -3056.0,\n",
              " ('u[1][2]', 's[(1, 3)][0]'): 382.0,\n",
              " ('u[3][0]', 'x[3,2]'): 1910.0,\n",
              " ('x[4,3]', 'u[3][2]'): -1910.0,\n",
              " ('s[(3, 2)][3]', 's[(3, 2)][1]'): 4584.0,\n",
              " ('u[3][1]', 's[(3, 1)][1]'): 1528.0,\n",
              " ('s[(4, 1)][0]', 'x[4,1]'): 1910.0,\n",
              " ('u[1][1]', 's[(2, 1)][2]'): -3056.0,\n",
              " ('s[(4, 2)][0]', 'u[2][0]'): -382.0,\n",
              " ('x[3,2]', 'x[3,0]'): 382.0,\n",
              " ('u[2][0]', 's[(2, 3)][0]'): 382.0,\n",
              " ('u[1][0]', 's[(1, 2)][3]'): 2292.0,\n",
              " ('u[3][0]', 'u[1][2]'): -764.0,\n",
              " ('u[2][0]', 's[(2, 4)][0]'): 382.0,\n",
              " ('s[(4, 1)][1]', 'x[4,1]'): 3820.0,\n",
              " ('u[4][0]', 's[(4, 2)][1]'): 764.0,\n",
              " ('u[4][2]', 'u[3][1]'): -1528.0,\n",
              " ('s[(4, 2)][1]', 's[(4, 2)][1]'): -6112.0,\n",
              " ('u[3][1]', 'u[1][0]'): -1528.0,\n",
              " ('u[2][2]', 's[(3, 2)][3]'): -2292.0,\n",
              " ('u[1][2]', 's[(2, 1)][2]'): -1528.0,\n",
              " ('u[4][1]', 's[(4, 1)][3]'): 4584.0,\n",
              " ('s[(4, 2)][3]', 'u[2][2]'): -2292.0,\n",
              " ('s[(1, 3)][2]', 's[(1, 3)][0]'): 1528.0,\n",
              " ('u[3][0]', 'x[1,3]'): -1910.0,\n",
              " ('s[(2, 4)][2]', 's[(2, 4)][2]'): -10696.0,\n",
              " ('u[1][0]', 'x[2,1]'): -1910.0,\n",
              " ('u[1][2]', 's[(2, 1)][3]'): -2292.0,\n",
              " ('s[(4, 2)][1]', 'x[4,2]'): 3820.0,\n",
              " ('u[2][2]', 'x[2,3]'): 1910.0,\n",
              " ('u[3][1]', 'x[3,1]'): 3820.0,\n",
              " ('u[1][0]', 's[(1, 4)][0]'): 382.0,\n",
              " ('u[2][1]', 'u[1][1]'): -3056.0,\n",
              " ('u[4][1]', 's[(4, 2)][1]'): 1528.0,\n",
              " ('u[2][2]', 'u[1][0]'): -764.0,\n",
              " ('s[(3, 2)][3]', 'x[3,2]'): 11460.0,\n",
              " ('u[2][0]', 's[(3, 2)][1]'): -764.0,\n",
              " ('s[(2, 1)][2]', 's[(2, 1)][1]'): 3056.0,\n",
              " ('s[(1, 2)][3]', 's[(1, 2)][1]'): 4584.0,\n",
              " ('u[4][0]', 's[(1, 4)][1]'): -764.0,\n",
              " ('u[4][0]', 'u[1][0]'): -764.0,\n",
              " ('u[2][1]', 's[(2, 4)][3]'): 4584.0,\n",
              " ('u[3][0]', 'u[1][0]'): -764.0,\n",
              " ('u[3][1]', 'u[3][1]'): 4584.0,\n",
              " ('x[2,3]', 'x[0,3]'): 382.0,\n",
              " ('u[4][1]', 's[(1, 4)][1]'): -1528.0,\n",
              " ('s[(1, 2)][1]', 's[(1, 2)][1]'): -6112.0,\n",
              " ('u[4][0]', 'u[2][0]'): -764.0,\n",
              " ('x[3,4]', 'x[1,4]'): 382.0,\n",
              " ('s[(1, 2)][3]', 's[(1, 2)][0]'): 2292.0,\n",
              " ('s[(2, 1)][3]', 's[(2, 1)][0]'): 2292.0,\n",
              " ('u[2][2]', 's[(3, 2)][0]'): -382.0,\n",
              " ('u[2][0]', 's[(2, 1)][1]'): 764.0,\n",
              " ('u[3][2]', 's[(3, 1)][2]'): 1528.0,\n",
              " ('u[4][2]', 'u[1][0]'): -764.0,\n",
              " ('u[4][1]', 'u[4][1]'): 4584.0,\n",
              " ('u[3][0]', 's[(1, 3)][2]'): -1528.0,\n",
              " ('u[4][0]', 'u[3][2]'): -764.0,\n",
              " ('s[(4, 1)][3]', 's[(4, 1)][3]'): -13752.0,\n",
              " ('s[(4, 2)][3]', 's[(4, 2)][0]'): 2292.0,\n",
              " ('u[3][0]', 'u[3][0]'): 1146.0,\n",
              " ('s[(4, 2)][1]', 'u[2][2]'): -764.0,\n",
              " ('s[(4, 1)][1]', 'u[1][1]'): -1528.0,\n",
              " ('s[(1, 2)][3]', 's[(1, 2)][3]'): -13752.0,\n",
              " ('x[2,0]', 'x[1,0]'): 382.0,\n",
              " ('x[1,0]', 'x[1,0]'): -754.0,\n",
              " ('u[1][2]', 'x[2,1]'): -1910.0,\n",
              " ('s[(4, 3)][0]', 'u[3][0]'): -382.0,\n",
              " ('u[2][2]', 'x[3,2]'): -1910.0,\n",
              " ('s[(3, 4)][2]', 's[(3, 4)][1]'): 3056.0,\n",
              " ('s[(4, 2)][0]', 's[(4, 2)][0]'): -3247.0,\n",
              " ('s[(4, 2)][1]', 'u[2][1]'): -1528.0,\n",
              " ('u[3][2]', 'x[1,3]'): -1910.0,\n",
              " ('u[4][2]', 's[(1, 4)][3]'): -2292.0,\n",
              " ('u[3][2]', 'x[3,1]'): 1910.0,\n",
              " ('s[(4, 3)][3]', 'u[3][1]'): -4584.0,\n",
              " ('s[(1, 3)][1]', 's[(1, 3)][0]'): 764.0,\n",
              " ('s[(2, 1)][0]', 'x[2,1]'): 1910.0,\n",
              " ('x[0,2]', 'x[0,1]'): 382.0,\n",
              " ('s[(1, 2)][2]', 's[(1, 2)][2]'): -10696.0,\n",
              " ('x[4,3]', 'x[4,2]'): 382.0,\n",
              " ('u[4][1]', 'u[1][1]'): -3056.0,\n",
              " ('s[(1, 4)][3]', 's[(1, 4)][1]'): 4584.0,\n",
              " ('x[0,4]', 'x[0,2]'): 382.0,\n",
              " ('u[1][2]', 's[(1, 4)][3]'): 2292.0,\n",
              " ('u[4][0]', 'x[4,1]'): 1910.0,\n",
              " ('s[(1, 4)][2]', 's[(1, 4)][2]'): -10696.0,\n",
              " ('s[(1, 4)][1]', 's[(1, 4)][1]'): -6112.0,\n",
              " ('u[4][1]', 's[(1, 4)][3]'): -4584.0,\n",
              " ('s[(1, 3)][2]', 's[(1, 3)][2]'): -10696.0,\n",
              " ('s[(1, 4)][2]', 's[(1, 4)][1]'): 3056.0,\n",
              " ('u[4][1]', 's[(4, 1)][1]'): 1528.0,\n",
              " ('s[(3, 1)][3]', 's[(3, 1)][1]'): 4584.0,\n",
              " ('u[2][2]', 'u[2][2]'): 1146.0,\n",
              " ('u[2][0]', 's[(2, 1)][0]'): 382.0,\n",
              " ('s[(1, 3)][0]', 's[(1, 3)][0]'): -3247.0,\n",
              " ('s[(3, 1)][1]', 'x[3,1]'): 3820.0,\n",
              " ('s[(4, 1)][2]', 's[(4, 1)][2]'): -10696.0,\n",
              " ('u[4][0]', 's[(1, 4)][3]'): -2292.0,\n",
              " ('u[1][0]', 'x[1,3]'): 1910.0,\n",
              " ('x[4,3]', 'u[3][0]'): -1910.0,\n",
              " ('u[4][2]', 'u[2][1]'): -1528.0,\n",
              " ('u[1][1]', 'x[1,3]'): 3820.0,\n",
              " ('x[3,4]', 'x[2,4]'): 382.0,\n",
              " ('u[1][1]', 's[(1, 2)][3]'): 4584.0,\n",
              " ('u[3][0]', 's[(1, 3)][3]'): -2292.0}"
            ]
          },
          "metadata": {},
          "execution_count": 32
        }
      ]
    },
    {
      "cell_type": "markdown",
      "source": [
        "### Solve QUBO"
      ],
      "metadata": {
        "id": "AjUb1VBQvBzU"
      }
    },
    {
      "cell_type": "code",
      "source": [
        "# solve the model with the chosen sampler\n",
        "if solver=='SimulAnneal':   # classic solver\n",
        "  sampleset = sampler.sample_qubo(Q, num_reads=300, num_steps=1000)\n",
        "elif solver=='hybrid_binary_quadratic_model_version2':    # hybrid solver\n",
        "  sampleset = sampler.sample_qubo(Q)\n",
        "elif solver=='Advantage_system6.2':   # quantum solver\n",
        "  sampleset = sampler.sample_qubo(Q, num_reads=300, annealing_time=qpu.properties[\"annealing_time_range\"][1])\n",
        "\n",
        "# get obtained solutions\n",
        "samples = model.decode_sampleset(sampleset)\n",
        "\n",
        "# take only valid solutions (actual routes)\n",
        "samples = [s for s in samples if is_valid_routing(get_edges_from_sample(s.sample))[0]==True]\n",
        "\n",
        "best_sample, energy = None, None\n",
        "\n",
        "if len(samples)>0:\n",
        "  # take only best solution (minimum energy)\n",
        "  best_sample = min(samples, key=lambda s: s.energy)\n",
        "  print(best_sample.sample, '\\n', best_sample.energy)"
      ],
      "metadata": {
        "id": "ZyURxPw5vCDI",
        "colab": {
          "base_uri": "https://localhost:8080/"
        },
        "outputId": "bd7a5447-604d-4fb2-bb78-04be27b54d5a"
      },
      "execution_count": 33,
      "outputs": [
        {
          "output_type": "stream",
          "name": "stdout",
          "text": [
            "{'x[4,1]': 0, 'x[4,0]': 1, 'x[3,4]': 0, 'x[3,2]': 0, 'x[1,4]': 0, 'x[1,3]': 0, 'x[1,2]': 0, 'x[0,4]': 1, 'x[0,2]': 1, 'x[0,1]': 0, 's[(3, 1)][0]': 0, 'x[1,0]': 1, 'u[3][1]': 0, 's[(2, 3)][3]': 0, 's[(2, 3)][0]': 1, 's[(2, 4)][3]': 0, 'u[4][0]': 0, 'x[4,2]': 0, 'x[2,1]': 0, 's[(4, 3)][1]': 0, 'u[3][2]': 1, 's[(4, 1)][0]': 0, 's[(2, 1)][2]': 1, 's[(3, 2)][2]': 1, 's[(3, 2)][1]': 0, 's[(2, 1)][1]': 0, 's[(1, 2)][0]': 0, 'x[4,3]': 0, 's[(1, 2)][1]': 1, 's[(2, 4)][2]': 1, 's[(4, 3)][0]': 0, 's[(3, 1)][3]': 0, 's[(2, 4)][0]': 1, 's[(1, 4)][0]': 0, 's[(4, 3)][3]': 1, 's[(2, 1)][0]': 0, 's[(2, 4)][1]': 1, 's[(2, 3)][1]': 1, 'x[2,0]': 0, 's[(4, 2)][3]': 1, 's[(1, 2)][3]': 1, 'x[3,1]': 1, 'x[0,3]': 0, 's[(1, 3)][0]': 1, 's[(1, 3)][1]': 0, 's[(1, 2)][2]': 0, 's[(1, 3)][3]': 1, 's[(3, 4)][3]': 1, 's[(2, 1)][3]': 1, 's[(1, 4)][2]': 1, 's[(4, 2)][1]': 0, 's[(3, 1)][2]': 1, 'u[4][2]': 1, 's[(2, 3)][2]': 0, 'x[3,0]': 0, 's[(1, 4)][1]': 1, 'x[2,3]': 1, 'u[3][0]': 1, 's[(1, 3)][2]': 0, 's[(3, 2)][0]': 0, 's[(3, 1)][1]': 1, 's[(4, 2)][2]': 1, 's[(4, 2)][0]': 1, 's[(3, 2)][3]': 1, 's[(4, 1)][1]': 1, 's[(3, 4)][0]': 0, 's[(3, 4)][1]': 1, 's[(3, 4)][2]': 0, 's[(4, 1)][2]': 1, 's[(4, 1)][3]': 1, 's[(4, 3)][2]': 1, 'u[1][0]': 1, 'u[4][1]': 0, 'u[1][1]': 1, 'u[1][2]': 1, 'u[2][2]': 1, 's[(1, 4)][3]': 0, 'u[2][0]': 0, 'x[2,4]': 0, 'u[2][1]': 1} \n",
            " 49.0\n"
          ]
        }
      ]
    },
    {
      "cell_type": "code",
      "source": [
        "# compute original objective function value in best_sample\n",
        "x = np.zeros((n,n))\n",
        "\n",
        "if best_sample != None:\n",
        "  for i in range(n):\n",
        "    for j in range(n):\n",
        "      if i!=j:\n",
        "        x[i, j] = best_sample.sample[f'x[{i},{j}]']\n",
        "\n",
        "  # original objective function value\n",
        "  print(sum(E[i,j]*x[i,j] for i in range(n) for j in range(n)))"
      ],
      "metadata": {
        "id": "2d3x1g7P2TYu",
        "colab": {
          "base_uri": "https://localhost:8080/"
        },
        "outputId": "e8c6daab-920a-4a6a-bdec-091269982cd2"
      },
      "execution_count": 34,
      "outputs": [
        {
          "output_type": "stream",
          "name": "stdout",
          "text": [
            "49.0\n"
          ]
        }
      ]
    },
    {
      "cell_type": "markdown",
      "source": [
        "### Routes"
      ],
      "metadata": {
        "id": "XXalrO0F7Nbg"
      }
    },
    {
      "cell_type": "code",
      "source": [
        "# get non zero decision variables\n",
        "routes = []\n",
        "for i in range(n):\n",
        "  for j in range(n):\n",
        "    if x[i, j] > 1e-6:\n",
        "      routes.append((i, j))\n",
        "\n",
        "is_valid_routing(routes, VERBOSE=True)"
      ],
      "metadata": {
        "colab": {
          "base_uri": "https://localhost:8080/"
        },
        "id": "jbTRtknb7QDs",
        "outputId": "9eb1cd7f-8d2b-4efc-b1bc-9515c9d148f5"
      },
      "execution_count": 35,
      "outputs": [
        {
          "output_type": "stream",
          "name": "stdout",
          "text": [
            "Valid routing. The routes are\n",
            "\n",
            "[0, 2, 3, 1, 0]\n",
            "[0, 4, 0]\n"
          ]
        },
        {
          "output_type": "execute_result",
          "data": {
            "text/plain": [
              "(True, [[0, 2, 3, 1, 0], [0, 4, 0]])"
            ]
          },
          "metadata": {},
          "execution_count": 35
        }
      ]
    },
    {
      "cell_type": "markdown",
      "source": [
        "## Graver Augmented Multiseed Algorithm"
      ],
      "metadata": {
        "id": "LttcQ5dwO6jZ"
      }
    },
    {
      "cell_type": "markdown",
      "source": [
        "### Define decision variables"
      ],
      "metadata": {
        "id": "PuKQe1OxP86k"
      }
    },
    {
      "cell_type": "code",
      "source": [
        "# use Gurobi and build the model by sequentially adding constraints\n",
        "# After that we'll use gurobipy library to retrieve the constraint matrix\n",
        "\n",
        "# Declare and initialize model\n",
        "m = gp.Model('VRP_GAMA')\n",
        "\n",
        "# Create edges variables\n",
        "x = {}\n",
        "for i in range(n):\n",
        "  for j in range(n):\n",
        "    if E[i,j]!=0 and i!=j:\n",
        "      x[(i,j)] = m.addVar(vtype=GRB.BINARY, name=f\"x[{i},{j}]\")\n",
        "\n",
        "# Create capacity variables\n",
        "u = {}\n",
        "for i in range(1, n):\n",
        "  num_var_enc = int(np.ceil(np.log2(C-d[i]+1)))    # u_i = d[i] + sum([2^j * u[i,j] for j in range(num_var_enc-1)]) + (C-sum([2^j for j in range(num_var_enc-1)]))*u[i,num_var_enc]\n",
        "  for j in range(num_var_enc):\n",
        "    u[(i,j)] = m.addVar(vtype=GRB.BINARY, name=f\"u[{i},{j}]\")\n",
        "\n",
        "# Create slack variables for CCCs\n",
        "s = {}\n",
        "for i in range(1, n):\n",
        "  for j in range(1, n):\n",
        "    if E[i,j]!=0 and i!=j and d[i]+d[j]<=C:\n",
        "      num_var_enc = int(np.ceil(np.log2(3*C-d[i]-d[j]+1)))   # s_ij = -C + sum([2^t * s[i,j,t] for t in range(num_var_enc-1)])+ (2C-d[i]-d[j]-sum([2^j for j in range(num_var_enc-1)]))*s[i,j,num_var_enc]\n",
        "      for t in range(num_var_enc):\n",
        "        s[(i,j,t)] = m.addVar(vtype=GRB.BINARY, name=f\"s[{i},{j},{t}]\")\n",
        "\n",
        "m.update()"
      ],
      "metadata": {
        "id": "OjDd4clOHeH7"
      },
      "execution_count": 36,
      "outputs": []
    },
    {
      "cell_type": "markdown",
      "source": [
        "### Define constraints"
      ],
      "metadata": {
        "id": "vUjfoZC-QAtq"
      }
    },
    {
      "cell_type": "code",
      "source": [
        "# k vehicle departing from depot\n",
        "m.addConstr(sum(x[(0, j)] for j in range(1, n) if E[0, j]!=0) == k, name='leave_depot')\n",
        "\n",
        "# k vehicle returning to depot\n",
        "m.addConstr(sum(x[(j, 0)] for j in range(1, n) if E[j, 0]!=0) == k, name='return_depot')\n",
        "\n",
        "# only one vehicle on edge (i, j) for every (i, j)\n",
        "m.addConstrs((sum(x[(i, j)] for i in range(n) if E[i, j]!=0 and i!=j) == 1 for j in range(1, n)), name='enter_node')\n",
        "m.addConstrs((sum(x[(i, j)] for j in range(n) if E[i, j]!=0 and i!=j) == 1 for i in range(1, n)), name='leave_node')\n",
        "\n",
        "# Capacity Cut Constraints with slack variables and logarithmic binary encoding\n",
        "m.addConstrs((((d[i] + sum([2**t * u[(i,t)] for t in range(int(np.ceil(np.log2(C-d[i]+1)))-1)]) +\n",
        "                (C-sum([2**t for t in range(int(np.ceil(np.log2(C-d[i]+1)))-1)])-d[i])\n",
        "                *u[(i,int(np.ceil(np.log2(C-d[i]+1)))-1)])    # u[i]\n",
        "               -(d[j] + sum([2**t * u[(j,t)] for t in range(int(np.ceil(np.log2(C-d[j]+1)))-1)]) +\n",
        "                 (C-sum([2**t for t in range(int(np.ceil(np.log2(C-d[j]+1)))-1)])-d[j])*\n",
        "                 u[(j,int(np.ceil(np.log2(C-d[j]+1)))-1)])    # u[j]\n",
        "               +C*x[(i,j)]\n",
        "               + (-C + sum([(2**t)*s[(i,j,t)] for t in range(int(np.ceil(np.log2(3*C-d[i]-d[j]+1)))-1)]) +\n",
        "                  ((3*C-d[i]-d[j]-sum([2**t for t in range(int(np.ceil(np.log2(3*C-d[i]-d[j]+1)))-1)]))*\n",
        "                   s[(i,j,int(np.ceil(np.log2(3*C-d[i]-d[j]+1)))-1)]))    # s[i,j] slack variable\n",
        "               == C-d[j]) for i in range(1, n) for j in range(1, n)\n",
        "               if E[i,j]!=0 and i!=j and d[i]+d[j]<=C), name='CCCs')\n",
        "\n",
        "m.update()"
      ],
      "metadata": {
        "id": "nm0yqeX9QChX"
      },
      "execution_count": 37,
      "outputs": []
    },
    {
      "cell_type": "markdown",
      "source": [
        "### Define objective"
      ],
      "metadata": {
        "id": "6GQIO5DNYaRj"
      }
    },
    {
      "cell_type": "code",
      "source": [
        "# Define objective: minimize total cost of all assignments\n",
        "obj = np.sum([E[i,j]*x[i,j]\n",
        "              for i in range(n)\n",
        "              for j in range(n) if E[i,j]!=0 and i!=j])\n",
        "\n",
        "m.setObjective(obj, GRB.MINIMIZE)\n",
        "\n",
        "m.update()"
      ],
      "metadata": {
        "id": "_mYY0LXdTnGn"
      },
      "execution_count": 38,
      "outputs": []
    },
    {
      "cell_type": "markdown",
      "source": [
        "### Optimize the model via Gurobi"
      ],
      "metadata": {
        "id": "iCExJgfBgpdO"
      }
    },
    {
      "cell_type": "code",
      "source": [
        "# Save model for inspection\n",
        "m.write('VRP_GAMA.lp')\n",
        "m.optimize()"
      ],
      "metadata": {
        "colab": {
          "base_uri": "https://localhost:8080/"
        },
        "id": "JDn2eSIMdsrz",
        "outputId": "095427bd-4ed6-43d9-9351-664d10e69d6f"
      },
      "execution_count": 39,
      "outputs": [
        {
          "output_type": "stream",
          "name": "stdout",
          "text": [
            "Gurobi Optimizer version 10.0.2 build v10.0.2rc0 (linux64)\n",
            "\n",
            "CPU model: Intel(R) Xeon(R) CPU @ 2.20GHz, instruction set [SSE2|AVX|AVX2]\n",
            "Thread count: 1 physical cores, 2 logical processors, using up to 2 threads\n",
            "\n",
            "Optimize a model with 22 rows, 80 columns and 172 nonzeros\n",
            "Model fingerprint: 0x2a3c8ce8\n",
            "Variable types: 0 continuous, 80 integer (80 binary)\n",
            "Coefficient statistics:\n",
            "  Matrix range     [1e+00, 6e+00]\n",
            "  Objective range  [3e+00, 1e+01]\n",
            "  Bounds range     [1e+00, 1e+00]\n",
            "  RHS range        [1e+00, 9e+00]\n",
            "Presolve removed 12 rows and 60 columns\n",
            "Presolve time: 0.00s\n",
            "Presolved: 10 rows, 20 columns, 40 nonzeros\n",
            "Variable types: 0 continuous, 20 integer (20 binary)\n",
            "Found heuristic solution: objective 54.0000000\n",
            "\n",
            "Root relaxation: objective 4.800000e+01, 8 iterations, 0.00 seconds (0.00 work units)\n",
            "\n",
            "    Nodes    |    Current Node    |     Objective Bounds      |     Work\n",
            " Expl Unexpl |  Obj  Depth IntInf | Incumbent    BestBd   Gap | It/Node Time\n",
            "\n",
            "*    0     0               0      48.0000000   48.00000  0.00%     -    0s\n",
            "\n",
            "Explored 1 nodes (8 simplex iterations) in 0.02 seconds (0.00 work units)\n",
            "Thread count was 2 (of 2 available processors)\n",
            "\n",
            "Solution count 2: 48 54 \n",
            "\n",
            "Optimal solution found (tolerance 1.00e-04)\n",
            "Best objective 4.800000000000e+01, best bound 4.800000000000e+01, gap 0.0000%\n"
          ]
        }
      ]
    },
    {
      "cell_type": "code",
      "source": [
        "# get non zero decision variables (only x's)\n",
        "routes = []\n",
        "for v in m.getVars():\n",
        "  if v.varName[0]=='x' and v.x > 1e-6:\n",
        "    nodes_indices = re.findall(r'\\d+', v.varName)\n",
        "    routes.append((int(nodes_indices[0]), int(nodes_indices[1])))\n",
        "\n",
        "is_valid_routing(routes)"
      ],
      "metadata": {
        "colab": {
          "base_uri": "https://localhost:8080/"
        },
        "outputId": "02aa7a48-fd38-4492-b7bb-e97250d8afa2",
        "id": "tfudF2xZB6FR"
      },
      "execution_count": 40,
      "outputs": [
        {
          "output_type": "execute_result",
          "data": {
            "text/plain": [
              "(False, [[0, 2, 0], [0, 4, 0]])"
            ]
          },
          "metadata": {},
          "execution_count": 40
        }
      ]
    },
    {
      "cell_type": "markdown",
      "source": [
        "### Retrieve constraint matrix"
      ],
      "metadata": {
        "id": "Yy8nqDscQEXe"
      }
    },
    {
      "cell_type": "code",
      "source": [
        "# Get the constraint matrix A and vector b (Ax=b) from Gurobi model\n",
        "m.update()\n",
        "# x = m.getVars()\n",
        "A = m.getA()\n",
        "A = A.toarray()\n",
        "b = np.array(m.getAttr(\"RHS\", m.getConstrs()), int)\n",
        "obj_coeffs = m.getAttr(\"Obj\", m.getVars())\n",
        "\n",
        "# create decision variables\n",
        "x = Array.create('x', shape=(A.shape[1]), vartype='BINARY')"
      ],
      "metadata": {
        "id": "dMwKHFWcT9ZS"
      },
      "execution_count": 41,
      "outputs": []
    },
    {
      "cell_type": "code",
      "source": [
        "# Objective function definition\n",
        "def f(x):\n",
        "  return np.sum([obj_coeffs[i]*x[i] for i in range(len(obj_coeffs))])\n",
        "\n",
        "# Constraints satisfaction\n",
        "def const(x):\n",
        "    return np.array_equiv(np.dot(A,x),b.T) or np.array_equiv(np.dot(A,x),b)"
      ],
      "metadata": {
        "id": "r6iq-17TT-95"
      },
      "execution_count": 42,
      "outputs": []
    },
    {
      "cell_type": "code",
      "source": [
        "# con = []\n",
        "# for c in m.getConstrs():\n",
        "#   if c.ConstrName == \"leave_node[4]\":\n",
        "#     con.append(c)\n",
        "\n",
        "# con = con[0]\n",
        "\n",
        "# print(f\"{m.getRow(con)} {con.Sense} {con.RHS}\")"
      ],
      "metadata": {
        "id": "5uwnjUdFiDKq"
      },
      "execution_count": 43,
      "outputs": []
    },
    {
      "cell_type": "code",
      "source": [
        "# # check gurobi solution\n",
        "# var = np.array([v.x for v in m.getVars()])\n",
        "# print(np.dot(A,var)-b) # feasibility\n",
        "# print(np.dot(obj_coeffs, var)) # obj value"
      ],
      "metadata": {
        "id": "syqf8E9ie7-i"
      },
      "execution_count": 44,
      "outputs": []
    },
    {
      "cell_type": "markdown",
      "source": [
        "### Graver Augmentation"
      ],
      "metadata": {
        "id": "8njWiyf1QMR_"
      }
    },
    {
      "cell_type": "code",
      "source": [
        "# compute graver basis elements\n",
        "graver_elems = get_feasible(A, np.zeros_like(b), sampler=sampler, samples=100, refine_almost_feasible=True)\n",
        "print(len(graver_elems), ' graver elements found.')"
      ],
      "metadata": {
        "colab": {
          "base_uri": "https://localhost:8080/"
        },
        "id": "ZINcAFhtZyJ9",
        "outputId": "f3f83464-e1f7-4d7b-dd3b-17b07bcea8ee"
      },
      "execution_count": 45,
      "outputs": [
        {
          "output_type": "stream",
          "name": "stdout",
          "text": [
            "40  graver elements found.\n"
          ]
        }
      ]
    },
    {
      "cell_type": "code",
      "source": [
        "# compute feasible solutions\n",
        "feas_sols = get_feasible(A, b, sampler=sampler, samples=100)\n",
        "print(len(feas_sols), ' feasible solutions found.')"
      ],
      "metadata": {
        "colab": {
          "base_uri": "https://localhost:8080/"
        },
        "id": "wecZFB90SRuK",
        "outputId": "e949d4bb-92dd-4d75-a889-66c744b95465"
      },
      "execution_count": 46,
      "outputs": [
        {
          "output_type": "stream",
          "name": "stdout",
          "text": [
            "3  feasible solutions found.\n"
          ]
        }
      ]
    },
    {
      "cell_type": "code",
      "source": [
        "# Multiseed Augmentation\n",
        "final_sols, final_obj_full = graver_multiseed_augmentation(feas_sols, graver_elems, const, f)\n",
        "\n",
        "# get best solution\n",
        "x_opt = final_sols[np.argmin(final_obj_full), :]\n",
        "print(x_opt, np.min(final_obj_full))"
      ],
      "metadata": {
        "colab": {
          "base_uri": "https://localhost:8080/"
        },
        "id": "waF9YTHJcUoG",
        "outputId": "39f284fa-acc1-4eba-df45-105d4818adad"
      },
      "execution_count": 47,
      "outputs": [
        {
          "output_type": "stream",
          "name": "stdout",
          "text": [
            "[0. 0. 1. 1. 0. 1. 0. 0. 1. 0. 0. 0. 0. 1. 0. 0. 1. 0. 0. 0. 0. 1. 0. 1.\n",
            " 1. 1. 0. 0. 0. 0. 0. 0. 0. 0. 0. 1. 1. 0. 0. 1. 1. 0. 0. 1. 1. 0. 0. 1.\n",
            " 1. 0. 1. 0. 1. 0. 1. 0. 0. 1. 1. 0. 1. 1. 1. 1. 1. 1. 0. 1. 1. 0. 1. 1.\n",
            " 1. 1. 1. 1. 1. 1. 0. 1.] 59.0\n"
          ]
        }
      ]
    },
    {
      "cell_type": "markdown",
      "source": [
        "### Routes"
      ],
      "metadata": {
        "id": "BT01LugMQQlZ"
      }
    },
    {
      "cell_type": "code",
      "source": [
        "edges = []\n",
        "for i in range(n):\n",
        "  for j in range(n):\n",
        "    if E[i,j]!=0 and i!=j:\n",
        "      edges.append((i,j))\n",
        "\n",
        "edges = [edges[i] for i in range(len(edges)) if x_opt[i]>1e-6]\n",
        "\n",
        "print(edges)\n",
        "\n",
        "is_valid_routing(edges, VERBOSE=True)"
      ],
      "metadata": {
        "id": "AGE6X-7xSjXC",
        "colab": {
          "base_uri": "https://localhost:8080/"
        },
        "outputId": "b8542766-8d38-4f34-b8bd-cdb4ca783ea5"
      },
      "execution_count": 48,
      "outputs": [
        {
          "output_type": "stream",
          "name": "stdout",
          "text": [
            "[(0, 3), (0, 4), (1, 2), (2, 0), (3, 1), (4, 0)]\n",
            "Valid routing. The routes are\n",
            "\n",
            "[0, 3, 1, 2, 0]\n",
            "[0, 4, 0]\n"
          ]
        },
        {
          "output_type": "execute_result",
          "data": {
            "text/plain": [
              "(True, [[0, 3, 1, 2, 0], [0, 4, 0]])"
            ]
          },
          "metadata": {},
          "execution_count": 48
        }
      ]
    },
    {
      "cell_type": "markdown",
      "source": [
        "# 2-Phase Heuristic: Clustering (Multi-Knapsack Problem)"
      ],
      "metadata": {
        "id": "cSDfbhFMvp_u"
      }
    },
    {
      "cell_type": "markdown",
      "source": [
        "## Formulation"
      ],
      "metadata": {
        "id": "4wRyd4C3vzgD"
      }
    },
    {
      "cell_type": "markdown",
      "source": [
        "\\begin{alignat*}{2}\n",
        "\\text{Minimize} \\quad & \\sum_{v} \\sum_{i, j} c_{ij}z_{v,i}z_{v,j} \\\\\n",
        "\\text{subject to} \\quad & \\sum_{v = 0}^{k-1} z_{v,0} = k \\\\\n",
        "& \\sum_{v = 0}^{k-1} z_{v,i} = 1 \\quad \\forall i=1, \\dots, n-1 \\\\\n",
        "& \\sum_{i = 1}^{n-1} d_iz_{v,i} \\leq C \\quad \\forall v=0, \\dots, k-1 \\\\\n",
        "& z_{v,i} \\in \\{0, 1\\} \\quad \\forall v=0, \\dots, k-1; \\,\\, i=0, \\dots, n-1\n",
        "\\end{alignat*}"
      ],
      "metadata": {
        "id": "QgCEmMsBv1Qj"
      }
    },
    {
      "cell_type": "markdown",
      "source": [
        "## Gurobi"
      ],
      "metadata": {
        "id": "fkWXiYB0yQOA"
      }
    },
    {
      "cell_type": "code",
      "source": [
        "# Declare and initialize model\n",
        "m = gp.Model('MKP')"
      ],
      "metadata": {
        "id": "_vq9KIvCyQOc"
      },
      "execution_count": 49,
      "outputs": []
    },
    {
      "cell_type": "markdown",
      "source": [
        "### Decision variables"
      ],
      "metadata": {
        "id": "suaJeA4IyQOe"
      }
    },
    {
      "cell_type": "code",
      "source": [
        "# Create decision variables\n",
        "\n",
        "# edge variables\n",
        "z = {}\n",
        "for v in range(k):\n",
        "  for i in range(n):\n",
        "    z[(v,i)] = m.addVar(vtype=GRB.BINARY, name=f\"z[{v},{i}]\")\n",
        "\n",
        "# update model\n",
        "m.update()"
      ],
      "metadata": {
        "id": "Aft5eIUpyQOf"
      },
      "execution_count": 50,
      "outputs": []
    },
    {
      "cell_type": "markdown",
      "source": [
        "### Constraints"
      ],
      "metadata": {
        "id": "Fbfqj2tayQOg"
      }
    },
    {
      "cell_type": "code",
      "source": [
        "# the depot must be in each cluster\n",
        "m.addConstr(sum(z[(v, 0)] for v in range(k)) == k, name='depot_in_every_cluster')\n",
        "\n",
        "# each object in exactly one knapsack (each customer served by exactly one vehicle)\n",
        "m.addConstrs((sum(z[(v, i)] for v in range(k)) == 1 for i in range(1, n)), name='each_customer_to_one_vehicle')\n",
        "\n",
        "# the total demands of customer served by vehicle v cannot exceed the vehicle capacity\n",
        "m.addConstrs((sum(d[i]*z[(v, i)] for i in range(1, n)) <= C for v in range(k)), name='vehicle_capacity')\n",
        "\n",
        "# update model\n",
        "m.update()"
      ],
      "metadata": {
        "id": "xjcetbUeyQOh"
      },
      "execution_count": 51,
      "outputs": []
    },
    {
      "cell_type": "markdown",
      "source": [
        "### Objective function"
      ],
      "metadata": {
        "id": "nFdoPZqtyQOi"
      }
    },
    {
      "cell_type": "code",
      "source": [
        "# Objective: minimize total cost of all assignments\n",
        "obj = np.sum([E[i,j]*z[v,i]*z[v,j]\n",
        "              for i in range(n)\n",
        "              for j in range(n)\n",
        "              for v in range(k)])\n",
        "\n",
        "m.setObjective(obj, GRB.MINIMIZE)\n",
        "\n",
        "# update model\n",
        "m.update()"
      ],
      "metadata": {
        "id": "jI0bhAXfyQOj"
      },
      "execution_count": 52,
      "outputs": []
    },
    {
      "cell_type": "markdown",
      "source": [
        "### Optimize"
      ],
      "metadata": {
        "id": "WHqIq8_DyQOk"
      }
    },
    {
      "cell_type": "code",
      "source": [
        "# Save model for inspection\n",
        "m.write('MKP.lp')\n",
        "\n",
        "# Run optimization engine\n",
        "m.optimize()"
      ],
      "metadata": {
        "colab": {
          "base_uri": "https://localhost:8080/"
        },
        "id": "ybgJTyApyQOl",
        "outputId": "8f8e5201-cf56-4f21-ccce-de4b1bedf1f4"
      },
      "execution_count": 53,
      "outputs": [
        {
          "output_type": "stream",
          "name": "stdout",
          "text": [
            "Gurobi Optimizer version 10.0.2 build v10.0.2rc0 (linux64)\n",
            "\n",
            "CPU model: Intel(R) Xeon(R) CPU @ 2.20GHz, instruction set [SSE2|AVX|AVX2]\n",
            "Thread count: 1 physical cores, 2 logical processors, using up to 2 threads\n",
            "\n",
            "Optimize a model with 7 rows, 10 columns and 18 nonzeros\n",
            "Model fingerprint: 0x85d697a7\n",
            "Model has 20 quadratic objective terms\n",
            "Variable types: 0 continuous, 10 integer (10 binary)\n",
            "Coefficient statistics:\n",
            "  Matrix range     [1e+00, 1e+00]\n",
            "  Objective range  [0e+00, 0e+00]\n",
            "  QObjective range [1e+01, 6e+01]\n",
            "  Bounds range     [1e+00, 1e+00]\n",
            "  RHS range        [1e+00, 5e+00]\n",
            "Found heuristic solution: objective 190.0000000\n",
            "Presolve removed 7 rows and 10 columns\n",
            "Presolve time: 0.00s\n",
            "Presolve: All rows and columns removed\n",
            "\n",
            "Explored 0 nodes (0 simplex iterations) in 0.02 seconds (0.00 work units)\n",
            "Thread count was 1 (of 2 available processors)\n",
            "\n",
            "Solution count 2: 120 190 \n",
            "\n",
            "Optimal solution found (tolerance 1.00e-04)\n",
            "Best objective 1.200000000000e+02, best bound 1.200000000000e+02, gap 0.0000%\n"
          ]
        }
      ]
    },
    {
      "cell_type": "markdown",
      "source": [
        "### Clusters"
      ],
      "metadata": {
        "id": "uOF_JFxQyQOo"
      }
    },
    {
      "cell_type": "code",
      "source": [
        "# get customers\n",
        "clusters = []\n",
        "for v in m.getVars():\n",
        "  if v.x > 1e-6:\n",
        "    nodes_indices = re.findall(r'\\d+', v.varName)\n",
        "    clusters.append((int(nodes_indices[0]), int(nodes_indices[1])))\n",
        "\n",
        "is_valid_clustering(clusters)"
      ],
      "metadata": {
        "colab": {
          "base_uri": "https://localhost:8080/"
        },
        "outputId": "fc9a535e-3bda-4d9f-f0b7-3ae94523e3c4",
        "id": "O7ybmlXXyQOp"
      },
      "execution_count": 54,
      "outputs": [
        {
          "output_type": "execute_result",
          "data": {
            "text/plain": [
              "(True, [[0, 1, 2, 3], [0, 4]])"
            ]
          },
          "metadata": {},
          "execution_count": 54
        }
      ]
    },
    {
      "cell_type": "markdown",
      "source": [
        "## QUBO"
      ],
      "metadata": {
        "id": "pgztShcn3y7z"
      }
    },
    {
      "cell_type": "markdown",
      "source": [
        "### Define the variables"
      ],
      "metadata": {
        "id": "XKBtjMrw3y8F"
      }
    },
    {
      "cell_type": "code",
      "source": [
        "# create QUBO variables for the edges\n",
        "z = {}\n",
        "for v in range(k):\n",
        "  for i in range(n):\n",
        "    z[(v,i)] = Binary(f'z[{v},{i}]')\n",
        "\n",
        "# create slack variables for capacity constraints\n",
        "# Normally the slack variables would be integer, so we need to binary encode them.\n",
        "# As usual, we use logarithmic encoding to reduce the number of variables\n",
        "s = {}\n",
        "for v in range(k):\n",
        "  s[v] = LogEncInteger(f's[{v}]', (C-int(sum(d[1:])), C))\n",
        "\n",
        "# penalty factors for QUBO\n",
        "p = np.sum(E)+1\n",
        "# p = n*np.max(E)"
      ],
      "metadata": {
        "id": "ym79Ak5L3y8G"
      },
      "execution_count": 55,
      "outputs": []
    },
    {
      "cell_type": "markdown",
      "source": [
        "### Build the matrix"
      ],
      "metadata": {
        "id": "5EmXP_8x3y8H"
      }
    },
    {
      "cell_type": "code",
      "source": [
        "# build QUBO by manually adding objective and constraints\n",
        "\n",
        "# define objective function\n",
        "obj = sum([E[i,j]*z[(v,i)]*z[(v,j)]\n",
        "          for i in range(n)\n",
        "          for j in range(n)\n",
        "          for v in range(k)])\n",
        "\n",
        "# add the objective\n",
        "Q =  obj\n",
        "\n",
        "# add the constraints\n",
        "# depot assigned to each cluster\n",
        "Q += p*(Constraint((sum([z[(v, 0)] for v in range(k)])-k)**2, label=f'depot_in_every_cluster'))\n",
        "\n",
        "# each customer assigned to exactly one vehicle\n",
        "Q += p*sum([Constraint((sum([z[(v, i)] for v in range(k)])-1)**2, label=f'assign_node_{i}') for i in range(1, n)])\n",
        "\n",
        "# Capacity Constraints\n",
        "Q += p*sum([Constraint((sum([d[i]*z[(v,i)] for i in range(1, n)]) + s[v] - C)**2,\n",
        "                       label=f'capacity({v})') for v in range(k)])"
      ],
      "metadata": {
        "id": "3hegM5GK3y8I"
      },
      "execution_count": 56,
      "outputs": []
    },
    {
      "cell_type": "code",
      "source": [
        "# get QUBO matrix\n",
        "model = Q.compile()\n",
        "Q, offset = model.to_qubo()\n",
        "Q"
      ],
      "metadata": {
        "colab": {
          "base_uri": "https://localhost:8080/"
        },
        "outputId": "751be985-1d9b-4886-a12f-9bbaa6ba92d7",
        "id": "S2zIz-IV3y8J"
      },
      "execution_count": 57,
      "outputs": [
        {
          "output_type": "execute_result",
          "data": {
            "text/plain": [
              "{('z[1,4]', 'z[1,4]'): -1528.0,\n",
              " ('s[0][1]', 'z[0,3]'): 764.0,\n",
              " ('s[0][2]', 'z[0,4]'): 382.0,\n",
              " ('z[1,2]', 'z[1,0]'): 16.0,\n",
              " ('s[1][2]', 's[1][2]'): -1337.0,\n",
              " ('z[0,1]', 'z[0,1]'): -1528.0,\n",
              " ('z[1,3]', 'z[1,1]'): 390.0,\n",
              " ('z[1,3]', 'z[1,0]'): 28.0,\n",
              " ('s[1][0]', 'z[1,1]'): 382.0,\n",
              " ('s[1][1]', 'z[1,4]'): 764.0,\n",
              " ('z[0,1]', 'z[0,0]'): 20.0,\n",
              " ('s[0][1]', 'z[0,2]'): 764.0,\n",
              " ('s[1][2]', 's[1][1]'): 764.0,\n",
              " ('z[0,4]', 'z[0,2]'): 406.0,\n",
              " ('z[1,0]', 'z[0,0]'): 382.0,\n",
              " ('s[0][0]', 'z[0,1]'): 382.0,\n",
              " ('s[1][1]', 'z[1,3]'): 764.0,\n",
              " ('s[1][0]', 'z[1,3]'): 382.0,\n",
              " ('s[0][2]', 'z[0,2]'): 382.0,\n",
              " ('s[0][0]', 's[0][0]'): -1337.0,\n",
              " ('s[0][2]', 'z[0,3]'): 382.0,\n",
              " ('z[1,4]', 'z[1,0]'): 24.0,\n",
              " ('z[0,0]', 'z[0,0]'): -573.0,\n",
              " ('z[0,3]', 'z[0,0]'): 28.0,\n",
              " ('s[1][1]', 'z[1,2]'): 764.0,\n",
              " ('s[0][0]', 'z[0,3]'): 382.0,\n",
              " ('z[0,2]', 'z[0,2]'): -1528.0,\n",
              " ('z[1,1]', 'z[1,1]'): -1528.0,\n",
              " ('s[1][0]', 'z[1,2]'): 382.0,\n",
              " ('s[1][1]', 's[1][0]'): 764.0,\n",
              " ('s[0][2]', 's[0][0]'): 382.0,\n",
              " ('z[0,3]', 'z[0,1]'): 390.0,\n",
              " ('s[1][2]', 'z[1,4]'): 382.0,\n",
              " ('z[0,4]', 'z[0,3]'): 400.0,\n",
              " ('z[1,4]', 'z[1,1]'): 410.0,\n",
              " ('s[1][2]', 'z[1,2]'): 382.0,\n",
              " ('s[1][1]', 's[1][1]'): -2292.0,\n",
              " ('z[1,4]', 'z[1,2]'): 406.0,\n",
              " ('s[1][0]', 'z[1,4]'): 382.0,\n",
              " ('z[1,4]', 'z[1,3]'): 400.0,\n",
              " ('s[0][0]', 'z[0,4]'): 382.0,\n",
              " ('s[0][1]', 'z[0,1]'): 764.0,\n",
              " ('s[0][1]', 's[0][1]'): -2292.0,\n",
              " ('s[0][1]', 's[0][0]'): 764.0,\n",
              " ('z[0,4]', 'z[0,0]'): 24.0,\n",
              " ('z[0,2]', 'z[0,1]'): 400.0,\n",
              " ('s[0][2]', 's[0][1]'): 764.0,\n",
              " ('z[1,3]', 'z[1,3]'): -1528.0,\n",
              " ('s[1][2]', 'z[1,3]'): 382.0,\n",
              " ('z[0,4]', 'z[0,4]'): -1528.0,\n",
              " ('z[0,2]', 'z[0,0]'): 16.0,\n",
              " ('z[1,1]', 'z[1,0]'): 20.0,\n",
              " ('z[0,3]', 'z[0,3]'): -1528.0,\n",
              " ('s[1][2]', 'z[1,1]'): 382.0,\n",
              " ('z[1,1]', 'z[0,1]'): 382.0,\n",
              " ('z[1,4]', 'z[0,4]'): 382.0,\n",
              " ('s[0][2]', 'z[0,1]'): 382.0,\n",
              " ('z[1,3]', 'z[1,2]'): 388.0,\n",
              " ('s[1][2]', 's[1][0]'): 382.0,\n",
              " ('z[0,4]', 'z[0,1]'): 410.0,\n",
              " ('z[0,3]', 'z[0,2]'): 388.0,\n",
              " ('z[1,0]', 'z[1,0]'): -573.0,\n",
              " ('z[1,3]', 'z[0,3]'): 382.0,\n",
              " ('z[1,2]', 'z[1,1]'): 400.0,\n",
              " ('s[0][0]', 'z[0,2]'): 382.0,\n",
              " ('s[0][2]', 's[0][2]'): -1337.0,\n",
              " ('s[0][1]', 'z[0,4]'): 764.0,\n",
              " ('z[1,2]', 'z[0,2]'): 382.0,\n",
              " ('s[1][1]', 'z[1,1]'): 764.0,\n",
              " ('s[1][0]', 's[1][0]'): -1337.0,\n",
              " ('z[1,2]', 'z[1,2]'): -1528.0}"
            ]
          },
          "metadata": {},
          "execution_count": 57
        }
      ]
    },
    {
      "cell_type": "markdown",
      "source": [
        "### Solve QUBO"
      ],
      "metadata": {
        "id": "W8sOSmvU3y8K"
      }
    },
    {
      "cell_type": "code",
      "source": [
        "# solve the model with the chosen sampler\n",
        "if solver=='SimulAnneal':   # classic solver\n",
        "  sampleset = sampler.sample_qubo(Q, num_reads=300, num_steps=1000)\n",
        "elif solver=='hybrid_binary_quadratic_model_version2':    # hybrid solver\n",
        "  sampleset = sampler.sample_qubo(Q)\n",
        "elif solver=='Advantage_system6.2':   # quantum solver\n",
        "  sampleset = sampler.sample_qubo(Q, num_reads=300, annealing_time=qpu.properties[\"annealing_time_range\"][1])\n",
        "\n",
        "# get obtained solutions\n",
        "samples = model.decode_sampleset(sampleset)\n",
        "\n",
        "# take only valid solutions (actual clusterings)\n",
        "samples = [s for s in samples if is_valid_clustering(get_clusters_from_sample(s.sample))[0]==True]\n",
        "\n",
        "best_sample, energy = None, None\n",
        "\n",
        "if len(samples)>0:\n",
        "  # take only best solution (minimum energy)\n",
        "  best_sample = min(samples, key=lambda s: s.energy)\n",
        "  print(best_sample.sample, '\\n', best_sample.energy)"
      ],
      "metadata": {
        "colab": {
          "base_uri": "https://localhost:8080/"
        },
        "outputId": "d428f58e-b4ee-41fa-adea-40527b247c55",
        "id": "fF1hiLh53y8L"
      },
      "execution_count": 58,
      "outputs": [
        {
          "output_type": "stream",
          "name": "stdout",
          "text": [
            "{'z[1,4]': 1, 'z[1,3]': 0, 'z[1,2]': 0, 's[0][1]': 0, 'z[0,3]': 1, 's[0][2]': 1, 's[1][0]': 0, 's[1][1]': 1, 's[1][2]': 1, 'z[0,1]': 1, 's[0][0]': 0, 'z[0,2]': 1, 'z[0,4]': 0, 'z[1,0]': 1, 'z[0,0]': 1, 'z[1,1]': 0} \n",
            " 120.0\n"
          ]
        }
      ]
    },
    {
      "cell_type": "code",
      "source": [
        "# compute original objective function value in best_sample\n",
        "z = {}\n",
        "\n",
        "if best_sample != None:\n",
        "  for v in range(k):\n",
        "    for i in range(1, n):\n",
        "      z[(v, i)] = best_sample.sample[f'z[{v},{i}]']\n",
        "\n",
        "  # original objective function value\n",
        "  obj = np.sum([E[i,j]*z[(v,i)]*z[(v,j)]\n",
        "              for i in range(1, n)\n",
        "              for j in range(1, n)\n",
        "              for v in range(k)])\n",
        "  print(obj)"
      ],
      "metadata": {
        "colab": {
          "base_uri": "https://localhost:8080/"
        },
        "outputId": "3269f3da-a56c-44a8-fe18-9532887a7cfb",
        "id": "zmVfddZV3y8O"
      },
      "execution_count": 59,
      "outputs": [
        {
          "output_type": "stream",
          "name": "stdout",
          "text": [
            "32\n"
          ]
        }
      ]
    },
    {
      "cell_type": "markdown",
      "source": [
        "### Clusters"
      ],
      "metadata": {
        "id": "nf7Fhsv83y8P"
      }
    },
    {
      "cell_type": "code",
      "source": [
        "# check if solution is a valid clustering\n",
        "is_valid_clustering(get_clusters_from_sample(best_sample.sample))"
      ],
      "metadata": {
        "colab": {
          "base_uri": "https://localhost:8080/"
        },
        "outputId": "c01cf24c-76f4-4b1d-f987-e9394c83b485",
        "id": "Dx4WO0Vl3y8Q"
      },
      "execution_count": 60,
      "outputs": [
        {
          "output_type": "execute_result",
          "data": {
            "text/plain": [
              "(True, [[0, 1, 2, 3], [0, 4]])"
            ]
          },
          "metadata": {},
          "execution_count": 60
        }
      ]
    },
    {
      "cell_type": "markdown",
      "source": [
        "## Graver Augmented Multiseed Algorithm"
      ],
      "metadata": {
        "id": "FEhrGxmFBWR8"
      }
    },
    {
      "cell_type": "markdown",
      "source": [
        "### Define decision variables"
      ],
      "metadata": {
        "id": "Tzhf9M9eBWR9"
      }
    },
    {
      "cell_type": "code",
      "source": [
        "# use Gurobi and build the model by sequentially adding constraints\n",
        "# After that we'll use gurobipy library to retrieve the constraint matrix\n",
        "\n",
        "# Declare and initialize model\n",
        "m = gp.Model('MKP_GAMA')\n",
        "\n",
        "# Create edges variables\n",
        "z = {}\n",
        "for v in range(k):\n",
        "  for i in range(n):\n",
        "    z[(v,i)] = m.addVar(vtype=GRB.BINARY, name=f\"z[{v},{i}]\")\n",
        "\n",
        "# Create slack variables for capacity constraints\n",
        "s = {}\n",
        "for v in range(k):\n",
        "  num_var_enc = int(np.ceil(np.log2(int(sum(d[1:]))+1)))\n",
        "  for t in range(num_var_enc):\n",
        "    s[(v,t)] = m.addVar(vtype=GRB.BINARY, name=f\"s[{v},{t}]\")\n",
        "\n",
        "m.update()"
      ],
      "metadata": {
        "id": "FftOSl67BWR-"
      },
      "execution_count": 61,
      "outputs": []
    },
    {
      "cell_type": "markdown",
      "source": [
        "### Define constraints"
      ],
      "metadata": {
        "id": "DH5R78tSBWR_"
      }
    },
    {
      "cell_type": "code",
      "source": [
        "# depot must be in each knapsack\n",
        "m.addConstr(sum(z[(v, 0)] for v in range(k)) == k, name='each_customer_to_one_vehicle')\n",
        "\n",
        "# each object in exactly one knapsack (each customer served by exactly one vehicle)\n",
        "m.addConstrs((sum(z[(v, i)] for v in range(k)) == 1 for i in range(1, n)), name='each_customer_to_one_vehicle')\n",
        "\n",
        "# the total demands of customer served by vehicle v cannot exceed the vehicle capacity\n",
        "m.addConstrs((sum(d[i]*z[(v, i)] for i in range(1, n)) +\n",
        "              (C - int(sum(d[1:])) + sum([2**t * s[(v,t)] for t in range(int(np.ceil(np.log2(int(sum(d[1:]))+1)))-1)]) +\n",
        "              (int(sum(d[1:]))-sum([2**t for t in range(int(np.ceil(np.log2(int(sum(d[1:]))+1)))-1)]))\n",
        "              *s[(v,int(np.ceil(np.log2(int(sum(d[1:]))+1)))-1)])   # s[v]\n",
        "              == C for v in range(k)), name='vehicle_capacity')\n",
        "\n",
        "# update model\n",
        "m.update()"
      ],
      "metadata": {
        "id": "c7LKz6izBWSA"
      },
      "execution_count": 62,
      "outputs": []
    },
    {
      "cell_type": "markdown",
      "source": [
        "### Define objective"
      ],
      "metadata": {
        "id": "xWPlUkivBWSB"
      }
    },
    {
      "cell_type": "code",
      "source": [
        "# Objective: minimize total cost of all assignments\n",
        "obj = sum(E[i,j]*z[v,i]*z[v,j]\n",
        "              for i in range(n)\n",
        "              for j in range(n)\n",
        "              for v in range(k))\n",
        "\n",
        "m.setObjective(obj, GRB.MINIMIZE)\n",
        "\n",
        "# update model\n",
        "m.update()"
      ],
      "metadata": {
        "id": "-hZGBnkKBWSC"
      },
      "execution_count": 63,
      "outputs": []
    },
    {
      "cell_type": "markdown",
      "source": [
        "### Optimize the model via Gurobi"
      ],
      "metadata": {
        "id": "J1orwLZeBWSC"
      }
    },
    {
      "cell_type": "code",
      "source": [
        "# Save model for inspection\n",
        "m.write('MKP_GAMA.lp')\n",
        "m.optimize()"
      ],
      "metadata": {
        "colab": {
          "base_uri": "https://localhost:8080/"
        },
        "outputId": "ef5a288b-edf1-4b60-bad7-21b24aa02cb3",
        "id": "ti4i9SSzBWSD"
      },
      "execution_count": 64,
      "outputs": [
        {
          "output_type": "stream",
          "name": "stdout",
          "text": [
            "Gurobi Optimizer version 10.0.2 build v10.0.2rc0 (linux64)\n",
            "\n",
            "CPU model: Intel(R) Xeon(R) CPU @ 2.20GHz, instruction set [SSE2|AVX|AVX2]\n",
            "Thread count: 1 physical cores, 2 logical processors, using up to 2 threads\n",
            "\n",
            "Optimize a model with 7 rows, 16 columns and 24 nonzeros\n",
            "Model fingerprint: 0x399f7976\n",
            "Model has 20 quadratic objective terms\n",
            "Variable types: 0 continuous, 16 integer (16 binary)\n",
            "Coefficient statistics:\n",
            "  Matrix range     [1e+00, 2e+00]\n",
            "  Objective range  [0e+00, 0e+00]\n",
            "  QObjective range [1e+01, 6e+01]\n",
            "  Bounds range     [1e+00, 1e+00]\n",
            "  RHS range        [1e+00, 4e+00]\n",
            "Found heuristic solution: objective 122.0000000\n",
            "Presolve removed 7 rows and 16 columns\n",
            "Presolve time: 0.00s\n",
            "Presolve: All rows and columns removed\n",
            "\n",
            "Explored 0 nodes (0 simplex iterations) in 0.02 seconds (0.00 work units)\n",
            "Thread count was 1 (of 2 available processors)\n",
            "\n",
            "Solution count 2: 120 122 \n",
            "\n",
            "Optimal solution found (tolerance 1.00e-04)\n",
            "Best objective 1.200000000000e+02, best bound 1.200000000000e+02, gap 0.0000%\n"
          ]
        }
      ]
    },
    {
      "cell_type": "code",
      "source": [
        "# get non zero decision variables (only x's)\n",
        "clusters = []\n",
        "for v in m.getVars():\n",
        "  if v.varName[0]=='z' and v.x > 1e-6:\n",
        "    nodes_indices = re.findall(r'\\d+', v.varName)\n",
        "    clusters.append((int(nodes_indices[0]), int(nodes_indices[1])))\n",
        "\n",
        "is_valid_clustering(clusters)"
      ],
      "metadata": {
        "colab": {
          "base_uri": "https://localhost:8080/"
        },
        "outputId": "3ca2c820-38a3-4f06-c5a3-e0ec8c6c4ea8",
        "id": "V9gm2hmEBWSG"
      },
      "execution_count": 65,
      "outputs": [
        {
          "output_type": "execute_result",
          "data": {
            "text/plain": [
              "(True, [[0, 1, 2, 3], [0, 4]])"
            ]
          },
          "metadata": {},
          "execution_count": 65
        }
      ]
    },
    {
      "cell_type": "markdown",
      "source": [
        "### Retrieve constraint matrix"
      ],
      "metadata": {
        "id": "3Zsgbn2RBWSH"
      }
    },
    {
      "cell_type": "code",
      "source": [
        "# Get the constraint matrix A and vector b (Ax=b) from Gurobi model\n",
        "m.update()\n",
        "# x = m.getVars()\n",
        "A = m.getA()\n",
        "A = A.toarray()\n",
        "b = np.array(m.getAttr(\"RHS\", m.getConstrs()), int)\n",
        "\n",
        "# create decision variables\n",
        "num_var_enc = int(np.ceil(np.log2(int(sum(d[1:]))+1)))\n",
        "x = Array.create('x', shape=(A.shape[1]), vartype='BINARY')"
      ],
      "metadata": {
        "id": "FyHUSllCBWSI"
      },
      "execution_count": 66,
      "outputs": []
    },
    {
      "cell_type": "code",
      "source": [
        "# Objective function definition\n",
        "def f(x):\n",
        "  y = x[:k*n, ]\n",
        "  y = y.reshape((k, n))\n",
        "  obj = sum(E[i,j]*y[v,i]*y[v,j]\n",
        "              for i in range(n)\n",
        "              for j in range(n)\n",
        "              for v in range(k))\n",
        "  return obj\n",
        "\n",
        "# Constraints satisfaction\n",
        "def const(x):\n",
        "    return np.array_equiv(np.dot(A,x),b.T) or np.array_equiv(np.dot(A,x),b)"
      ],
      "metadata": {
        "id": "dO5lJTSRBWSJ"
      },
      "execution_count": 67,
      "outputs": []
    },
    {
      "cell_type": "code",
      "source": [
        "# # check gurobi solution\n",
        "# var = np.array([v.x for v in m.getVars()])\n",
        "# print(np.dot(A,var)-b) # feasibility\n",
        "# print(np.dot(obj_coeffs, var)) # obj value"
      ],
      "metadata": {
        "id": "aKJ9DFniBWSK"
      },
      "execution_count": 68,
      "outputs": []
    },
    {
      "cell_type": "markdown",
      "source": [
        "### Graver Augmentation"
      ],
      "metadata": {
        "id": "JLzUp7fqBWSL"
      }
    },
    {
      "cell_type": "code",
      "source": [
        "# compute graver basis elements\n",
        "graver_elems = get_feasible(A, np.zeros_like(b), sampler=sampler, samples=100, refine_almost_feasible=True)\n",
        "print(len(graver_elems), ' graver elements found.')"
      ],
      "metadata": {
        "colab": {
          "base_uri": "https://localhost:8080/"
        },
        "outputId": "309dfd31-8109-400f-d8a3-53936774fa13",
        "id": "hIhikH8eBWSM"
      },
      "execution_count": 69,
      "outputs": [
        {
          "output_type": "stream",
          "name": "stdout",
          "text": [
            "1  graver elements found.\n"
          ]
        }
      ]
    },
    {
      "cell_type": "code",
      "source": [
        "# compute feasible solutions\n",
        "feas_sols = get_feasible(A, b, sampler=sampler, samples=100)\n",
        "print(len(feas_sols), ' feasible solutions found.')"
      ],
      "metadata": {
        "colab": {
          "base_uri": "https://localhost:8080/"
        },
        "outputId": "cbf58fd1-4f5b-4365-b86b-b5a2908c2a5c",
        "id": "8uqZUMmKBWSN"
      },
      "execution_count": 70,
      "outputs": [
        {
          "output_type": "stream",
          "name": "stdout",
          "text": [
            "47  feasible solutions found.\n"
          ]
        }
      ]
    },
    {
      "cell_type": "code",
      "source": [
        "# Multiseed Augmentation\n",
        "final_sols, final_obj_full = graver_multiseed_augmentation(feas_sols, graver_elems, const, f)\n",
        "\n",
        "# get best solution\n",
        "x_opt = final_sols[np.argmin(final_obj_full), :]\n",
        "print(x_opt, np.min(final_obj_full))"
      ],
      "metadata": {
        "colab": {
          "base_uri": "https://localhost:8080/"
        },
        "outputId": "d80cc5f3-6c0d-4c95-e56f-a77fb64b5ace",
        "id": "gWxKJ9aQBWSO"
      },
      "execution_count": 71,
      "outputs": [
        {
          "output_type": "stream",
          "name": "stdout",
          "text": [
            "[1. 0. 0. 0. 1. 1. 1. 1. 1. 0. 0. 1. 1. 1. 0. 0.] 120.0\n"
          ]
        }
      ]
    },
    {
      "cell_type": "markdown",
      "source": [
        "### Clusters"
      ],
      "metadata": {
        "id": "Jn4Xn3wlBWSP"
      }
    },
    {
      "cell_type": "code",
      "source": [
        "clusters = []\n",
        "for v in range(k):\n",
        "  for i in range(n):\n",
        "    clusters.append((v,i))\n",
        "\n",
        "clusters = [clusters[i] for i in range(len(clusters)) if x_opt[i]>1e-6]\n",
        "\n",
        "print(clusters)\n",
        "\n",
        "is_valid_clustering(clusters, VERBOSE=True)"
      ],
      "metadata": {
        "colab": {
          "base_uri": "https://localhost:8080/"
        },
        "outputId": "76a5a1bf-5e7e-4737-bd8b-b72d4c812dac",
        "id": "6ZZREgwABWST"
      },
      "execution_count": 72,
      "outputs": [
        {
          "output_type": "stream",
          "name": "stdout",
          "text": [
            "[(0, 0), (0, 4), (1, 0), (1, 1), (1, 2), (1, 3)]\n",
            "Valid clustering\n",
            "[[0, 4], [0, 1, 2, 3]]\n"
          ]
        },
        {
          "output_type": "execute_result",
          "data": {
            "text/plain": [
              "(True, [[0, 4], [0, 1, 2, 3]])"
            ]
          },
          "metadata": {},
          "execution_count": 72
        }
      ]
    },
    {
      "cell_type": "markdown",
      "source": [
        "# 2-Phase Heuristic: Routing (Travelling Salesman Problem)"
      ],
      "metadata": {
        "id": "F3UcIChoVobj"
      }
    },
    {
      "cell_type": "markdown",
      "source": [
        "## Formulation with DFJ Method for sequential subtour elimination"
      ],
      "metadata": {
        "id": "ZOelJmhnVobl"
      }
    },
    {
      "cell_type": "markdown",
      "source": [
        "\\begin{alignat*}{2}\n",
        "\\text{Minimize} \\quad & \\sum_{i, j} c_{ij}x_{ij} \\\\\n",
        "\\text{subject to} \\quad & \\sum_{j \\in N^{+}(i)} x_{ij} = 1 \\quad \\forall i \\in Cluster\\\\\n",
        "& \\sum_{i \\in N^{-}(j)} x_{ij} = 1 \\quad \\forall j \\in Cluster\\\\\n",
        "& \\sum_{i \\in S} \\sum_{j \\notin S} x_{ij} \\geq 1 \\quad \\forall S \\;\\;\\text{subtour}\\\\\n",
        "& x_{ij} \\in \\{0, 1\\} \\quad \\forall i,j \\in Cluster\n",
        "\\end{alignat*}"
      ],
      "metadata": {
        "id": "kmo7-Kf5Vobn"
      }
    },
    {
      "cell_type": "code",
      "source": [
        "clusters = is_valid_clustering(clusters)[1]\n",
        "clusters\n",
        "# clusters = [[1,0], [2,3,4,0]]"
      ],
      "metadata": {
        "id": "42_Aq5f2rKE_",
        "colab": {
          "base_uri": "https://localhost:8080/"
        },
        "outputId": "b9802f59-1f1d-4167-8366-a7e31062a3b4"
      },
      "execution_count": 73,
      "outputs": [
        {
          "output_type": "execute_result",
          "data": {
            "text/plain": [
              "[[0, 4], [0, 1, 2, 3]]"
            ]
          },
          "metadata": {},
          "execution_count": 73
        }
      ]
    },
    {
      "cell_type": "markdown",
      "source": [
        "## Gurobi"
      ],
      "metadata": {
        "id": "hUPd6i8kVobo"
      }
    },
    {
      "cell_type": "code",
      "source": [
        "# solve TSP individually on each cluster\n",
        "tsp_solutions = {}\n",
        "for cluster in clusters:\n",
        "  tsp_solutions[tuple(cluster)] = TSP_DFJ_gurobi(cluster)"
      ],
      "metadata": {
        "colab": {
          "base_uri": "https://localhost:8080/"
        },
        "id": "pb-MC_baVobr",
        "outputId": "50908121-2c72-45bb-c471-9e6788bdc643"
      },
      "execution_count": 74,
      "outputs": [
        {
          "output_type": "stream",
          "name": "stdout",
          "text": [
            "Gurobi Optimizer version 10.0.2 build v10.0.2rc0 (linux64)\n",
            "\n",
            "CPU model: Intel(R) Xeon(R) CPU @ 2.20GHz, instruction set [SSE2|AVX|AVX2]\n",
            "Thread count: 1 physical cores, 2 logical processors, using up to 2 threads\n",
            "\n",
            "Optimize a model with 4 rows, 2 columns and 4 nonzeros\n",
            "Model fingerprint: 0x604c8b52\n",
            "Variable types: 0 continuous, 2 integer (2 binary)\n",
            "Coefficient statistics:\n",
            "  Matrix range     [1e+00, 1e+00]\n",
            "  Objective range  [1e+01, 1e+01]\n",
            "  Bounds range     [1e+00, 1e+00]\n",
            "  RHS range        [1e+00, 1e+00]\n",
            "Found heuristic solution: objective 24.0000000\n",
            "Presolve removed 4 rows and 2 columns\n",
            "Presolve time: 0.00s\n",
            "Presolve: All rows and columns removed\n",
            "\n",
            "Explored 0 nodes (0 simplex iterations) in 0.02 seconds (0.00 work units)\n",
            "Thread count was 1 (of 2 available processors)\n",
            "\n",
            "Solution count 1: 24 \n",
            "\n",
            "Optimal solution found (tolerance 1.00e-04)\n",
            "Best objective 2.400000000000e+01, best bound 2.400000000000e+01, gap 0.0000%\n",
            "Gurobi Optimizer version 10.0.2 build v10.0.2rc0 (linux64)\n",
            "\n",
            "CPU model: Intel(R) Xeon(R) CPU @ 2.20GHz, instruction set [SSE2|AVX|AVX2]\n",
            "Thread count: 1 physical cores, 2 logical processors, using up to 2 threads\n",
            "\n",
            "Optimize a model with 8 rows, 12 columns and 24 nonzeros\n",
            "Model fingerprint: 0x042c2657\n",
            "Variable types: 0 continuous, 12 integer (12 binary)\n",
            "Coefficient statistics:\n",
            "  Matrix range     [1e+00, 1e+00]\n",
            "  Objective range  [3e+00, 1e+01]\n",
            "  Bounds range     [1e+00, 1e+00]\n",
            "  RHS range        [1e+00, 1e+00]\n",
            "Found heuristic solution: objective 36.0000000\n",
            "Presolve time: 0.00s\n",
            "Presolved: 8 rows, 12 columns, 24 nonzeros\n",
            "Variable types: 0 continuous, 12 integer (12 binary)\n",
            "\n",
            "Root relaxation: objective 2.400000e+01, 6 iterations, 0.00 seconds (0.00 work units)\n",
            "\n",
            "    Nodes    |    Current Node    |     Objective Bounds      |     Work\n",
            " Expl Unexpl |  Obj  Depth IntInf | Incumbent    BestBd   Gap | It/Node Time\n",
            "\n",
            "*    0     0               0      24.0000000   24.00000  0.00%     -    0s\n",
            "\n",
            "Explored 1 nodes (6 simplex iterations) in 0.02 seconds (0.00 work units)\n",
            "Thread count was 2 (of 2 available processors)\n",
            "\n",
            "Solution count 2: 24 36 \n",
            "\n",
            "Optimal solution found (tolerance 1.00e-04)\n",
            "Best objective 2.400000000000e+01, best bound 2.400000000000e+01, gap 0.0000%\n",
            "Gurobi Optimizer version 10.0.2 build v10.0.2rc0 (linux64)\n",
            "\n",
            "CPU model: Intel(R) Xeon(R) CPU @ 2.20GHz, instruction set [SSE2|AVX|AVX2]\n",
            "Thread count: 1 physical cores, 2 logical processors, using up to 2 threads\n",
            "\n",
            "Optimize a model with 9 rows, 12 columns and 28 nonzeros\n",
            "Model fingerprint: 0x8746aff9\n",
            "Variable types: 0 continuous, 12 integer (12 binary)\n",
            "Coefficient statistics:\n",
            "  Matrix range     [1e+00, 1e+00]\n",
            "  Objective range  [3e+00, 1e+01]\n",
            "  Bounds range     [1e+00, 1e+00]\n",
            "  RHS range        [1e+00, 1e+00]\n",
            "\n",
            "MIP start from previous solve did not produce a new incumbent solution\n",
            "MIP start from previous solve violates constraint subtour_elimination by 1.000000000\n",
            "\n",
            "Found heuristic solution: objective 36.0000000\n",
            "Presolve time: 0.00s\n",
            "Presolved: 9 rows, 12 columns, 28 nonzeros\n",
            "Variable types: 0 continuous, 12 integer (12 binary)\n",
            "\n",
            "Root relaxation: objective 2.500000e+01, 7 iterations, 0.00 seconds (0.00 work units)\n",
            "\n",
            "    Nodes    |    Current Node    |     Objective Bounds      |     Work\n",
            " Expl Unexpl |  Obj  Depth IntInf | Incumbent    BestBd   Gap | It/Node Time\n",
            "\n",
            "*    0     0               0      25.0000000   25.00000  0.00%     -    0s\n",
            "\n",
            "Explored 1 nodes (7 simplex iterations) in 0.03 seconds (0.00 work units)\n",
            "Thread count was 2 (of 2 available processors)\n",
            "\n",
            "Solution count 2: 25 36 \n",
            "\n",
            "Optimal solution found (tolerance 1.00e-04)\n",
            "Best objective 2.500000000000e+01, best bound 2.500000000000e+01, gap 0.0000%\n"
          ]
        }
      ]
    },
    {
      "cell_type": "code",
      "source": [
        "tsp_solutions.values()"
      ],
      "metadata": {
        "colab": {
          "base_uri": "https://localhost:8080/"
        },
        "id": "9Y2ltZUdswig",
        "outputId": "c593f487-7ca3-48ad-9557-b698da1f06db"
      },
      "execution_count": 75,
      "outputs": [
        {
          "output_type": "execute_result",
          "data": {
            "text/plain": [
              "dict_values([([(0, 4), (4, 0)], 24.0), ([(0, 1), (1, 3), (2, 0), (3, 2)], 25.0)])"
            ]
          },
          "metadata": {},
          "execution_count": 75
        }
      ]
    },
    {
      "cell_type": "markdown",
      "source": [
        "## QUBO"
      ],
      "metadata": {
        "id": "hI4WXWYeVob1"
      }
    },
    {
      "cell_type": "code",
      "source": [
        "# penalty factors for QUBO\n",
        "p = np.sum(E)+1\n",
        "# p = n*np.max(E)\n",
        "\n",
        "# solve TSP individually on each cluster\n",
        "tsp_solutions = {}\n",
        "for cluster in clusters:\n",
        "  tsp_solutions[tuple(cluster)] = TSP_DFJ_qubo(cluster, p)"
      ],
      "metadata": {
        "id": "y01GVhybE7z3"
      },
      "execution_count": 76,
      "outputs": []
    },
    {
      "cell_type": "code",
      "source": [
        "tsp_solutions.values()"
      ],
      "metadata": {
        "colab": {
          "base_uri": "https://localhost:8080/"
        },
        "id": "xAe8pd-BF47A",
        "outputId": "fbbe720c-1b31-4f35-d5e7-e7ee6064f44d"
      },
      "execution_count": 77,
      "outputs": [
        {
          "output_type": "execute_result",
          "data": {
            "text/plain": [
              "dict_values([([(0, 4), (4, 0)], 24), ([(0, 1), (1, 3), (2, 0), (3, 2)], 25)])"
            ]
          },
          "metadata": {},
          "execution_count": 77
        }
      ]
    },
    {
      "cell_type": "markdown",
      "source": [
        "## Graver Augmented Multiseed Algorithm"
      ],
      "metadata": {
        "id": "QBMu4ofCVocB"
      }
    },
    {
      "cell_type": "code",
      "source": [
        "# solve TSP individually on each cluster\n",
        "tsp_solutions = {}\n",
        "for cluster in clusters:\n",
        "  tsp_solutions[tuple(cluster)] = TSP_DFJ_gama(cluster)"
      ],
      "metadata": {
        "id": "EWR6e17Qpdkz"
      },
      "execution_count": 78,
      "outputs": []
    },
    {
      "cell_type": "code",
      "source": [
        "tsp_solutions.values()"
      ],
      "metadata": {
        "colab": {
          "base_uri": "https://localhost:8080/"
        },
        "outputId": "546c511c-be58-4697-8e0b-0ef0fc1a0376",
        "id": "WnVgpVt2pdk2"
      },
      "execution_count": 79,
      "outputs": [
        {
          "output_type": "execute_result",
          "data": {
            "text/plain": [
              "dict_values([([(0, 4), (4, 0)], 24.0), ([(0, 2), (1, 0), (2, 3), (3, 1)], 25.0)])"
            ]
          },
          "metadata": {},
          "execution_count": 79
        }
      ]
    }
  ]
}