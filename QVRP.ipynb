{
  "nbformat": 4,
  "nbformat_minor": 0,
  "metadata": {
    "colab": {
      "provenance": [],
      "collapsed_sections": [
        "0EzVPNcc2z4a",
        "WcDaewWLT_5p",
        "1odMfoAe2316",
        "ynfpjho1TDQ4",
        "st6HXJDXTFzK",
        "ui7YxoZfTJ3i",
        "5GAY33nLTRe1",
        "ARv-ITxH3BRW",
        "ZgLVN3C8ef17",
        "YXY5O8zNR3e2",
        "phVmRrYb1W6t",
        "-eGr-OgQ1bFS",
        "AMLDhZlH2_eL",
        "ClDyMvak3WKY",
        "9HOh7lP06fQN",
        "7awFsqQoakWv",
        "cfrBqbkExE0Q",
        "RVZT0NQtTkej",
        "AjUb1VBQvBzU",
        "XXalrO0F7Nbg",
        "LttcQ5dwO6jZ",
        "NFk6-siJhJQq",
        "kEbAttcfhJQr",
        "NUPMfTxIhJQu",
        "6PjxY23phJQ1",
        "LMWmfajihJQ4",
        "HG0Z0EdThJQ-",
        "EOFErRv3hJRB",
        "oSnUIbxchJRG",
        "gGWxxsnC0gqA",
        "n-N3K0nm0gqA",
        "uw0a50p70gqC",
        "iooACMPv0gqF",
        "5sxJDfdz0gqI",
        "QwYjc6g6VF91",
        "cVCsgjXgGj1m",
        "xIrfyi-PgSyx",
        "DBbNhoSjUYVj",
        "i7osegnbGj1p",
        "lOx4V_IgGj1r",
        "Syw9MqoFGj1s",
        "d5uJU4iyGj1u",
        "dJugvTa0Gj1w"
      ]
    },
    "kernelspec": {
      "name": "python3",
      "display_name": "Python 3"
    },
    "language_info": {
      "name": "python"
    }
  },
  "cells": [
    {
      "cell_type": "markdown",
      "source": [
        "# Import needed libraries"
      ],
      "metadata": {
        "id": "0EzVPNcc2z4a"
      }
    },
    {
      "cell_type": "code",
      "source": [
        "!pip install gurobipy\n",
        "!pip install pyqubo\n",
        "!pip install dwave-ocean-sdk"
      ],
      "metadata": {
        "colab": {
          "base_uri": "https://localhost:8080/"
        },
        "id": "z8v-57rKsQTF",
        "outputId": "258eb153-0fba-49de-d1fe-6bff6b4e2789"
      },
      "execution_count": 1,
      "outputs": [
        {
          "output_type": "stream",
          "name": "stdout",
          "text": [
            "Collecting gurobipy\n",
            "  Downloading gurobipy-10.0.2-cp310-cp310-manylinux2014_x86_64.whl (12.7 MB)\n",
            "\u001b[2K     \u001b[90m━━━━━━━━━━━━━━━━━━━━━━━━━━━━━━━━━━━━━━━━\u001b[0m \u001b[32m12.7/12.7 MB\u001b[0m \u001b[31m86.2 MB/s\u001b[0m eta \u001b[36m0:00:00\u001b[0m\n",
            "\u001b[?25hInstalling collected packages: gurobipy\n",
            "Successfully installed gurobipy-10.0.2\n",
            "Collecting pyqubo\n",
            "  Downloading pyqubo-1.4.0-cp310-cp310-manylinux_2_17_x86_64.manylinux2014_x86_64.whl (245 kB)\n",
            "\u001b[2K     \u001b[90m━━━━━━━━━━━━━━━━━━━━━━━━━━━━━━━━━━━━━━━\u001b[0m \u001b[32m245.3/245.3 kB\u001b[0m \u001b[31m2.0 MB/s\u001b[0m eta \u001b[36m0:00:00\u001b[0m\n",
            "\u001b[?25hRequirement already satisfied: numpy>=1.17.3 in /usr/local/lib/python3.10/dist-packages (from pyqubo) (1.22.4)\n",
            "Collecting dimod<0.13,>=0.9.14 (from pyqubo)\n",
            "  Downloading dimod-0.12.10-cp310-cp310-manylinux_2_17_x86_64.manylinux2014_x86_64.whl (16.0 MB)\n",
            "\u001b[2K     \u001b[90m━━━━━━━━━━━━━━━━━━━━━━━━━━━━━━━━━━━━━━━━\u001b[0m \u001b[32m16.0/16.0 MB\u001b[0m \u001b[31m50.2 MB/s\u001b[0m eta \u001b[36m0:00:00\u001b[0m\n",
            "\u001b[?25hCollecting dwave-neal>=0.5.7 (from pyqubo)\n",
            "  Downloading dwave_neal-0.6.0-py3-none-any.whl (8.7 kB)\n",
            "Collecting Deprecated>=1.2.12 (from pyqubo)\n",
            "  Downloading Deprecated-1.2.14-py2.py3-none-any.whl (9.6 kB)\n",
            "Requirement already satisfied: six>=1.15.0 in /usr/local/lib/python3.10/dist-packages (from pyqubo) (1.16.0)\n",
            "Requirement already satisfied: wrapt<2,>=1.10 in /usr/local/lib/python3.10/dist-packages (from Deprecated>=1.2.12->pyqubo) (1.14.1)\n",
            "Collecting dwave-samplers<2.0.0,>=1.0.0 (from dwave-neal>=0.5.7->pyqubo)\n",
            "  Downloading dwave_samplers-1.0.0-cp310-cp310-manylinux_2_17_x86_64.manylinux2014_x86_64.whl (6.0 MB)\n",
            "\u001b[2K     \u001b[90m━━━━━━━━━━━━━━━━━━━━━━━━━━━━━━━━━━━━━━━━\u001b[0m \u001b[32m6.0/6.0 MB\u001b[0m \u001b[31m30.8 MB/s\u001b[0m eta \u001b[36m0:00:00\u001b[0m\n",
            "\u001b[?25hRequirement already satisfied: networkx>=2.4.0 in /usr/local/lib/python3.10/dist-packages (from dwave-samplers<2.0.0,>=1.0.0->dwave-neal>=0.5.7->pyqubo) (3.1)\n",
            "Installing collected packages: dimod, Deprecated, dwave-samplers, dwave-neal, pyqubo\n",
            "Successfully installed Deprecated-1.2.14 dimod-0.12.10 dwave-neal-0.6.0 dwave-samplers-1.0.0 pyqubo-1.4.0\n",
            "Collecting dwave-ocean-sdk\n",
            "  Downloading dwave_ocean_sdk-6.4.1-py3-none-any.whl (8.5 kB)\n",
            "Collecting dimod==0.12.6 (from dwave-ocean-sdk)\n",
            "  Downloading dimod-0.12.6-cp310-cp310-manylinux_2_17_x86_64.manylinux2014_x86_64.whl (15.6 MB)\n",
            "\u001b[2K     \u001b[90m━━━━━━━━━━━━━━━━━━━━━━━━━━━━━━━━━━━━━━━━\u001b[0m \u001b[32m15.6/15.6 MB\u001b[0m \u001b[31m71.8 MB/s\u001b[0m eta \u001b[36m0:00:00\u001b[0m\n",
            "\u001b[?25hCollecting dwave-cloud-client==0.10.6 (from dwave-ocean-sdk)\n",
            "  Downloading dwave_cloud_client-0.10.6-py3-none-any.whl (113 kB)\n",
            "\u001b[2K     \u001b[90m━━━━━━━━━━━━━━━━━━━━━━━━━━━━━━━━━━━━━━\u001b[0m \u001b[32m113.4/113.4 kB\u001b[0m \u001b[31m11.0 MB/s\u001b[0m eta \u001b[36m0:00:00\u001b[0m\n",
            "\u001b[?25hCollecting dwave-greedy==0.3.0 (from dwave-ocean-sdk)\n",
            "  Downloading dwave_greedy-0.3.0-py3-none-any.whl (10 kB)\n",
            "Collecting dwave-hybrid==0.6.10 (from dwave-ocean-sdk)\n",
            "  Downloading dwave_hybrid-0.6.10-py3-none-any.whl (74 kB)\n",
            "\u001b[2K     \u001b[90m━━━━━━━━━━━━━━━━━━━━━━━━━━━━━━━━━━━━━━━━\u001b[0m \u001b[32m74.8/74.8 kB\u001b[0m \u001b[31m6.9 MB/s\u001b[0m eta \u001b[36m0:00:00\u001b[0m\n",
            "\u001b[?25hCollecting dwave-inspector==0.4.2 (from dwave-ocean-sdk)\n",
            "  Downloading dwave_inspector-0.4.2-py3-none-any.whl (31 kB)\n",
            "Requirement already satisfied: dwave-neal==0.6.0 in /usr/local/lib/python3.10/dist-packages (from dwave-ocean-sdk) (0.6.0)\n",
            "Collecting dwave-networkx==0.8.14 (from dwave-ocean-sdk)\n",
            "  Downloading dwave_networkx-0.8.14-py3-none-any.whl (102 kB)\n",
            "\u001b[2K     \u001b[90m━━━━━━━━━━━━━━━━━━━━━━━━━━━━━━━━━━━━━━━\u001b[0m \u001b[32m102.4/102.4 kB\u001b[0m \u001b[31m9.0 MB/s\u001b[0m eta \u001b[36m0:00:00\u001b[0m\n",
            "\u001b[?25hCollecting dwave-preprocessing==0.5.4 (from dwave-ocean-sdk)\n",
            "  Downloading dwave_preprocessing-0.5.4-cp310-cp310-manylinux_2_17_x86_64.manylinux2014_x86_64.whl (3.6 MB)\n",
            "\u001b[2K     \u001b[90m━━━━━━━━━━━━━━━━━━━━━━━━━━━━━━━━━━━━━━━━\u001b[0m \u001b[32m3.6/3.6 MB\u001b[0m \u001b[31m80.1 MB/s\u001b[0m eta \u001b[36m0:00:00\u001b[0m\n",
            "\u001b[?25hRequirement already satisfied: dwave-samplers==1.0.0 in /usr/local/lib/python3.10/dist-packages (from dwave-ocean-sdk) (1.0.0)\n",
            "Collecting dwave-system==1.19.0 (from dwave-ocean-sdk)\n",
            "  Downloading dwave_system-1.19.0-py3-none-any.whl (103 kB)\n",
            "\u001b[2K     \u001b[90m━━━━━━━━━━━━━━━━━━━━━━━━━━━━━━━━━━━━━━━\u001b[0m \u001b[32m103.2/103.2 kB\u001b[0m \u001b[31m9.9 MB/s\u001b[0m eta \u001b[36m0:00:00\u001b[0m\n",
            "\u001b[?25hCollecting dwave-tabu==0.5.0 (from dwave-ocean-sdk)\n",
            "  Downloading dwave_tabu-0.5.0-py3-none-any.whl (9.2 kB)\n",
            "Collecting dwavebinarycsp==0.2.0 (from dwave-ocean-sdk)\n",
            "  Downloading dwavebinarycsp-0.2.0-py3-none-any.whl (35 kB)\n",
            "Collecting minorminer==0.2.11 (from dwave-ocean-sdk)\n",
            "  Downloading minorminer-0.2.11-cp310-cp310-manylinux_2_17_x86_64.manylinux2014_x86_64.whl (10.1 MB)\n",
            "\u001b[2K     \u001b[90m━━━━━━━━━━━━━━━━━━━━━━━━━━━━━━━━━━━━━━━━\u001b[0m \u001b[32m10.1/10.1 MB\u001b[0m \u001b[31m47.7 MB/s\u001b[0m eta \u001b[36m0:00:00\u001b[0m\n",
            "\u001b[?25hCollecting penaltymodel==1.0.2 (from dwave-ocean-sdk)\n",
            "  Downloading penaltymodel-1.0.2-py3-none-any.whl (36 kB)\n",
            "Requirement already satisfied: pyqubo==1.4.0 in /usr/local/lib/python3.10/dist-packages (from dwave-ocean-sdk) (1.4.0)\n",
            "Requirement already satisfied: numpy<2.0.0,>=1.17.3 in /usr/local/lib/python3.10/dist-packages (from dimod==0.12.6->dwave-ocean-sdk) (1.22.4)\n",
            "Requirement already satisfied: requests[socks]>=2.18 in /usr/local/lib/python3.10/dist-packages (from dwave-cloud-client==0.10.6->dwave-ocean-sdk) (2.27.1)\n",
            "Requirement already satisfied: pydantic<2,>=1.7.3 in /usr/local/lib/python3.10/dist-packages (from dwave-cloud-client==0.10.6->dwave-ocean-sdk) (1.10.11)\n",
            "Collecting homebase>=1.0 (from dwave-cloud-client==0.10.6->dwave-ocean-sdk)\n",
            "  Downloading homebase-1.0.1-py2.py3-none-any.whl (11 kB)\n",
            "Requirement already satisfied: click>=7.0 in /usr/local/lib/python3.10/dist-packages (from dwave-cloud-client==0.10.6->dwave-ocean-sdk) (8.1.4)\n",
            "Requirement already satisfied: python-dateutil>=2.7 in /usr/local/lib/python3.10/dist-packages (from dwave-cloud-client==0.10.6->dwave-ocean-sdk) (2.8.2)\n",
            "Collecting plucky>=0.4.3 (from dwave-cloud-client==0.10.6->dwave-ocean-sdk)\n",
            "  Downloading plucky-0.4.3-py2.py3-none-any.whl (10 kB)\n",
            "Collecting diskcache>=5.2.1 (from dwave-cloud-client==0.10.6->dwave-ocean-sdk)\n",
            "  Downloading diskcache-5.6.1-py3-none-any.whl (45 kB)\n",
            "\u001b[2K     \u001b[90m━━━━━━━━━━━━━━━━━━━━━━━━━━━━━━━━━━━━━━━━\u001b[0m \u001b[32m45.6/45.6 kB\u001b[0m \u001b[31m4.1 MB/s\u001b[0m eta \u001b[36m0:00:00\u001b[0m\n",
            "\u001b[?25hRequirement already satisfied: packaging>=19 in /usr/local/lib/python3.10/dist-packages (from dwave-cloud-client==0.10.6->dwave-ocean-sdk) (23.1)\n",
            "Requirement already satisfied: werkzeug>=2.2 in /usr/local/lib/python3.10/dist-packages (from dwave-cloud-client==0.10.6->dwave-ocean-sdk) (2.3.6)\n",
            "Requirement already satisfied: networkx in /usr/local/lib/python3.10/dist-packages (from dwave-hybrid==0.6.10->dwave-ocean-sdk) (3.1)\n",
            "Requirement already satisfied: Flask>=2.2 in /usr/local/lib/python3.10/dist-packages (from dwave-inspector==0.4.2->dwave-ocean-sdk) (2.2.5)\n",
            "Collecting networkx (from dwave-hybrid==0.6.10->dwave-ocean-sdk)\n",
            "  Downloading networkx-2.8.8-py3-none-any.whl (2.0 MB)\n",
            "\u001b[2K     \u001b[90m━━━━━━━━━━━━━━━━━━━━━━━━━━━━━━━━━━━━━━━━\u001b[0m \u001b[32m2.0/2.0 MB\u001b[0m \u001b[31m85.9 MB/s\u001b[0m eta \u001b[36m0:00:00\u001b[0m\n",
            "\u001b[?25hRequirement already satisfied: scipy>=1.7.3 in /usr/local/lib/python3.10/dist-packages (from dwave-system==1.19.0->dwave-ocean-sdk) (1.10.1)\n",
            "Collecting fasteners (from minorminer==0.2.11->dwave-ocean-sdk)\n",
            "  Downloading fasteners-0.18-py3-none-any.whl (18 kB)\n",
            "Collecting rectangle-packer>=2.0.1 (from minorminer==0.2.11->dwave-ocean-sdk)\n",
            "  Downloading rectangle_packer-2.0.1-cp310-cp310-manylinux_2_5_x86_64.manylinux1_x86_64.manylinux_2_17_x86_64.manylinux2014_x86_64.whl (300 kB)\n",
            "\u001b[2K     \u001b[90m━━━━━━━━━━━━━━━━━━━━━━━━━━━━━━━━━━━━━━\u001b[0m \u001b[32m300.8/300.8 kB\u001b[0m \u001b[31m25.2 MB/s\u001b[0m eta \u001b[36m0:00:00\u001b[0m\n",
            "\u001b[?25hRequirement already satisfied: Deprecated>=1.2.12 in /usr/local/lib/python3.10/dist-packages (from pyqubo==1.4.0->dwave-ocean-sdk) (1.2.14)\n",
            "Requirement already satisfied: six>=1.15.0 in /usr/local/lib/python3.10/dist-packages (from pyqubo==1.4.0->dwave-ocean-sdk) (1.16.0)\n",
            "Requirement already satisfied: wrapt<2,>=1.10 in /usr/local/lib/python3.10/dist-packages (from Deprecated>=1.2.12->pyqubo==1.4.0->dwave-ocean-sdk) (1.14.1)\n",
            "Requirement already satisfied: Jinja2>=3.0 in /usr/local/lib/python3.10/dist-packages (from Flask>=2.2->dwave-inspector==0.4.2->dwave-ocean-sdk) (3.1.2)\n",
            "Requirement already satisfied: itsdangerous>=2.0 in /usr/local/lib/python3.10/dist-packages (from Flask>=2.2->dwave-inspector==0.4.2->dwave-ocean-sdk) (2.1.2)\n",
            "Requirement already satisfied: typing-extensions>=4.2.0 in /usr/local/lib/python3.10/dist-packages (from pydantic<2,>=1.7.3->dwave-cloud-client==0.10.6->dwave-ocean-sdk) (4.7.1)\n",
            "Requirement already satisfied: urllib3<1.27,>=1.21.1 in /usr/local/lib/python3.10/dist-packages (from requests[socks]>=2.18->dwave-cloud-client==0.10.6->dwave-ocean-sdk) (1.26.16)\n",
            "Requirement already satisfied: certifi>=2017.4.17 in /usr/local/lib/python3.10/dist-packages (from requests[socks]>=2.18->dwave-cloud-client==0.10.6->dwave-ocean-sdk) (2023.5.7)\n",
            "Requirement already satisfied: charset-normalizer~=2.0.0 in /usr/local/lib/python3.10/dist-packages (from requests[socks]>=2.18->dwave-cloud-client==0.10.6->dwave-ocean-sdk) (2.0.12)\n",
            "Requirement already satisfied: idna<4,>=2.5 in /usr/local/lib/python3.10/dist-packages (from requests[socks]>=2.18->dwave-cloud-client==0.10.6->dwave-ocean-sdk) (3.4)\n",
            "Requirement already satisfied: PySocks!=1.5.7,>=1.5.6 in /usr/local/lib/python3.10/dist-packages (from requests[socks]>=2.18->dwave-cloud-client==0.10.6->dwave-ocean-sdk) (1.7.1)\n",
            "Requirement already satisfied: MarkupSafe>=2.1.1 in /usr/local/lib/python3.10/dist-packages (from werkzeug>=2.2->dwave-cloud-client==0.10.6->dwave-ocean-sdk) (2.1.3)\n",
            "Installing collected packages: rectangle-packer, plucky, homebase, networkx, fasteners, diskcache, dimod, penaltymodel, dwave-preprocessing, dwave-networkx, minorminer, dwavebinarycsp, dwave-tabu, dwave-greedy, dwave-cloud-client, dwave-system, dwave-inspector, dwave-hybrid, dwave-ocean-sdk\n",
            "  Attempting uninstall: networkx\n",
            "    Found existing installation: networkx 3.1\n",
            "    Uninstalling networkx-3.1:\n",
            "      Successfully uninstalled networkx-3.1\n",
            "  Attempting uninstall: dimod\n",
            "    Found existing installation: dimod 0.12.10\n",
            "    Uninstalling dimod-0.12.10:\n",
            "      Successfully uninstalled dimod-0.12.10\n",
            "Successfully installed dimod-0.12.6 diskcache-5.6.1 dwave-cloud-client-0.10.6 dwave-greedy-0.3.0 dwave-hybrid-0.6.10 dwave-inspector-0.4.2 dwave-networkx-0.8.14 dwave-ocean-sdk-6.4.1 dwave-preprocessing-0.5.4 dwave-system-1.19.0 dwave-tabu-0.5.0 dwavebinarycsp-0.2.0 fasteners-0.18 homebase-1.0.1 minorminer-0.2.11 networkx-2.8.8 penaltymodel-1.0.2 plucky-0.4.3 rectangle-packer-2.0.1\n"
          ]
        }
      ]
    },
    {
      "cell_type": "code",
      "execution_count": 2,
      "metadata": {
        "id": "LxRvHLPiqVhn"
      },
      "outputs": [],
      "source": [
        "import sys\n",
        "import time\n",
        "from collections import defaultdict\n",
        "import re # to extract numbers from strings\n",
        "\n",
        "import numpy as np\n",
        "from numpy import linalg as la\n",
        "import networkx as nx\n",
        "\n",
        "# Gurobi libraries\n",
        "import gurobipy as gp\n",
        "from gurobipy import GRB\n",
        "\n",
        "# DWave libraries\n",
        "import dwave.cloud as dc\n",
        "from dwave.system.samplers import DWaveSampler\n",
        "from dwave.system.composites import EmbeddingComposite\n",
        "import dimod\n",
        "from dimod import BinaryQuadraticModel\n",
        "import neal\n",
        "\n",
        "# Library to prepare QUBO formulation\n",
        "from pyqubo import Array, Binary, Constraint, SubH"
      ]
    },
    {
      "cell_type": "markdown",
      "source": [
        "# Connect to DWave and choose solver"
      ],
      "metadata": {
        "id": "WcDaewWLT_5p"
      }
    },
    {
      "cell_type": "code",
      "source": [
        "token = '' # put your personal token here\n",
        "endpoint = 'https://cloud.dwavesys.com/sapi'"
      ],
      "metadata": {
        "id": "ywzvM1NVit0u"
      },
      "execution_count": 3,
      "outputs": []
    },
    {
      "cell_type": "code",
      "source": [
        "# Set your D-Wave API token and endpoint URL\n",
        "config = {\n",
        "    'token': token,\n",
        "    'endpoint': endpoint,\n",
        "}\n",
        "\n",
        "# Connect to the D-Wave system\n",
        "client = dc.Client.from_config(**config)\n",
        "\n",
        "# Print the available samplers and their names\n",
        "for solver in client.get_solvers():\n",
        "    print(\"Solver Name:\", solver.id)"
      ],
      "metadata": {
        "colab": {
          "base_uri": "https://localhost:8080/"
        },
        "id": "Od8sFPf1Yamb",
        "outputId": "3fb997c9-2c2c-4889-f577-ec4270963eac"
      },
      "execution_count": 4,
      "outputs": [
        {
          "output_type": "stream",
          "name": "stdout",
          "text": [
            "Solver Name: hybrid_binary_quadratic_model_version2\n",
            "Solver Name: hybrid_discrete_quadratic_model_version1\n",
            "Solver Name: hybrid_constrained_quadratic_model_version1\n",
            "Solver Name: Advantage2_prototype1.1\n",
            "Solver Name: Advantage_system6.2\n",
            "Solver Name: Advantage_system4.1\n"
          ]
        }
      ]
    },
    {
      "cell_type": "code",
      "source": [
        "# Set your D-Wave API token and endpoint URL\n",
        "config = {\n",
        "    'token': token,\n",
        "    'endpoint': endpoint,\n",
        "    'solver': 'Advantage_system6.2'  # Specify the DWave solver name we want to use\n",
        "}\n",
        "\n",
        "# choose the sampler\n",
        "# Simulated Annealing\n",
        "sampler = neal.SimulatedAnnealingSampler()\n",
        "# DWave sampler\n",
        "# sampler = DWaveSampler(**config)\n",
        "# sampler = EmbeddingComposite(sampler) # DWave built-in embedding strategy"
      ],
      "metadata": {
        "id": "oh8dyTvzUDd_"
      },
      "execution_count": 5,
      "outputs": []
    },
    {
      "cell_type": "markdown",
      "source": [
        "# Generate a random graph"
      ],
      "metadata": {
        "id": "1odMfoAe2316"
      }
    },
    {
      "cell_type": "code",
      "source": [
        "# number of nodes\n",
        "n = 7\n",
        "\n",
        "# number of vehicles\n",
        "k = 3\n",
        "\n",
        "# generate random Adjacency matrix\n",
        "E = np.random.randint(0, 10, size=(n, n))\n",
        "# make it symmetrical (to avoid getting stuck in dead ends)\n",
        "E = E + E.T\n",
        "# take away the diagonal\n",
        "E = E - np.diag(np.diag(E))\n",
        "\n",
        "# generate graph from Adjacency matrix\n",
        "G = nx.from_numpy_array(E, create_using=nx.DiGraph)\n",
        "\n",
        "# fix depot node\n",
        "depot = 0\n",
        "\n",
        "# draw Graph using Fruchterman-Reingold force-directed algorithm\n",
        "nx.draw(G, nx.spring_layout(G), with_labels=True)"
      ],
      "metadata": {
        "colab": {
          "base_uri": "https://localhost:8080/",
          "height": 0
        },
        "id": "OKRbWZPZqd-i",
        "outputId": "26e7d36a-a764-4e0b-a384-4108237a5bbf"
      },
      "execution_count": 6,
      "outputs": [
        {
          "output_type": "display_data",
          "data": {
            "text/plain": [
              "<Figure size 640x480 with 1 Axes>"
            ],
            "image/png": "[encoded data removed]"
          },
          "metadata": {}
        }
      ]
    },
    {
      "cell_type": "markdown",
      "source": [
        "# Useful functions"
      ],
      "metadata": {
        "id": "ynfpjho1TDQ4"
      }
    },
    {
      "cell_type": "markdown",
      "source": [
        "## check if feasible solution is an actual route"
      ],
      "metadata": {
        "id": "st6HXJDXTFzK"
      }
    },
    {
      "cell_type": "code",
      "source": [
        "def is_valid_routing(edges, VERBOSE=False, formulation=1):\n",
        "\n",
        "  # get starting edges of each route\n",
        "  routes = []\n",
        "\n",
        "  if formulation==1:\n",
        "    for edge in edges:    # edge = (node i, node j)\n",
        "      if edge[0]==0:\n",
        "        routes.append([edge[0], edge[1]])\n",
        "\n",
        "    # attempt to build the routes\n",
        "    for i in range(len(routes)):\n",
        "      # build route for i-th vehicle\n",
        "      next_nodes = [edge[1] for edge in edges if edge[0]==routes[i][-1]]\n",
        "      if next_nodes == []:\n",
        "        pass\n",
        "      else:\n",
        "        next_node = next_nodes[0]\n",
        "        routes[i].append(next_node)\n",
        "        while (len(routes[i])<n) and (next_node!=0) and (next_nodes!=[]):\n",
        "          next_nodes = [edge[1] for edge in edges if edge[0]==routes[i][-1]]\n",
        "          if next_nodes != []:\n",
        "            next_node = next_nodes[0]\n",
        "            routes[i].append(next_node)\n",
        "\n",
        "  elif formulation==2:\n",
        "    for v in range(k):\n",
        "      # take nodes visited by v-th vehicle\n",
        "      nodes_vth_veich = sorted([edge for edge in edges if edge[0]==v], key=lambda x: x[2])    # edge = (vehicle, node, timestep)\n",
        "      # check time consistency (one node per time step)\n",
        "      time_steps = [node[2] for node in nodes_vth_veich]\n",
        "      if time_steps != [i for i in range(n)]:\n",
        "        if VERBOSE==True:\n",
        "          print('Not a valid routing')\n",
        "        return (False, routes)\n",
        "      else:\n",
        "        routes.append([node[1] for node in nodes_vth_veich])\n",
        "\n",
        "  # check wether each node is visited\n",
        "  for i in range(n):\n",
        "    l = [route for route in routes if i in route]\n",
        "    if l==[]:\n",
        "      if VERBOSE==True:\n",
        "        print('Not a valid routing')\n",
        "      return (False, routes)\n",
        "\n",
        "  if VERBOSE==True:\n",
        "    print('Valid routing. The routes are\\n')\n",
        "    for route in routes:\n",
        "      print(route)\n",
        "\n",
        "  return (True, routes)"
      ],
      "metadata": {
        "id": "Ljj2yKmbioKj"
      },
      "execution_count": 7,
      "outputs": []
    },
    {
      "cell_type": "markdown",
      "source": [
        "## get visited edges from annealing sampling"
      ],
      "metadata": {
        "id": "ui7YxoZfTJ3i"
      }
    },
    {
      "cell_type": "code",
      "source": [
        "# get edges\n",
        "def get_edges_from_sample(sample, formulation=1):\n",
        "\n",
        "  edges = []\n",
        "\n",
        "  if formulation==1:\n",
        "    for i in range(n):\n",
        "      for j in range(n):\n",
        "        if sample[f'x[{i}][{j}]']==1:\n",
        "          edges.append((i, j))\n",
        "\n",
        "  elif formulation==2:\n",
        "    for v in range(k):\n",
        "      for i in range(n):\n",
        "        for j in range(n):\n",
        "          if sample[f'x[{v}][{i}][{j}]']==1:\n",
        "            edges.append((v, i, j))\n",
        "\n",
        "  return edges"
      ],
      "metadata": {
        "id": "k6XVlmIs9NAY"
      },
      "execution_count": 8,
      "outputs": []
    },
    {
      "cell_type": "markdown",
      "source": [
        "## Graver Augmentation"
      ],
      "metadata": {
        "id": "5GAY33nLTRe1"
      }
    },
    {
      "cell_type": "code",
      "source": [
        "# Define rules to choose augmentation element, either the best one (argmin) or the first one that is found\n",
        "def argmin(iterable):\n",
        "  return min(enumerate(iterable), key=lambda x: x[1])\n",
        "\n",
        "def greedy(iterable):\n",
        "  for i, val in enumerate(iterable):  #[i = graver element, val=(obj, step_size)]\n",
        "      if val[1] != 0:\n",
        "          return i, val\n",
        "  return i, val"
      ],
      "metadata": {
        "id": "8j1E96nPPAsT"
      },
      "execution_count": 9,
      "outputs": []
    },
    {
      "cell_type": "code",
      "source": [
        "# We can just have a single step move (works well with greedy approach)\n",
        "def single_move(g, fun, x, x_lo = None, x_up = None):\n",
        "  if x_lo is None:\n",
        "      x_lo = np.zeros_like(x)\n",
        "  if x_up is None:\n",
        "      x_up = np.ones_like(x)\n",
        "\n",
        "  alpha = 0\n",
        "\n",
        "  if (x + g <= x_up).all() and (x + g >= x_lo).all():\n",
        "      if fun(x + g) < fun(x):\n",
        "          alpha = 1\n",
        "  elif (x - g <= x_up).all() and (x - g >= x_lo).all():\n",
        "      if fun(x - g) < fun(x) and fun(x - g) < fun(x + g):\n",
        "          alpha = -1\n",
        "\n",
        "  return (fun(x + alpha*g), alpha)"
      ],
      "metadata": {
        "id": "739eaAKtRiKt"
      },
      "execution_count": 10,
      "outputs": []
    },
    {
      "cell_type": "code",
      "source": [
        "def augmentation(grav, func, x, x_lo = np.zeros(n*n), x_up = np.ones(n*n), VERBOSE = True, itermax = 1000):\n",
        "  # Let's perform the augmentation and return the number of steps and the best solution\n",
        "  # OPTION = 3 # Greedy augmentation, select using first found\n",
        "  dist = 1\n",
        "  gprev = None\n",
        "  k = 1\n",
        "  if VERBOSE:\n",
        "      print(\"Initial point:\", x)\n",
        "      print(\"Objective function:\",func(x))\n",
        "  while dist != 0 and k < itermax:\n",
        "    g1, (obj, dist) = greedy(single_move(g=e, fun=func, x=x, x_lo=x_lo, x_up=x_up) for e in grav)\n",
        "    x = x + grav[g1]*dist\n",
        "    gprev = grav[g1]\n",
        "    if VERBOSE:\n",
        "        print(\"Iteration \", k)\n",
        "        print('Graver element, (obj, alpha):', g1, (obj, dist))\n",
        "        print(\"Augmentation direction:\", gprev)\n",
        "        print(\"Objective function:\", func(x))\n",
        "        print(\"Current point:\", x)\n",
        "        print(\"Are constraints satisfied?\", const(x))\n",
        "    else:\n",
        "        if k%50 == 0:\n",
        "            print(k)\n",
        "            print(obj)\n",
        "    k += 1\n",
        "  return(k, obj, x)"
      ],
      "metadata": {
        "id": "Pux1pzfcSB3E"
      },
      "execution_count": 11,
      "outputs": []
    },
    {
      "cell_type": "code",
      "source": [
        "def get_feasible(A, b, sampler, samples=1000, refine_almost_feasible=False):\n",
        "\n",
        "  AA = np.dot(A.T, A)\n",
        "  h = -2.0*np.dot(b.T, A)\n",
        "  Q = AA + np.diag(h)\n",
        "  offset = np.dot(b.T, b) + 0.0\n",
        "\n",
        "  # Define Binary Quadratic Model\n",
        "  bqm = dimod.BinaryQuadraticModel.from_numpy_matrix(mat=Q, offset=offset)\n",
        "\n",
        "  response = sampler.sample(bqm, num_reads=samples)\n",
        "\n",
        "  # remove duplicates from the sample set\n",
        "  response = response.aggregate()\n",
        "\n",
        "  filter_idx = [i for i, e in enumerate(response.record.energy) if e == 0.0] # get only actual feasible solutions\n",
        "  feas_sols = response.record.sample[filter_idx]\n",
        "\n",
        "  # feas_sols contains the actual solutions of the QUBO problem,\n",
        "  # namely those x such that Ax=0 (to get graver elems) and Ax=b (to get feasible solutions)\n",
        "  # Usually, when solving for the graver elements it might happen that we also find several\n",
        "  # low energy solutions y such that Ay ~ 0 but Ay!=0.\n",
        "  # Instead of discarding such y's, it is convenient to combine them in order\n",
        "  # to create new graver elements. That's what we do in the next lines of code\n",
        "\n",
        "  if refine_almost_feasible==True:\n",
        "\n",
        "    # get unfeasible solutions\n",
        "    filter_idx = [i for i, e in enumerate(response.record.energy) if e != 0.0]\n",
        "    sols = response.record.sample[filter_idx]\n",
        "    # compute error matrix\n",
        "    Error_matrix = np.dot(A, sols.T)\n",
        "\n",
        "    # almost feasible solutions with gap-value of 1\n",
        "    err_one_sols = [i for i in range(Error_matrix.shape[1]) if np.sum(np.abs(Error_matrix[:, i]))==1]\n",
        "    almost_feas_sols_1 = sols[err_one_sols]\n",
        "    # create new feasible solutions\n",
        "    feas_sols_1 = filter_sol_abs_error(almost_feas_sols_1, abs_error=1)\n",
        "    # stack everything togheter\n",
        "    if feas_sols_1.shape[0]>0:\n",
        "      feas_sols = np.vstack([feas_sols, feas_sols_1])\n",
        "\n",
        "    # almost feasible solutions with gap-value of 2\n",
        "    err_two_sols = [i for i in range(Error_matrix.shape[1]) if np.sum(np.abs(Error_matrix[:, i]))==2]\n",
        "    almost_feas_sols_2 = sols[err_two_sols]\n",
        "    # create new feasible solutions\n",
        "    feas_sols_2 = filter_sol_abs_error(almost_feas_sols_2, abs_error=2)\n",
        "    # stack everything togheter\n",
        "    if feas_sols_2.shape[0]>0:\n",
        "      feas_sols = np.vstack([feas_sols, feas_sols_2])\n",
        "\n",
        "  # remove duplicate solutions\n",
        "  feas_sols = np.unique(feas_sols, axis=0)\n",
        "  return feas_sols"
      ],
      "metadata": {
        "id": "D8bbD6aISNK2"
      },
      "execution_count": 12,
      "outputs": []
    },
    {
      "cell_type": "code",
      "source": [
        "# this functions takes as input a set of almost feasible solutions\n",
        "# and combines them to create new actual feasible solutions\n",
        "def filter_sol_abs_error(sols, abs_error=1):\n",
        "\n",
        "  plus_one_group = []\n",
        "  minus_one_group = []\n",
        "  for i in range(sols.shape[0]):\n",
        "    if np.sum(np.dot(A, sols[i].T))==abs_error:\n",
        "      plus_one_group.append(sols[i])\n",
        "    elif np.sum(np.dot(A, sols[i].T))==-abs_error:\n",
        "      minus_one_group.append(sols[i])\n",
        "\n",
        "  plus_one_group = np.array(plus_one_group)\n",
        "  minus_one_group = np.array(minus_one_group)\n",
        "\n",
        "  new_sols = []\n",
        "\n",
        "  for i in range(plus_one_group.shape[0]):\n",
        "    for j in range(i, plus_one_group.shape[0]):\n",
        "      curr_sol = plus_one_group[i] - plus_one_group[j]\n",
        "      if np.sum(np.abs(np.dot(A, curr_sol.T)))==0:\n",
        "        new_sols.append(curr_sol)\n",
        "        new_sols.append(-curr_sol)\n",
        "\n",
        "  for i in range(minus_one_group.shape[0]):\n",
        "    for j in range(i, minus_one_group.shape[0]):\n",
        "      curr_sol = minus_one_group[i] - minus_one_group[j]\n",
        "      if np.sum(np.abs(np.dot(A, curr_sol.T)))==0:\n",
        "        new_sols.append(curr_sol)\n",
        "        new_sols.append(-curr_sol)\n",
        "\n",
        "  for i in range(plus_one_group.shape[0]):\n",
        "    for j in range(minus_one_group.shape[0]):\n",
        "      curr_sol = plus_one_group[i] + minus_one_group[j]\n",
        "      if np.sum(np.abs(np.dot(A, curr_sol.T)))==0:\n",
        "        new_sols.append(curr_sol)\n",
        "\n",
        "  new_sols = np.array(new_sols)\n",
        "  return new_sols"
      ],
      "metadata": {
        "id": "kzd__rqm3fnj"
      },
      "execution_count": 13,
      "outputs": []
    },
    {
      "cell_type": "code",
      "source": [
        "def graver_multiseed_augmentation(feas_sols, graver_elems, const, f):\n",
        "\n",
        "  if len(feas_sols)==0:\n",
        "    print('No feasible solutions to augment')\n",
        "    return\n",
        "\n",
        "  init_obj = np.zeros((len(feas_sols)))\n",
        "  iters_full = np.zeros((len(feas_sols)))\n",
        "  final_obj_full = np.zeros((len(feas_sols)))\n",
        "  times_full = np.zeros((len(feas_sols)))\n",
        "  final_sols = np.zeros(shape=(len(feas_sols), feas_sols[0].shape[0]))\n",
        "\n",
        "  for i, sol in enumerate(feas_sols):\n",
        "    if not const(sol):\n",
        "      print(\"Infeasible\")\n",
        "      pass\n",
        "    init_obj[i] = f(sol)\n",
        "    start = time.process_time()\n",
        "    iter, f_obj, xf = augmentation(grav = graver_elems, func = f, x = sol,\n",
        "                                   x_lo = np.zeros(feas_sols[0].shape[0]),\n",
        "                                   x_up = np.ones(feas_sols[0].shape[0]),\n",
        "                                   VERBOSE=False)\n",
        "    times_full[i] = time.process_time() - start\n",
        "    iters_full[i] = iter\n",
        "    final_obj_full[i] = f_obj\n",
        "    final_sols[i, :] = xf\n",
        "\n",
        "  return (final_sols, final_obj_full)"
      ],
      "metadata": {
        "id": "7uRg0rbMSW7Z"
      },
      "execution_count": 14,
      "outputs": []
    },
    {
      "cell_type": "markdown",
      "source": [
        "# VRP with exactly k vehicles - First Formulation"
      ],
      "metadata": {
        "id": "ARv-ITxH3BRW"
      }
    },
    {
      "cell_type": "markdown",
      "source": [
        "## Formulation"
      ],
      "metadata": {
        "id": "ZgLVN3C8ef17"
      }
    },
    {
      "cell_type": "markdown",
      "source": [
        "\\begin{alignat*}{2}\n",
        "\\text{Minimize} \\quad & \\sum_{i, j} c_{ij}x_{ij} \\\\\n",
        "\\text{subject to} \\quad & \\sum_{j \\in N(0)} x_{0j} = k \\\\\n",
        "& \\sum_{j \\in N(0)} x_{j0} = k \\\\\n",
        "& \\sum_{j \\in N(i)} x_{ij} = 1 \\quad \\forall i=1, \\dots, n-1 \\\\\n",
        "& \\sum_{i \\in N(j)} x_{ij} = 1 \\quad \\forall j=1, \\dots, n-1 \\\\\n",
        "& x_{ij} \\in \\{0, 1\\} \\quad \\forall i,j=0, \\dots, n-1\n",
        "\\end{alignat*}"
      ],
      "metadata": {
        "id": "zMsqEnffehhz"
      }
    },
    {
      "cell_type": "markdown",
      "source": [
        "## Gurobi"
      ],
      "metadata": {
        "id": "YXY5O8zNR3e2"
      }
    },
    {
      "cell_type": "code",
      "source": [
        "# Declare and initialize model\n",
        "m = gp.Model('VRP')"
      ],
      "metadata": {
        "id": "CriudpPF1Cmj",
        "colab": {
          "base_uri": "https://localhost:8080/"
        },
        "outputId": "797c434d-caca-470a-fa6e-aeb29c501a9d"
      },
      "execution_count": 15,
      "outputs": [
        {
          "output_type": "stream",
          "name": "stdout",
          "text": [
            "Restricted license - for non-production use only - expires 2024-10-28\n"
          ]
        }
      ]
    },
    {
      "cell_type": "markdown",
      "source": [
        "### Decision variables"
      ],
      "metadata": {
        "id": "phVmRrYb1W6t"
      }
    },
    {
      "cell_type": "code",
      "source": [
        "# Create decision variables\n",
        "x = m.addVars(n, n, vtype=GRB.BINARY, name=\"assign\")"
      ],
      "metadata": {
        "id": "k1jgrHw31KM5"
      },
      "execution_count": 16,
      "outputs": []
    },
    {
      "cell_type": "markdown",
      "source": [
        "### Constraints"
      ],
      "metadata": {
        "id": "-eGr-OgQ1bFS"
      }
    },
    {
      "cell_type": "code",
      "source": [
        "# take away diagonal variables\n",
        "m.addConstrs((x[i, i] == 0 for i in range(n)))\n",
        "\n",
        "# k vehicle departing from depot\n",
        "m.addConstr(sum(x[0, j] for j in range(n) if E[0, j]!=0) == k, name='leave_depot')\n",
        "\n",
        "# k vehicle returning to depot\n",
        "m.addConstr(sum(x[j, 0] for j in range(n) if E[j, 0]!=0) == k, name='return_depot')\n",
        "\n",
        "# only one vehicle on edge (i, j) for every (i, j)\n",
        "m.addConstrs((sum(x[i, j] for i in range(n) if E[i, j]!=0) == 1 for j in range(1, n)), name='enter_node')\n",
        "m.addConstrs((sum(x[i, j] for j in range(n) if E[i, j]!=0) == 1 for i in range(1, n)), name='leave_node')"
      ],
      "metadata": {
        "id": "TlR1rJSW1Rvd",
        "colab": {
          "base_uri": "https://localhost:8080/"
        },
        "outputId": "ce82de5e-96ca-4c6a-a7e4-20f0b78950aa"
      },
      "execution_count": 17,
      "outputs": [
        {
          "output_type": "execute_result",
          "data": {
            "text/plain": [
              "{1: <gurobi.Constr *Awaiting Model Update*>,\n",
              " 2: <gurobi.Constr *Awaiting Model Update*>,\n",
              " 3: <gurobi.Constr *Awaiting Model Update*>,\n",
              " 4: <gurobi.Constr *Awaiting Model Update*>,\n",
              " 5: <gurobi.Constr *Awaiting Model Update*>,\n",
              " 6: <gurobi.Constr *Awaiting Model Update*>}"
            ]
          },
          "metadata": {},
          "execution_count": 17
        }
      ]
    },
    {
      "cell_type": "markdown",
      "source": [
        "### Objective function"
      ],
      "metadata": {
        "id": "AMLDhZlH2_eL"
      }
    },
    {
      "cell_type": "code",
      "source": [
        "# Objective: minimize total cost of all assignments\n",
        "obj = np.sum([E[i,j]*x[i,j]\n",
        "              for i in range(n)\n",
        "              for j in range(n)])\n",
        "\n",
        "m.setObjective(obj, GRB.MINIMIZE)"
      ],
      "metadata": {
        "id": "PXUHDvjE3Bjb"
      },
      "execution_count": 18,
      "outputs": []
    },
    {
      "cell_type": "markdown",
      "source": [
        "### Optimize"
      ],
      "metadata": {
        "id": "ClDyMvak3WKY"
      }
    },
    {
      "cell_type": "code",
      "source": [
        "# Save model for inspection\n",
        "m.write('VRP.lp')"
      ],
      "metadata": {
        "id": "JRndLZpv3P5x"
      },
      "execution_count": 19,
      "outputs": []
    },
    {
      "cell_type": "code",
      "source": [
        "# Run optimization engine\n",
        "m.optimize()"
      ],
      "metadata": {
        "colab": {
          "base_uri": "https://localhost:8080/"
        },
        "id": "nro2u7rv3X-K",
        "outputId": "a6870946-ff12-4907-f847-9073676e3cec"
      },
      "execution_count": 20,
      "outputs": [
        {
          "output_type": "stream",
          "name": "stdout",
          "text": [
            "Gurobi Optimizer version 10.0.2 build v10.0.2rc0 (linux64)\n",
            "\n",
            "CPU model: Intel(R) Xeon(R) CPU @ 2.20GHz, instruction set [SSE2|AVX|AVX2]\n",
            "Thread count: 1 physical cores, 2 logical processors, using up to 2 threads\n",
            "\n",
            "Optimize a model with 21 rows, 49 columns and 91 nonzeros\n",
            "Model fingerprint: 0x2e59d435\n",
            "Variable types: 0 continuous, 49 integer (49 binary)\n",
            "Coefficient statistics:\n",
            "  Matrix range     [1e+00, 1e+00]\n",
            "  Objective range  [1e+00, 2e+01]\n",
            "  Bounds range     [1e+00, 1e+00]\n",
            "  RHS range        [1e+00, 3e+00]\n",
            "Found heuristic solution: objective 97.0000000\n",
            "Presolve removed 7 rows and 7 columns\n",
            "Presolve time: 0.00s\n",
            "Presolved: 14 rows, 42 columns, 84 nonzeros\n",
            "Variable types: 0 continuous, 42 integer (42 binary)\n",
            "\n",
            "Root relaxation: objective 4.900000e+01, 10 iterations, 0.00 seconds (0.00 work units)\n",
            "\n",
            "    Nodes    |    Current Node    |     Objective Bounds      |     Work\n",
            " Expl Unexpl |  Obj  Depth IntInf | Incumbent    BestBd   Gap | It/Node Time\n",
            "\n",
            "*    0     0               0      49.0000000   49.00000  0.00%     -    0s\n",
            "\n",
            "Explored 1 nodes (10 simplex iterations) in 0.06 seconds (0.00 work units)\n",
            "Thread count was 2 (of 2 available processors)\n",
            "\n",
            "Solution count 2: 49 97 \n",
            "\n",
            "Optimal solution found (tolerance 1.00e-04)\n",
            "Best objective 4.900000000000e+01, best bound 4.900000000000e+01, gap 0.0000%\n"
          ]
        }
      ]
    },
    {
      "cell_type": "markdown",
      "source": [
        "### Routes"
      ],
      "metadata": {
        "id": "9HOh7lP06fQN"
      }
    },
    {
      "cell_type": "code",
      "source": [
        "# get non zero decision variables\n",
        "routes = []\n",
        "for v in m.getVars():\n",
        "  if v.x > 1e-6:\n",
        "    nodes_indices = re.findall(r'\\d+', v.varName)\n",
        "    routes.append((int(nodes_indices[0]), int(nodes_indices[1])))\n",
        "\n",
        "is_valid_routing(routes)"
      ],
      "metadata": {
        "colab": {
          "base_uri": "https://localhost:8080/"
        },
        "id": "DxOgCraw_5uS",
        "outputId": "fe254615-7606-451f-e8f6-a6cfd2603591"
      },
      "execution_count": 21,
      "outputs": [
        {
          "output_type": "execute_result",
          "data": {
            "text/plain": [
              "(False, [[0, 1, 0], [0, 4, 0], [0, 5, 2, 0]])"
            ]
          },
          "metadata": {},
          "execution_count": 21
        }
      ]
    },
    {
      "cell_type": "markdown",
      "source": [
        "## QUBO"
      ],
      "metadata": {
        "id": "7awFsqQoakWv"
      }
    },
    {
      "cell_type": "markdown",
      "source": [
        "### Formulation"
      ],
      "metadata": {
        "id": "cfrBqbkExE0Q"
      }
    },
    {
      "cell_type": "markdown",
      "source": [
        "\\begin{align}\n",
        "\\min_{x_{ij} \\in \\{0,1\\} \\forall i,j} x^tQx\n",
        "\\end{align}\n",
        "namely\n",
        "\\begin{align}\n",
        "\\min_{x_{ij} \\in \\{0,1\\} \\forall i,j} \\sum_{i, j} c_{ij}x_{ij} + + \\rho\\left[\\sum_{(i,j)\\notin E}x_{ij} + \\left(\\sum_{j \\in N(0)} x_{0j} - k\\right)^2 + \\left(\\sum_{j \\in N(0)} x_{j0} - k\\right)^2 + \\sum_{i}\\left(\\sum_{j \\in N(i)} x_{ij} - 1\\right)^2 + \\sum_{j}\\left(\\sum_{i \\in N(j)} x_{ij} - 1 \\right)^2\\right]\n",
        "\\end{align}"
      ],
      "metadata": {
        "id": "U3eietJwxJqG"
      }
    },
    {
      "cell_type": "markdown",
      "source": [
        "### QUBO matrix"
      ],
      "metadata": {
        "id": "RVZT0NQtTkej"
      }
    },
    {
      "cell_type": "code",
      "source": [
        "# Get the constraint matrix A and vector b (Ax=b) from Gurobi model\n",
        "m.update()\n",
        "# x = m.getVars()\n",
        "A = m.getA()\n",
        "b = np.array(m.getAttr(\"RHS\", m.getConstrs()))\n",
        "obj_coeffs = m.getAttr(\"Obj\", m.getVars())\n",
        "obj_coeffs = np.array(obj_coeffs).reshape((n,n))\n",
        "\n",
        "# create QUBO variables\n",
        "x = Array.create('x', shape=(n, n), vartype='BINARY')\n",
        "\n",
        "# define objective function\n",
        "obj = sum(obj_coeffs[i,j]*x[i,j] for i in range(n) for j in range(n))\n",
        "\n",
        "# penalty factors for QUBO\n",
        "# p = np.sum(obj_coeffs)+1\n",
        "p = n*np.max(obj_coeffs)"
      ],
      "metadata": {
        "id": "Szl_86Wcpud9"
      },
      "execution_count": 22,
      "outputs": []
    },
    {
      "cell_type": "code",
      "source": [
        "# DOESN'T WORK. RUNTIME CRASHES (MEMORY ISSUES??)\n",
        "\n",
        "# # build QUBO using Gurobi data\n",
        "# constrs = np.dot(A.toarray(), x.reshape((n*n, 1))) - b\n",
        "# Q = obj + p*np.dot(constrs.T, constrs)\n",
        "\n",
        "# # also, penalize the usage of non-existing edges\n",
        "# Q += p*(Constraint(sum([x[i, j] for i in range(n) for j in range(n) if E[i, j]==0]), label='non_existing_edges'))"
      ],
      "metadata": {
        "id": "O_y-TwntqXQc"
      },
      "execution_count": 23,
      "outputs": []
    },
    {
      "cell_type": "code",
      "source": [
        "# build QUBO by manually adding constraints\n",
        "# add the objective\n",
        "Q =  obj\n",
        "\n",
        "# add the constraints\n",
        "# penalize the usage of non-existing edges\n",
        "Q += p*(Constraint(sum([x[i, j] for i in range(n) for j in range(n) if E[i, j]==0]), label='non_existing_edges'))\n",
        "\n",
        "# k vehicles leaving the depot\n",
        "Q += p*(Constraint((sum([x[0, j] for j in range(1, n) if E[0, j]!=0])-k)**2, label='leave_depot'))\n",
        "\n",
        "# k vehicles returning to depot\n",
        "Q += p*(Constraint((sum([x[j, 0] for j in range(1, n) if E[j, 0]!=0])-k)**2, label='return_depot'))\n",
        "\n",
        "# only one edge coming out from each node\n",
        "Q += p*sum([Constraint((sum([x[i, j] for j in range(1, n) if j!=i and E[i, j]!=0])-1)**2, label=f'leave_node_{i}') for i in range(1, n)])\n",
        "\n",
        "# only one edge entering each node\n",
        "Q += p*sum([Constraint((sum([x[i, j] for i in range(1, n) if i!=j and E[i, j]!=0])-1)**2, label=f'enter_node_{j}') for j in range(1, n)])"
      ],
      "metadata": {
        "id": "689z6-RkamWw"
      },
      "execution_count": 24,
      "outputs": []
    },
    {
      "cell_type": "code",
      "source": [
        "# get QUBO matrix\n",
        "model = Q.compile()\n",
        "Q, offset = model.to_qubo()\n",
        "Q"
      ],
      "metadata": {
        "colab": {
          "base_uri": "https://localhost:8080/"
        },
        "id": "yIm6Yy8DgUkW",
        "outputId": "5009616d-6e64-433d-cbfa-c00551a15138"
      },
      "execution_count": 25,
      "outputs": [
        {
          "output_type": "execute_result",
          "data": {
            "text/plain": [
              "{('x[2][6]', 'x[2][6]'): -216.0,\n",
              " ('x[6][5]', 'x[6][1]'): 224.0,\n",
              " ('x[6][3]', 'x[2][3]'): 224.0,\n",
              " ('x[0][5]', 'x[0][3]'): 224.0,\n",
              " ('x[4][0]', 'x[3][0]'): 224.0,\n",
              " ('x[0][3]', 'x[0][2]'): 224.0,\n",
              " ('x[6][2]', 'x[3][2]'): 224.0,\n",
              " ('x[3][1]', 'x[3][1]'): -217.0,\n",
              " ('x[1][2]', 'x[1][2]'): -212.0,\n",
              " ('x[0][3]', 'x[0][3]'): -547.0,\n",
              " ('x[1][5]', 'x[1][3]'): 224.0,\n",
              " ('x[5][4]', 'x[3][4]'): 224.0,\n",
              " ('x[5][4]', 'x[5][2]'): 224.0,\n",
              " ('x[6][5]', 'x[6][5]'): -212.0,\n",
              " ('x[2][3]', 'x[2][1]'): 224.0,\n",
              " ('x[4][5]', 'x[4][5]'): -214.0,\n",
              " ('x[6][0]', 'x[2][0]'): 224.0,\n",
              " ('x[2][3]', 'x[2][3]'): -216.0,\n",
              " ('x[6][4]', 'x[6][3]'): 224.0,\n",
              " ('x[1][5]', 'x[1][4]'): 224.0,\n",
              " ('x[5][1]', 'x[3][1]'): 224.0,\n",
              " ('x[5][6]', 'x[5][4]'): 224.0,\n",
              " ('x[1][4]', 'x[1][4]'): -215.0,\n",
              " ('x[5][6]', 'x[3][6]'): 224.0,\n",
              " ('x[3][1]', 'x[2][1]'): 224.0,\n",
              " ('x[4][0]', 'x[4][0]'): -557.0,\n",
              " ('x[4][2]', 'x[4][1]'): 224.0,\n",
              " ('x[4][5]', 'x[1][5]'): 224.0,\n",
              " ('x[6][3]', 'x[1][3]'): 224.0,\n",
              " ('x[6][5]', 'x[3][5]'): 224.0,\n",
              " ('x[2][4]', 'x[1][4]'): 224.0,\n",
              " ('x[1][3]', 'x[1][3]'): -217.0,\n",
              " ('x[6][0]', 'x[3][0]'): 224.0,\n",
              " ('x[5][1]', 'x[4][1]'): 224.0,\n",
              " ('x[6][1]', 'x[2][1]'): 224.0,\n",
              " ('x[3][5]', 'x[2][5]'): 224.0,\n",
              " ('x[2][4]', 'x[2][3]'): 224.0,\n",
              " ('x[0][5]', 'x[0][2]'): 224.0,\n",
              " ('x[3][3]', 'x[3][3]'): 112.0,\n",
              " ('x[3][6]', 'x[3][1]'): 224.0,\n",
              " ('x[4][4]', 'x[4][4]'): 112.0,\n",
              " ('x[1][5]', 'x[1][2]'): 224.0,\n",
              " ('x[6][0]', 'x[5][0]'): 224.0,\n",
              " ('x[6][4]', 'x[2][4]'): 224.0,\n",
              " ('x[0][6]', 'x[0][1]'): 224.0,\n",
              " ('x[3][2]', 'x[3][1]'): 224.0,\n",
              " ('x[6][2]', 'x[4][2]'): 224.0,\n",
              " ('x[6][5]', 'x[2][5]'): 224.0,\n",
              " ('x[4][5]', 'x[3][5]'): 224.0,\n",
              " ('x[0][5]', 'x[0][1]'): 224.0,\n",
              " ('x[6][5]', 'x[4][5]'): 224.0,\n",
              " ('x[0][1]', 'x[0][1]'): -553.0,\n",
              " ('x[5][3]', 'x[5][1]'): 224.0,\n",
              " ('x[6][5]', 'x[6][2]'): 224.0,\n",
              " ('x[2][6]', 'x[2][1]'): 224.0,\n",
              " ('x[5][4]', 'x[5][4]'): -214.0,\n",
              " ('x[0][6]', 'x[0][2]'): 224.0,\n",
              " ('x[6][2]', 'x[6][1]'): 224.0,\n",
              " ('x[4][3]', 'x[2][3]'): 224.0,\n",
              " ('x[6][4]', 'x[6][4]'): -220.0,\n",
              " ('x[3][0]', 'x[1][0]'): 224.0,\n",
              " ('x[5][1]', 'x[2][1]'): 224.0,\n",
              " ('x[4][3]', 'x[4][1]'): 224.0,\n",
              " ('x[6][4]', 'x[1][4]'): 224.0,\n",
              " ('x[0][4]', 'x[0][1]'): 224.0,\n",
              " ('x[6][1]', 'x[6][1]'): -213.0,\n",
              " ('x[3][6]', 'x[3][6]'): -223.0,\n",
              " ('x[0][4]', 'x[0][4]'): -557.0,\n",
              " ('x[6][4]', 'x[5][4]'): 224.0,\n",
              " ('x[5][6]', 'x[1][6]'): 224.0,\n",
              " ('x[4][1]', 'x[3][1]'): 224.0,\n",
              " ('x[3][5]', 'x[3][4]'): 224.0,\n",
              " ('x[2][6]', 'x[2][5]'): 224.0,\n",
              " ('x[2][1]', 'x[2][1]'): -212.0,\n",
              " ('x[6][5]', 'x[6][3]'): 224.0,\n",
              " ('x[4][3]', 'x[4][2]'): 224.0,\n",
              " ('x[1][1]', 'x[1][1]'): 112.0,\n",
              " ('x[4][5]', 'x[2][5]'): 224.0,\n",
              " ('x[2][5]', 'x[2][1]'): 224.0,\n",
              " ('x[3][6]', 'x[3][4]'): 224.0,\n",
              " ('x[5][6]', 'x[2][6]'): 224.0,\n",
              " ('x[4][6]', 'x[3][6]'): 224.0,\n",
              " ('x[0][3]', 'x[0][1]'): 224.0,\n",
              " ('x[6][5]', 'x[6][4]'): 224.0,\n",
              " ('x[6][4]', 'x[6][1]'): 224.0,\n",
              " ('x[3][4]', 'x[3][1]'): 224.0,\n",
              " ('x[6][2]', 'x[6][2]'): -216.0,\n",
              " ('x[5][1]', 'x[5][1]'): -216.0,\n",
              " ('x[0][6]', 'x[0][6]'): -545.0,\n",
              " ('x[2][2]', 'x[2][2]'): 112.0,\n",
              " ('x[5][2]', 'x[5][2]'): -215.0,\n",
              " ('x[0][2]', 'x[0][2]'): -548.0,\n",
              " ('x[6][0]', 'x[1][0]'): 224.0,\n",
              " ('x[3][5]', 'x[1][5]'): 224.0,\n",
              " ('x[1][0]', 'x[1][0]'): -553.0,\n",
              " ('x[5][3]', 'x[5][3]'): -208.0,\n",
              " ('x[6][2]', 'x[5][2]'): 224.0,\n",
              " ('x[5][4]', 'x[5][3]'): 224.0,\n",
              " ('x[5][6]', 'x[5][2]'): 224.0,\n",
              " ('x[3][6]', 'x[3][2]'): 224.0,\n",
              " ('x[5][3]', 'x[1][3]'): 224.0,\n",
              " ('x[2][0]', 'x[2][0]'): -548.0,\n",
              " ('x[4][2]', 'x[1][2]'): 224.0,\n",
              " ('x[2][0]', 'x[1][0]'): 224.0,\n",
              " ('x[4][6]', 'x[4][3]'): 224.0,\n",
              " ('x[4][6]', 'x[2][6]'): 224.0,\n",
              " ('x[5][4]', 'x[2][4]'): 224.0,\n",
              " ('x[3][6]', 'x[1][6]'): 224.0,\n",
              " ('x[3][4]', 'x[1][4]'): 224.0,\n",
              " ('x[5][2]', 'x[4][2]'): 224.0,\n",
              " ('x[1][5]', 'x[1][5]'): -216.0,\n",
              " ('x[1][6]', 'x[1][5]'): 224.0,\n",
              " ('x[0][6]', 'x[0][4]'): 224.0,\n",
              " ('x[0][0]', 'x[0][0]'): 112.0,\n",
              " ('x[6][3]', 'x[6][3]'): -223.0,\n",
              " ('x[2][5]', 'x[1][5]'): 224.0,\n",
              " ('x[3][5]', 'x[3][5]'): -208.0,\n",
              " ('x[3][6]', 'x[3][5]'): 224.0,\n",
              " ('x[5][0]', 'x[2][0]'): 224.0,\n",
              " ('x[5][3]', 'x[5][2]'): 224.0,\n",
              " ('x[3][4]', 'x[2][4]'): 224.0,\n",
              " ('x[1][6]', 'x[1][6]'): -213.0,\n",
              " ('x[5][0]', 'x[1][0]'): 224.0,\n",
              " ('x[5][4]', 'x[1][4]'): 224.0,\n",
              " ('x[6][0]', 'x[4][0]'): 224.0,\n",
              " ('x[2][6]', 'x[2][4]'): 224.0,\n",
              " ('x[6][1]', 'x[4][1]'): 224.0,\n",
              " ('x[1][6]', 'x[1][4]'): 224.0,\n",
              " ('x[3][4]', 'x[3][2]'): 224.0,\n",
              " ('x[1][6]', 'x[1][2]'): 224.0,\n",
              " ('x[1][3]', 'x[1][2]'): 224.0,\n",
              " ('x[0][2]', 'x[0][1]'): 224.0,\n",
              " ('x[2][6]', 'x[1][6]'): 224.0,\n",
              " ('x[2][5]', 'x[2][5]'): -215.0,\n",
              " ('x[0][6]', 'x[0][3]'): 224.0,\n",
              " ('x[6][4]', 'x[3][4]'): 224.0,\n",
              " ('x[0][4]', 'x[0][2]'): 224.0,\n",
              " ('x[5][6]', 'x[5][1]'): 224.0,\n",
              " ('x[2][5]', 'x[2][4]'): 224.0,\n",
              " ('x[6][3]', 'x[5][3]'): 224.0,\n",
              " ('x[5][6]', 'x[4][6]'): 224.0,\n",
              " ('x[6][0]', 'x[6][0]'): -545.0,\n",
              " ('x[5][5]', 'x[5][5]'): 112.0,\n",
              " ('x[4][6]', 'x[4][2]'): 224.0,\n",
              " ('x[3][6]', 'x[2][6]'): 224.0,\n",
              " ('x[4][1]', 'x[4][1]'): -215.0,\n",
              " ('x[4][6]', 'x[4][5]'): 224.0,\n",
              " ('x[6][3]', 'x[4][3]'): 224.0,\n",
              " ('x[4][3]', 'x[4][3]'): -213.0,\n",
              " ('x[5][6]', 'x[5][3]'): 224.0,\n",
              " ('x[5][4]', 'x[5][1]'): 224.0,\n",
              " ('x[4][0]', 'x[2][0]'): 224.0,\n",
              " ('x[4][5]', 'x[4][3]'): 224.0,\n",
              " ('x[6][5]', 'x[1][5]'): 224.0,\n",
              " ('x[2][4]', 'x[2][1]'): 224.0,\n",
              " ('x[4][1]', 'x[2][1]'): 224.0,\n",
              " ('x[2][5]', 'x[2][3]'): 224.0,\n",
              " ('x[5][6]', 'x[5][6]'): -212.0,\n",
              " ('x[2][3]', 'x[1][3]'): 224.0,\n",
              " ('x[0][5]', 'x[0][4]'): 224.0,\n",
              " ('x[3][0]', 'x[3][0]'): -547.0,\n",
              " ('x[3][5]', 'x[3][2]'): 224.0,\n",
              " ('x[6][4]', 'x[6][2]'): 224.0,\n",
              " ('x[6][2]', 'x[1][2]'): 224.0,\n",
              " ('x[5][2]', 'x[1][2]'): 224.0,\n",
              " ('x[6][1]', 'x[3][1]'): 224.0,\n",
              " ('x[3][0]', 'x[2][0]'): 224.0,\n",
              " ('x[2][4]', 'x[2][4]'): -215.0,\n",
              " ('x[3][2]', 'x[3][2]'): -216.0,\n",
              " ('x[4][5]', 'x[4][2]'): 224.0,\n",
              " ('x[1][4]', 'x[1][2]'): 224.0,\n",
              " ('x[6][3]', 'x[6][1]'): 224.0,\n",
              " ('x[5][2]', 'x[3][2]'): 224.0,\n",
              " ('x[4][6]', 'x[4][1]'): 224.0,\n",
              " ('x[4][2]', 'x[4][2]'): -215.0,\n",
              " ('x[0][5]', 'x[0][5]'): -554.0,\n",
              " ('x[5][0]', 'x[4][0]'): 224.0,\n",
              " ('x[6][1]', 'x[5][1]'): 224.0,\n",
              " ('x[1][6]', 'x[1][3]'): 224.0,\n",
              " ('x[5][0]', 'x[3][0]'): 224.0,\n",
              " ('x[4][3]', 'x[1][3]'): 224.0,\n",
              " ('x[4][2]', 'x[3][2]'): 224.0,\n",
              " ('x[3][2]', 'x[1][2]'): 224.0,\n",
              " ('x[3][5]', 'x[3][1]'): 224.0,\n",
              " ('x[4][6]', 'x[4][6]'): -220.0,\n",
              " ('x[5][0]', 'x[5][0]'): -554.0,\n",
              " ('x[1][4]', 'x[1][3]'): 224.0,\n",
              " ('x[5][3]', 'x[4][3]'): 224.0,\n",
              " ('x[4][6]', 'x[1][6]'): 224.0,\n",
              " ('x[5][3]', 'x[2][3]'): 224.0,\n",
              " ('x[4][0]', 'x[1][0]'): 224.0,\n",
              " ('x[3][4]', 'x[3][4]'): -213.0,\n",
              " ('x[0][4]', 'x[0][3]'): 224.0,\n",
              " ('x[6][3]', 'x[6][2]'): 224.0,\n",
              " ('x[6][6]', 'x[6][6]'): 112.0,\n",
              " ('x[4][5]', 'x[4][1]'): 224.0,\n",
              " ('x[5][2]', 'x[5][1]'): 224.0,\n",
              " ('x[2][6]', 'x[2][3]'): 224.0,\n",
              " ('x[0][6]', 'x[0][5]'): 224.0}"
            ]
          },
          "metadata": {},
          "execution_count": 25
        }
      ]
    },
    {
      "cell_type": "markdown",
      "source": [
        "### Solve QUBO"
      ],
      "metadata": {
        "id": "AjUb1VBQvBzU"
      }
    },
    {
      "cell_type": "code",
      "source": [
        "# solve via choosen sampler\n",
        "sampleset = sampler.sample_qubo(Q, num_reads=1000)#, num_steps=1000)\n",
        "\n",
        "# get num_reads solutions obtained\n",
        "samples = model.decode_sampleset(sampleset)\n",
        "\n",
        "# take only valid solutions (actual routes)\n",
        "samples = [s for s in samples if is_valid_routing(get_edges_from_sample(s.sample))[0]==True]\n",
        "\n",
        "best_sample, energy = None, None\n",
        "\n",
        "if len(samples)>0:\n",
        "  # take only best solution (minimum energy)\n",
        "  best_sample = min(samples, key=lambda s: s.energy)\n",
        "  print(best_sample.sample, '\\n', best_sample.energy)"
      ],
      "metadata": {
        "colab": {
          "base_uri": "https://localhost:8080/"
        },
        "id": "ZyURxPw5vCDI",
        "outputId": "482580ec-f416-4c7e-ce0a-2b9d2d9a1555"
      },
      "execution_count": 26,
      "outputs": [
        {
          "output_type": "stream",
          "name": "stdout",
          "text": [
            "{'x[6][6]': 0, 'x[6][4]': 0, 'x[6][1]': 0, 'x[5][5]': 0, 'x[5][4]': 1, 'x[5][3]': 0, 'x[5][0]': 1, 'x[4][6]': 1, 'x[4][5]': 0, 'x[6][0]': 0, 'x[5][2]': 0, 'x[4][4]': 0, 'x[4][2]': 0, 'x[1][4]': 0, 'x[1][3]': 0, 'x[4][3]': 0, 'x[3][1]': 1, 'x[4][1]': 0, 'x[1][1]': 0, 'x[1][2]': 1, 'x[2][6]': 0, 'x[3][0]': 1, 'x[6][5]': 0, 'x[0][4]': 1, 'x[5][1]': 0, 'x[0][3]': 0, 'x[6][2]': 0, 'x[0][2]': 0, 'x[0][0]': 0, 'x[5][6]': 0, 'x[0][6]': 1, 'x[2][3]': 0, 'x[2][2]': 0, 'x[1][6]': 0, 'x[2][0]': 0, 'x[2][5]': 1, 'x[6][3]': 1, 'x[1][5]': 0, 'x[1][0]': 0, 'x[2][1]': 0, 'x[2][4]': 0, 'x[3][5]': 0, 'x[0][1]': 1, 'x[3][2]': 0, 'x[3][3]': 0, 'x[3][4]': 0, 'x[3][6]': 0, 'x[0][5]': 0, 'x[4][0]': 1} \n",
            " 90.0\n"
          ]
        }
      ]
    },
    {
      "cell_type": "code",
      "source": [
        "# compute original objective function value in best_sample\n",
        "x = np.zeros((n,n))\n",
        "\n",
        "if best_sample != None:\n",
        "  for i in range(n):\n",
        "    for j in range(n):\n",
        "      if i!=j:\n",
        "        x[i, j] = best_sample.sample[f'x[{i}][{j}]']\n",
        "\n",
        "  # original objective function value\n",
        "  print(sum(E[i,j]*x[i,j] for i in range(n) for j in range(n)))"
      ],
      "metadata": {
        "colab": {
          "base_uri": "https://localhost:8080/"
        },
        "id": "2d3x1g7P2TYu",
        "outputId": "45331cba-b768-4d0c-fbc5-8561699d3f53"
      },
      "execution_count": 27,
      "outputs": [
        {
          "output_type": "stream",
          "name": "stdout",
          "text": [
            "90.0\n"
          ]
        }
      ]
    },
    {
      "cell_type": "markdown",
      "source": [
        "### Routes"
      ],
      "metadata": {
        "id": "XXalrO0F7Nbg"
      }
    },
    {
      "cell_type": "code",
      "source": [
        "# get non zero decision variables\n",
        "routes = []\n",
        "for i in range(n):\n",
        "  for j in range(n):\n",
        "    if x[i, j] > 1e-6:\n",
        "      routes.append((i, j))\n",
        "\n",
        "is_valid_routing(routes, VERBOSE=True)"
      ],
      "metadata": {
        "colab": {
          "base_uri": "https://localhost:8080/"
        },
        "id": "jbTRtknb7QDs",
        "outputId": "62193f35-a1b7-4662-b9cc-92bd9f912590"
      },
      "execution_count": 28,
      "outputs": [
        {
          "output_type": "stream",
          "name": "stdout",
          "text": [
            "Valid routing. The routes are\n",
            "\n",
            "[0, 1, 2, 5, 0]\n",
            "[0, 4, 0]\n",
            "[0, 6, 3, 0]\n"
          ]
        },
        {
          "output_type": "execute_result",
          "data": {
            "text/plain": [
              "(True, [[0, 1, 2, 5, 0], [0, 4, 0], [0, 6, 3, 0]])"
            ]
          },
          "metadata": {},
          "execution_count": 28
        }
      ]
    },
    {
      "cell_type": "markdown",
      "source": [
        "## Graver Augmented Multiseed Algorithm"
      ],
      "metadata": {
        "id": "LttcQ5dwO6jZ"
      }
    },
    {
      "cell_type": "code",
      "source": [
        "# Get the constraint matrix A and vector b (Ax=b) from Gurobi model\n",
        "m.update()\n",
        "# x = m.getVars()\n",
        "A = m.getA()\n",
        "A = A.toarray()\n",
        "b = np.array(m.getAttr(\"RHS\", m.getConstrs()))\n",
        "obj_coeffs = m.getAttr(\"Obj\", m.getVars())\n",
        "\n",
        "# create decision variables\n",
        "x = Array.create('x', shape=(n*n), vartype='BINARY')"
      ],
      "metadata": {
        "id": "dMwKHFWcT9ZS"
      },
      "execution_count": 29,
      "outputs": []
    },
    {
      "cell_type": "code",
      "source": [
        "# Objective function definition\n",
        "def f(x):\n",
        "  return np.sum([obj_coeffs[i]*x[i] for i in range(len(obj_coeffs))])\n",
        "\n",
        "# Constraints satisfaction\n",
        "def const(x):\n",
        "    return np.array_equiv(np.dot(A,x),b.T) or np.array_equiv(np.dot(A,x),b)"
      ],
      "metadata": {
        "id": "r6iq-17TT-95"
      },
      "execution_count": 30,
      "outputs": []
    },
    {
      "cell_type": "code",
      "source": [
        "# compute graver basis elements\n",
        "graver_elems = get_feasible(A, np.zeros_like(b), sampler=sampler, refine_almost_feasible=True)\n",
        "print(len(graver_elems), ' graver elements found.')"
      ],
      "metadata": {
        "colab": {
          "base_uri": "https://localhost:8080/"
        },
        "id": "ZINcAFhtZyJ9",
        "outputId": "9b77b062-81c3-4220-fb2b-fa3aa25b850f"
      },
      "execution_count": 31,
      "outputs": [
        {
          "output_type": "stream",
          "name": "stderr",
          "text": [
            "<ipython-input-12-9ee96a8ba1f3>:9: DeprecationWarning: BQM.from_numpy_matrix(M) is deprecated since dimod 0.10.0 and will be removed in 0.12.0. Use BQM(M, \"BINARY\") instead.\n",
            "  bqm = dimod.BinaryQuadraticModel.from_numpy_matrix(mat=Q, offset=offset)\n"
          ]
        },
        {
          "output_type": "stream",
          "name": "stdout",
          "text": [
            "1  graver elements found.\n"
          ]
        }
      ]
    },
    {
      "cell_type": "code",
      "source": [
        "# compute feasible solutions\n",
        "feas_sols = get_feasible(A, b, sampler=sampler)\n",
        "print(len(feas_sols), ' feasible solutions found.')"
      ],
      "metadata": {
        "colab": {
          "base_uri": "https://localhost:8080/"
        },
        "id": "wecZFB90SRuK",
        "outputId": "b1342e19-1754-4b54-fc3a-0ff16ecb9898"
      },
      "execution_count": 32,
      "outputs": [
        {
          "output_type": "stream",
          "name": "stderr",
          "text": [
            "<ipython-input-12-9ee96a8ba1f3>:9: DeprecationWarning: BQM.from_numpy_matrix(M) is deprecated since dimod 0.10.0 and will be removed in 0.12.0. Use BQM(M, \"BINARY\") instead.\n",
            "  bqm = dimod.BinaryQuadraticModel.from_numpy_matrix(mat=Q, offset=offset)\n"
          ]
        },
        {
          "output_type": "stream",
          "name": "stdout",
          "text": [
            "717  feasible solutions found.\n"
          ]
        }
      ]
    },
    {
      "cell_type": "code",
      "source": [
        "# Multiseed Augmentation\n",
        "final_sols, final_obj_full = graver_multiseed_augmentation(feas_sols, graver_elems, const, f)\n",
        "\n",
        "# get best solution\n",
        "x_opt = final_sols[np.argmin(final_obj_full), :]\n",
        "print(x_opt, np.min(final_obj_full))"
      ],
      "metadata": {
        "colab": {
          "base_uri": "https://localhost:8080/"
        },
        "id": "waF9YTHJcUoG",
        "outputId": "f54edee3-68bd-4c30-9a3b-452ef655da5a"
      },
      "execution_count": 33,
      "outputs": [
        {
          "output_type": "stream",
          "name": "stdout",
          "text": [
            "[0. 1. 0. 0. 1. 1. 0. 1. 0. 0. 0. 0. 0. 0. 0. 0. 0. 0. 0. 0. 1. 0. 0. 1.\n",
            " 0. 0. 0. 0. 1. 0. 0. 0. 0. 0. 0. 1. 0. 0. 0. 0. 0. 0. 0. 0. 0. 1. 0. 0.\n",
            " 0.] 49.0\n"
          ]
        }
      ]
    },
    {
      "cell_type": "code",
      "source": [
        "x = x_opt.reshape(n,n)\n",
        "edges = []\n",
        "for i in range(n):\n",
        "  for j in range(n):\n",
        "    if x[i, j] > 1e-6:\n",
        "      edges.append((i,j))\n",
        "\n",
        "is_valid_routing(edges, VERBOSE=True)"
      ],
      "metadata": {
        "colab": {
          "base_uri": "https://localhost:8080/"
        },
        "id": "AGE6X-7xSjXC",
        "outputId": "e90dbf68-7265-46fc-a531-fd09d0c50ab9"
      },
      "execution_count": 34,
      "outputs": [
        {
          "output_type": "stream",
          "name": "stdout",
          "text": [
            "Not a valid routing\n"
          ]
        },
        {
          "output_type": "execute_result",
          "data": {
            "text/plain": [
              "(False, [[0, 1, 0], [0, 4, 0], [0, 5, 0]])"
            ]
          },
          "metadata": {},
          "execution_count": 34
        }
      ]
    },
    {
      "cell_type": "markdown",
      "source": [
        "# VRP with exactly k vehicles - Second Formulation"
      ],
      "metadata": {
        "id": "NFk6-siJhJQq"
      }
    },
    {
      "cell_type": "markdown",
      "source": [
        "## Formulation"
      ],
      "metadata": {
        "id": "kEbAttcfhJQr"
      }
    },
    {
      "cell_type": "markdown",
      "source": [
        "\\begin{alignat*}{2}\n",
        "\\text{Minimize} \\quad & \\sum_{i, j, t, v} c_{ij}x^{v}_{i,t}x^{v}_{j,t+1} \\\\\n",
        "\\text{subject to} \\quad & x^{v}_{00} = 1 \\quad \\forall v=0, \\dots, k-1\\\\\n",
        "&  x^{v}_{0, n-1} = 1 \\quad \\forall v=0, \\dots, k-1\\\\\n",
        "& \\sum_{t, v} x^{v}_{it} = 1 \\quad \\forall i=1, \\dots, n-1\\\\\n",
        "& \\sum_{i} x^{v}_{it} = 1 \\quad \\forall v=0, \\dots, k-1 \\,; \\forall t=0, \\dots, n-1 \\\\\n",
        "& x^{v}_{it}\\in \\{0, 1\\} \\quad \\forall i,t,v\\\\\n",
        "\\end{alignat*}"
      ],
      "metadata": {
        "id": "siumPVUDhJQt"
      }
    },
    {
      "cell_type": "markdown",
      "source": [
        "## Gurobi"
      ],
      "metadata": {
        "id": "NUPMfTxIhJQu"
      }
    },
    {
      "cell_type": "code",
      "source": [
        "# Declare and initialize model\n",
        "m = gp.Model('VRP')"
      ],
      "metadata": {
        "id": "LDltT7i3hJQw"
      },
      "execution_count": 35,
      "outputs": []
    },
    {
      "cell_type": "markdown",
      "source": [
        "### Decision variables"
      ],
      "metadata": {
        "id": "6PjxY23phJQ1"
      }
    },
    {
      "cell_type": "code",
      "source": [
        "# Create decision variables\n",
        "x = m.addVars(k, n, n, vtype=gp.GRB.BINARY, name=\"x\")"
      ],
      "metadata": {
        "id": "T55-Tx2EhJQ2"
      },
      "execution_count": 36,
      "outputs": []
    },
    {
      "cell_type": "markdown",
      "source": [
        "### Constraints"
      ],
      "metadata": {
        "id": "LMWmfajihJQ4"
      }
    },
    {
      "cell_type": "code",
      "source": [
        "# each vehicle starts at depot at time 0\n",
        "m.addConstrs((x[v, 0, 0] == 1 for v in range(k)), name='leave_depot_at_time_0')\n",
        "\n",
        "# each vehicle ends back at depot at time n-1\n",
        "m.addConstrs((x[v, 0, n-1] == 1 for v in range(k)), name='return_depot_at_end')\n",
        "\n",
        "# each node is visited only by one vehicle and at only one time step\n",
        "enter_node = m.addConstrs((x.sum('*', i, '*') == 1 for i in range(1, n)), name='one_vehicle_one_timestep_per_node')\n",
        "\n",
        "# each vehicle visits exactly one node per time step\n",
        "enter_node = m.addConstrs((x.sum(v, '*', t) == 1 for t in range(n) for v in range(k)), name='one_node_per_timestep_per_vehicle')"
      ],
      "metadata": {
        "id": "EkkQsRNZhJQ8"
      },
      "execution_count": 37,
      "outputs": []
    },
    {
      "cell_type": "markdown",
      "source": [
        "### Objective function"
      ],
      "metadata": {
        "id": "HG0Z0EdThJQ-"
      }
    },
    {
      "cell_type": "code",
      "source": [
        "# Objective: minimize total cost of all assignments\n",
        "obj = sum(E[i,j]*x[v, i, t]*x[v, j, t+1]\n",
        "          for i in range(n) for j in range(n)\n",
        "          for t in range(n-1) for v in range(k))\n",
        "m.setObjective(obj, GRB.MINIMIZE)"
      ],
      "metadata": {
        "id": "oPHEX-wXhJQ_"
      },
      "execution_count": 38,
      "outputs": []
    },
    {
      "cell_type": "markdown",
      "source": [
        "### Optimize"
      ],
      "metadata": {
        "id": "EOFErRv3hJRB"
      }
    },
    {
      "cell_type": "code",
      "source": [
        "# Save model for inspection\n",
        "m.write('VRP.lp')"
      ],
      "metadata": {
        "id": "nXZDiRNuhJRC"
      },
      "execution_count": 39,
      "outputs": []
    },
    {
      "cell_type": "code",
      "source": [
        "# Run optimization engine\n",
        "m.optimize()"
      ],
      "metadata": {
        "colab": {
          "base_uri": "https://localhost:8080/"
        },
        "outputId": "06177391-b3c6-41b4-84fe-5d749d41354c",
        "id": "rzzHu_TkhJRE"
      },
      "execution_count": 40,
      "outputs": [
        {
          "output_type": "stream",
          "name": "stdout",
          "text": [
            "Gurobi Optimizer version 10.0.2 build v10.0.2rc0 (linux64)\n",
            "\n",
            "CPU model: Intel(R) Xeon(R) CPU @ 2.20GHz, instruction set [SSE2|AVX|AVX2]\n",
            "Thread count: 1 physical cores, 2 logical processors, using up to 2 threads\n",
            "\n",
            "Optimize a model with 33 rows, 147 columns and 279 nonzeros\n",
            "Model fingerprint: 0xd01fcdc5\n",
            "Model has 756 quadratic objective terms\n",
            "Variable types: 0 continuous, 147 integer (147 binary)\n",
            "Coefficient statistics:\n",
            "  Matrix range     [1e+00, 1e+00]\n",
            "  Objective range  [0e+00, 0e+00]\n",
            "  QObjective range [2e+00, 3e+01]\n",
            "  Bounds range     [1e+00, 1e+00]\n",
            "  RHS range        [1e+00, 1e+00]\n",
            "Found heuristic solution: objective 95.0000000\n",
            "Presolve removed 12 rows and 42 columns\n",
            "Presolve time: 0.02s\n",
            "Presolved: 525 rows, 609 columns, 1707 nonzeros\n",
            "Variable types: 0 continuous, 609 integer (609 binary)\n",
            "\n",
            "Root relaxation: objective 1.285714e+00, 146 iterations, 0.01 seconds (0.00 work units)\n",
            "\n",
            "    Nodes    |    Current Node    |     Objective Bounds      |     Work\n",
            " Expl Unexpl |  Obj  Depth IntInf | Incumbent    BestBd   Gap | It/Node Time\n",
            "\n",
            "     0     0    1.28571    0   65   95.00000    1.28571  98.6%     -    0s\n",
            "H    0     0                      70.0000000    1.28571  98.2%     -    0s\n",
            "     0     0   25.25000    0   33   70.00000   25.25000  63.9%     -    0s\n",
            "H    0     0                      59.0000000   25.25000  57.2%     -    0s\n",
            "     0     0   29.33333    0   34   59.00000   29.33333  50.3%     -    0s\n",
            "     0     0   29.33333    0   34   59.00000   29.33333  50.3%     -    0s\n",
            "     0     2   30.22222    0   34   59.00000   30.22222  48.8%     -    0s\n",
            "*    7     7               5      44.0000000   32.66667  25.8%  59.9    0s\n",
            "\n",
            "Cutting planes:\n",
            "  Gomory: 2\n",
            "  MIR: 10\n",
            "  RLT: 128\n",
            "  BQP: 7\n",
            "\n",
            "Explored 54 nodes (2104 simplex iterations) in 0.43 seconds (0.15 work units)\n",
            "Thread count was 2 (of 2 available processors)\n",
            "\n",
            "Solution count 4: 44 59 70 95 \n",
            "\n",
            "Optimal solution found (tolerance 1.00e-04)\n",
            "Best objective 4.400000000000e+01, best bound 4.400000000000e+01, gap 0.0000%\n"
          ]
        }
      ]
    },
    {
      "cell_type": "markdown",
      "source": [
        "### Routes"
      ],
      "metadata": {
        "id": "oSnUIbxchJRG"
      }
    },
    {
      "cell_type": "code",
      "source": [
        "# get non zero decision variables\n",
        "routes = []\n",
        "for v in m.getVars():\n",
        "  if v.x > 1e-6:\n",
        "    nodes_indices = re.findall(r'\\d+', v.varName)\n",
        "    routes.append((int(nodes_indices[0]), int(nodes_indices[1]), int(nodes_indices[2])))\n",
        "\n",
        "is_valid_routing(routes, VERBOSE=True, formulation=2)"
      ],
      "metadata": {
        "colab": {
          "base_uri": "https://localhost:8080/"
        },
        "outputId": "9a58812b-9116-4886-b89b-e3c772bfb195",
        "id": "Tby5cNJmhJRO"
      },
      "execution_count": 41,
      "outputs": [
        {
          "output_type": "stream",
          "name": "stdout",
          "text": [
            "Valid routing. The routes are\n",
            "\n",
            "[0, 0, 0, 0, 0, 0, 0]\n",
            "[0, 4, 0, 0, 0, 0, 0]\n",
            "[0, 1, 3, 6, 2, 5, 0]\n"
          ]
        },
        {
          "output_type": "execute_result",
          "data": {
            "text/plain": [
              "(True, [[0, 0, 0, 0, 0, 0, 0], [0, 4, 0, 0, 0, 0, 0], [0, 1, 3, 6, 2, 5, 0]])"
            ]
          },
          "metadata": {},
          "execution_count": 41
        }
      ]
    },
    {
      "cell_type": "markdown",
      "source": [
        "## QUBO"
      ],
      "metadata": {
        "id": "gGWxxsnC0gqA"
      }
    },
    {
      "cell_type": "markdown",
      "source": [
        "### Formulation"
      ],
      "metadata": {
        "id": "n-N3K0nm0gqA"
      }
    },
    {
      "cell_type": "markdown",
      "source": [
        "\\begin{align}\n",
        "\\min_{x_{ij} \\in \\{0,1\\} \\forall i,j} x^tQx\n",
        "\\end{align}\n",
        "namely\n",
        "\\begin{align}\n",
        "\\min_{x_{ij} \\in \\{0,1\\} \\forall i,j} \\sum_{i, j, t, v} c_{ij}x^{v}_{i,t}x^{v}_{j,t+1} + + \\rho\\left[\\sum_{(i,j)\\notin E, v,t}x^{v}_{i,t}x^{v}_{j,t+1} + \\sum_{v}(x^{v}_{00} - 1)^2 + \\sum_{v}(x^{v}_{0,n-1} - 1)^2 + \\sum_{i}\\left(\\sum_{t, v} x^{v}_{it} - 1\\right)^2 + \\sum_{v,t}\\left(\\sum_{i} x^{v}_{it} - 1\\right)^2\\right]\n",
        "\\end{align}"
      ],
      "metadata": {
        "id": "m_vpqVZZ0gqB"
      }
    },
    {
      "cell_type": "markdown",
      "source": [
        "### QUBO matrix"
      ],
      "metadata": {
        "id": "uw0a50p70gqC"
      }
    },
    {
      "cell_type": "code",
      "source": [
        "# scaling factors\n",
        "# p = np.sum(E)+1\n",
        "p = n*np.max(E)\n",
        "\n",
        "# create the variables\n",
        "x = Array.create('x', shape=(k, n, n), vartype='BINARY')\n",
        "\n",
        "# define the objective\n",
        "obj = sum(E[i,j]*x[v, i, t]*x[v, j, t+1]\n",
        "          for i in range(n) for j in range(n)\n",
        "          for t in range(n-1) for v in range(k))\n",
        "\n",
        "# start building the QUBO function\n",
        "## add the objective\n",
        "Q =  obj\n",
        "\n",
        "# add the constraints\n",
        "# penalize the usage of non-existing edges\n",
        "Q += p*(Constraint(sum([x[v, i, t]*x[v, j, t+1]\n",
        "                        for i in range(n) for j in range(n)\n",
        "                        for t in range(n-1) for v in range(k)\n",
        "                         if E[i, j]==0]), label='non_existing_edges'))\n",
        "\n",
        "# each vehicle starts at depot at time 0\n",
        "Q += p*(Constraint(sum([(x[v, 0, 0] - 1)**2 for v in range(k)]), label='start_at_depot_at_time_0'))\n",
        "\n",
        "# each vehicle ends back at depot at time n-1\n",
        "Q += p*(Constraint(sum([(x[v, 0, n-1] - 1)**2 for v in range(k)]), label='start_at_depot_at_time_0'))\n",
        "\n",
        "# each node is visited only by one vehicle and at only one time step\n",
        "Q += p*(Constraint(sum([(sum([x[v, i, t] for v in range(k) for t in range(n)]) - 1)**2 for i in range(1, n)]), label='one_vehicle_one_timestep_per_node'))\n",
        "\n",
        "# each vehicle visits exactly one node per time step\n",
        "Q += p*(Constraint(sum([(sum([x[v, i, t] for i in range(n)])-1)**2 for v in range(k) for t in range(n)]), label='one_node_per_timestep_per_vehicle'))"
      ],
      "metadata": {
        "id": "XGPPnDUj0gqD"
      },
      "execution_count": 42,
      "outputs": []
    },
    {
      "cell_type": "code",
      "source": [
        "# get QUBO matrix\n",
        "model = Q.compile()\n",
        "Q, offset = model.to_qubo()\n",
        "Q"
      ],
      "metadata": {
        "colab": {
          "base_uri": "https://localhost:8080/"
        },
        "outputId": "dba99561-611a-4287-dbfc-018f647b104c",
        "id": "VFTdVT870gqE"
      },
      "execution_count": 43,
      "outputs": [
        {
          "output_type": "execute_result",
          "data": {
            "text/plain": [
              "{('x[2][5][4]', 'x[2][2][4]'): 224.0,\n",
              " ('x[0][4][4]', 'x[0][4][4]'): -224.0,\n",
              " ('x[0][2][1]', 'x[0][1][0]'): 12.0,\n",
              " ('x[1][0][2]', 'x[1][3][1]'): 13.0,\n",
              " ('x[1][6][0]', 'x[0][6][4]'): 224.0,\n",
              " ('x[2][2][5]', 'x[1][2][0]'): 224.0,\n",
              " ('x[2][5][5]', 'x[0][5][4]'): 224.0,\n",
              " ('x[1][6][4]', 'x[1][2][3]'): 8.0,\n",
              " ('x[2][3][4]', 'x[2][3][3]'): 336.0,\n",
              " ('x[2][3][3]', 'x[2][3][3]'): -224.0,\n",
              " ('x[0][0][3]', 'x[0][5][2]'): 6.0,\n",
              " ('x[2][5][2]', 'x[2][1][1]'): 8.0,\n",
              " ('x[0][6][6]', 'x[0][4][6]'): 224.0,\n",
              " ('x[2][0][2]', 'x[2][1][1]'): 7.0,\n",
              " ('x[1][5][1]', 'x[1][5][0]'): 336.0,\n",
              " ('x[1][2][6]', 'x[0][2][2]'): 224.0,\n",
              " ('x[1][3][4]', 'x[1][0][4]'): 224.0,\n",
              " ('x[2][2][6]', 'x[2][2][6]'): -224.0,\n",
              " ('x[0][0][6]', 'x[0][2][5]'): 12.0,\n",
              " ('x[2][3][6]', 'x[2][1][5]'): 7.0,\n",
              " ('x[1][1][3]', 'x[1][1][1]'): 224.0,\n",
              " ('x[0][1][6]', 'x[0][0][6]'): 224.0,\n",
              " ('x[2][5][6]', 'x[0][5][2]'): 224.0,\n",
              " ('x[1][2][3]', 'x[0][2][3]'): 224.0,\n",
              " ('x[2][4][0]', 'x[1][4][5]'): 224.0,\n",
              " ('x[0][4][6]', 'x[0][5][5]'): 10.0,\n",
              " ('x[2][5][6]', 'x[2][5][5]'): 336.0,\n",
              " ('x[2][5][2]', 'x[0][5][5]'): 224.0,\n",
              " ('x[2][5][6]', 'x[2][3][6]'): 224.0,\n",
              " ('x[2][0][4]', 'x[2][5][3]'): 6.0,\n",
              " ('x[1][5][4]', 'x[1][3][4]'): 224.0,\n",
              " ('x[1][2][4]', 'x[1][1][3]'): 12.0,\n",
              " ('x[0][2][6]', 'x[0][2][1]'): 224.0,\n",
              " ('x[2][1][2]', 'x[1][1][6]'): 224.0,\n",
              " ('x[0][2][4]', 'x[0][2][1]'): 224.0,\n",
              " ('x[1][4][6]', 'x[1][4][4]'): 224.0,\n",
              " ('x[1][2][6]', 'x[1][2][0]'): 224.0,\n",
              " ('x[2][4][3]', 'x[2][5][2]'): 10.0,\n",
              " ('x[1][5][1]', 'x[1][0][0]'): 6.0,\n",
              " ('x[1][1][6]', 'x[1][6][5]'): 11.0,\n",
              " ('x[2][2][1]', 'x[2][5][0]'): 9.0,\n",
              " ('x[2][0][1]', 'x[2][5][0]'): 6.0,\n",
              " ('x[2][2][0]', 'x[2][0][0]'): 224.0,\n",
              " ('x[2][3][1]', 'x[2][4][0]'): 11.0,\n",
              " ('x[2][6][6]', 'x[2][6][6]'): -224.0,\n",
              " ('x[0][3][2]', 'x[0][5][1]'): 16.0,\n",
              " ('x[2][3][6]', 'x[2][4][5]'): 11.0,\n",
              " ('x[2][5][6]', 'x[0][5][1]'): 224.0,\n",
              " ('x[2][2][0]', 'x[2][2][0]'): -224.0,\n",
              " ('x[2][2][2]', 'x[1][2][6]'): 224.0,\n",
              " ('x[0][0][3]', 'x[0][2][2]'): 12.0,\n",
              " ('x[1][6][3]', 'x[0][6][2]'): 224.0,\n",
              " ('x[2][3][5]', 'x[2][4][4]'): 11.0,\n",
              " ('x[0][1][6]', 'x[0][0][5]'): 7.0,\n",
              " ('x[0][6][0]', 'x[0][4][0]'): 224.0,\n",
              " ('x[1][3][0]', 'x[1][1][0]'): 224.0,\n",
              " ('x[2][3][3]', 'x[0][3][4]'): 224.0,\n",
              " ('x[1][5][2]', 'x[1][3][2]'): 224.0,\n",
              " ('x[2][2][0]', 'x[1][2][3]'): 224.0,\n",
              " ('x[0][4][5]', 'x[0][4][2]'): 224.0,\n",
              " ('x[1][6][5]', 'x[1][6][0]'): 224.0,\n",
              " ('x[2][1][0]', 'x[1][1][2]'): 224.0,\n",
              " ('x[0][5][4]', 'x[0][4][4]'): 224.0,\n",
              " ('x[0][3][6]', 'x[0][1][5]'): 7.0,\n",
              " ('x[2][1][3]', 'x[2][4][2]'): 9.0,\n",
              " ('x[1][0][1]', 'x[1][1][0]'): 7.0,\n",
              " ('x[0][3][5]', 'x[0][5][4]'): 16.0,\n",
              " ('x[0][4][5]', 'x[0][0][4]'): 3.0,\n",
              " ('x[2][4][4]', 'x[0][4][6]'): 224.0,\n",
              " ('x[0][0][1]', 'x[0][6][0]'): 15.0,\n",
              " ('x[2][6][2]', 'x[2][5][1]'): 12.0,\n",
              " ('x[1][2][6]', 'x[1][2][4]'): 224.0,\n",
              " ('x[2][4][2]', 'x[1][4][3]'): 224.0,\n",
              " ('x[2][6][6]', 'x[2][3][5]'): 1.0,\n",
              " ('x[2][3][0]', 'x[0][3][1]'): 224.0,\n",
              " ('x[0][6][1]', 'x[0][5][1]'): 224.0,\n",
              " ('x[2][4][1]', 'x[0][4][0]'): 224.0,\n",
              " ('x[2][3][1]', 'x[2][1][0]'): 7.0,\n",
              " ('x[1][5][4]', 'x[1][2][4]'): 224.0,\n",
              " ('x[1][3][2]', 'x[1][3][1]'): 336.0,\n",
              " ('x[2][1][1]', 'x[0][1][0]'): 224.0,\n",
              " ('x[1][5][3]', 'x[0][5][4]'): 224.0,\n",
              " ('x[0][4][0]', 'x[0][3][0]'): 224.0,\n",
              " ('x[2][2][2]', 'x[2][2][1]'): 336.0,\n",
              " ('x[0][3][3]', 'x[0][5][2]'): 16.0,\n",
              " ('x[0][4][4]', 'x[0][2][4]'): 224.0,\n",
              " ('x[2][6][4]', 'x[2][6][1]'): 224.0,\n",
              " ('x[2][2][1]', 'x[0][2][4]'): 224.0,\n",
              " ('x[1][6][6]', 'x[1][6][2]'): 224.0,\n",
              " ('x[2][3][5]', 'x[1][3][6]'): 224.0,\n",
              " ('x[0][6][4]', 'x[0][6][0]'): 224.0,\n",
              " ('x[1][3][2]', 'x[1][5][1]'): 16.0,\n",
              " ('x[2][6][4]', 'x[2][4][4]'): 224.0,\n",
              " ('x[1][1][5]', 'x[1][1][4]'): 336.0,\n",
              " ('x[2][2][2]', 'x[2][5][1]'): 9.0,\n",
              " ('x[0][6][3]', 'x[0][6][2]'): 336.0,\n",
              " ('x[2][1][3]', 'x[2][5][2]'): 8.0,\n",
              " ('x[1][0][6]', 'x[1][6][5]'): 15.0,\n",
              " ('x[2][6][4]', 'x[2][2][3]'): 8.0,\n",
              " ('x[1][6][6]', 'x[1][1][5]'): 11.0,\n",
              " ('x[2][2][1]', 'x[2][4][0]'): 9.0,\n",
              " ('x[0][0][4]', 'x[0][3][3]'): 13.0,\n",
              " ('x[1][1][5]', 'x[1][1][5]'): -224.0,\n",
              " ('x[2][4][1]', 'x[2][3][0]'): 11.0,\n",
              " ('x[0][2][2]', 'x[0][5][1]'): 9.0,\n",
              " ('x[2][2][3]', 'x[2][6][2]'): 8.0,\n",
              " ('x[2][3][6]', 'x[2][3][5]'): 336.0,\n",
              " ('x[1][4][6]', 'x[1][4][6]'): -224.0,\n",
              " ('x[2][5][2]', 'x[1][5][5]'): 224.0,\n",
              " ('x[1][4][5]', 'x[1][4][0]'): 224.0,\n",
              " ('x[2][5][1]', 'x[0][5][0]'): 224.0,\n",
              " ('x[0][0][2]', 'x[0][0][2]'): -112.0,\n",
              " ('x[0][0][2]', 'x[0][2][1]'): 12.0,\n",
              " ('x[2][6][5]', 'x[2][2][4]'): 8.0,\n",
              " ('x[0][2][3]', 'x[0][4][2]'): 9.0,\n",
              " ('x[2][6][2]', 'x[1][6][4]'): 224.0,\n",
              " ('x[1][2][1]', 'x[1][6][0]'): 8.0,\n",
              " ('x[0][6][5]', 'x[0][5][4]'): 12.0,\n",
              " ('x[2][5][6]', 'x[2][0][5]'): 6.0,\n",
              " ('x[0][4][6]', 'x[0][4][6]'): -224.0,\n",
              " ('x[2][3][0]', 'x[1][3][4]'): 224.0,\n",
              " ('x[2][6][1]', 'x[2][4][0]'): 4.0,\n",
              " ('x[2][1][5]', 'x[2][0][4]'): 7.0,\n",
              " ('x[0][5][2]', 'x[0][6][1]'): 12.0,\n",
              " ('x[0][1][5]', 'x[0][1][0]'): 224.0,\n",
              " ('x[0][2][3]', 'x[0][6][2]'): 8.0,\n",
              " ('x[2][2][1]', 'x[2][3][0]'): 8.0,\n",
              " ('x[0][6][5]', 'x[0][4][4]'): 4.0,\n",
              " ('x[2][4][5]', 'x[1][4][1]'): 224.0,\n",
              " ('x[1][1][2]', 'x[0][1][6]'): 224.0,\n",
              " ('x[1][6][3]', 'x[1][3][3]'): 224.0,\n",
              " ('x[2][0][5]', 'x[2][3][4]'): 13.0,\n",
              " ('x[1][3][2]', 'x[1][3][0]'): 224.0,\n",
              " ('x[1][1][4]', 'x[1][1][3]'): 336.0,\n",
              " ('x[0][3][2]', 'x[0][2][2]'): 224.0,\n",
              " ('x[0][5][2]', 'x[0][5][2]'): -224.0,\n",
              " ('x[0][3][4]', 'x[0][0][3]'): 13.0,\n",
              " ('x[1][6][1]', 'x[1][2][1]'): 224.0,\n",
              " ('x[1][2][4]', 'x[0][2][3]'): 224.0,\n",
              " ('x[0][1][2]', 'x[0][1][2]'): -224.0,\n",
              " ('x[0][5][0]', 'x[0][3][0]'): 224.0,\n",
              " ('x[1][2][6]', 'x[0][2][1]'): 224.0,\n",
              " ('x[0][3][1]', 'x[0][4][0]'): 11.0,\n",
              " ('x[0][5][6]', 'x[0][6][5]'): 12.0,\n",
              " ('x[1][1][5]', 'x[0][1][6]'): 224.0,\n",
              " ('x[2][3][6]', 'x[0][3][2]'): 224.0,\n",
              " ('x[1][5][1]', 'x[1][4][1]'): 224.0,\n",
              " ('x[0][6][2]', 'x[0][4][2]'): 224.0,\n",
              " ('x[0][5][3]', 'x[0][6][2]'): 12.0,\n",
              " ('x[2][4][6]', 'x[2][1][5]'): 9.0,\n",
              " ('x[2][1][4]', 'x[1][1][0]'): 224.0,\n",
              " ('x[1][2][5]', 'x[1][2][1]'): 224.0,\n",
              " ('x[0][4][2]', 'x[0][0][1]'): 3.0,\n",
              " ('x[1][2][2]', 'x[0][2][0]'): 224.0,\n",
              " ('x[2][2][3]', 'x[1][2][6]'): 224.0,\n",
              " ('x[2][2][5]', 'x[1][2][2]'): 224.0,\n",
              " ('x[1][6][1]', 'x[1][5][0]'): 12.0,\n",
              " ('x[1][1][6]', 'x[0][1][6]'): 224.0,\n",
              " ('x[2][1][6]', 'x[0][1][6]'): 224.0,\n",
              " ('x[1][3][0]', 'x[0][3][0]'): 224.0,\n",
              " ('x[2][3][2]', 'x[2][3][0]'): 224.0,\n",
              " ('x[2][6][2]', 'x[0][6][3]'): 224.0,\n",
              " ('x[1][5][0]', 'x[1][3][0]'): 224.0,\n",
              " ('x[2][6][4]', 'x[1][6][6]'): 224.0,\n",
              " ('x[2][6][6]', 'x[2][0][6]'): 224.0,\n",
              " ('x[2][3][0]', 'x[1][3][0]'): 224.0,\n",
              " ('x[0][2][3]', 'x[0][2][0]'): 224.0,\n",
              " ('x[2][1][4]', 'x[2][0][3]'): 7.0,\n",
              " ('x[2][1][4]', 'x[2][0][4]'): 224.0,\n",
              " ('x[1][6][4]', 'x[1][4][3]'): 4.0,\n",
              " ('x[2][2][6]', 'x[2][0][6]'): 224.0,\n",
              " ('x[2][0][6]', 'x[2][2][5]'): 12.0,\n",
              " ('x[2][1][3]', 'x[0][1][1]'): 224.0,\n",
              " ('x[2][3][5]', 'x[2][3][3]'): 224.0,\n",
              " ('x[1][6][0]', 'x[0][6][2]'): 224.0,\n",
              " ('x[2][5][5]', 'x[2][1][5]'): 224.0,\n",
              " ('x[0][2][2]', 'x[0][3][1]'): 8.0,\n",
              " ('x[0][6][6]', 'x[0][6][5]'): 336.0,\n",
              " ('x[2][2][2]', 'x[2][3][1]'): 8.0,\n",
              " ('x[2][4][5]', 'x[0][4][3]'): 224.0,\n",
              " ('x[0][1][1]', 'x[0][0][0]'): 7.0,\n",
              " ('x[1][1][3]', 'x[0][1][4]'): 224.0,\n",
              " ('x[2][4][5]', 'x[1][4][2]'): 224.0,\n",
              " ('x[0][3][0]', 'x[0][3][0]'): -224.0,\n",
              " ('x[2][6][6]', 'x[1][6][6]'): 224.0,\n",
              " ('x[1][5][6]', 'x[1][5][3]'): 224.0,\n",
              " ('x[1][6][1]', 'x[0][6][3]'): 224.0,\n",
              " ('x[1][3][5]', 'x[1][4][4]'): 11.0,\n",
              " ('x[0][6][1]', 'x[0][6][1]'): -224.0,\n",
              " ('x[2][5][5]', 'x[2][3][4]'): 16.0,\n",
              " ('x[0][5][2]', 'x[0][5][1]'): 336.0,\n",
              " ('x[1][4][2]', 'x[1][5][1]'): 10.0,\n",
              " ('x[0][3][5]', 'x[0][2][5]'): 224.0,\n",
              " ('x[1][0][1]', 'x[1][4][0]'): 3.0,\n",
              " ('x[1][6][6]', 'x[1][5][6]'): 224.0,\n",
              " ('x[2][4][0]', 'x[0][4][2]'): 224.0,\n",
              " ('x[2][5][1]', 'x[1][5][0]'): 224.0,\n",
              " ('x[2][6][5]', 'x[0][6][6]'): 224.0,\n",
              " ('x[2][2][3]', 'x[1][2][0]'): 224.0,\n",
              " ('x[0][6][6]', 'x[0][6][0]'): 224.0,\n",
              " ('x[1][5][3]', 'x[1][6][2]'): 12.0,\n",
              " ('x[1][5][1]', 'x[1][1][0]'): 8.0,\n",
              " ('x[0][1][2]', 'x[0][5][1]'): 8.0,\n",
              " ('x[0][3][3]', 'x[0][3][2]'): 336.0,\n",
              " ('x[1][5][1]', 'x[0][5][5]'): 224.0,\n",
              " ('x[2][4][4]', 'x[2][5][3]'): 10.0,\n",
              " ('x[0][4][5]', 'x[0][4][1]'): 224.0,\n",
              " ('x[1][3][3]', 'x[0][3][5]'): 224.0,\n",
              " ('x[2][3][2]', 'x[1][3][5]'): 224.0,\n",
              " ('x[1][6][6]', 'x[0][6][2]'): 224.0,\n",
              " ('x[2][5][3]', 'x[1][5][3]'): 224.0,\n",
              " ('x[2][6][3]', 'x[0][6][6]'): 224.0,\n",
              " ('x[1][5][3]', 'x[1][5][3]'): -224.0,\n",
              " ('x[1][1][6]', 'x[0][1][2]'): 224.0,\n",
              " ('x[1][5][3]', 'x[0][5][5]'): 224.0,\n",
              " ('x[2][4][3]', 'x[1][4][0]'): 224.0,\n",
              " ('x[2][0][1]', 'x[2][6][0]'): 15.0,\n",
              " ('x[0][4][6]', 'x[0][1][6]'): 224.0,\n",
              " ('x[1][5][5]', 'x[1][5][3]'): 224.0,\n",
              " ('x[2][3][5]', 'x[1][3][2]'): 224.0,\n",
              " ('x[1][1][6]', 'x[1][0][6]'): 224.0,\n",
              " ('x[1][1][5]', 'x[1][1][1]'): 224.0,\n",
              " ('x[1][5][6]', 'x[1][5][1]'): 224.0,\n",
              " ('x[2][5][2]', 'x[2][3][2]'): 224.0,\n",
              " ('x[0][3][5]', 'x[0][0][4]'): 13.0,\n",
              " ('x[2][5][5]', 'x[2][5][4]'): 336.0,\n",
              " ('x[2][2][2]', 'x[0][2][0]'): 224.0,\n",
              " ('x[2][4][5]', 'x[2][2][4]'): 9.0,\n",
              " ('x[2][2][5]', 'x[2][3][4]'): 8.0,\n",
              " ('x[1][1][6]', 'x[0][1][5]'): 224.0,\n",
              " ('x[1][2][1]', 'x[0][2][2]'): 224.0,\n",
              " ('x[0][2][2]', 'x[0][2][0]'): 224.0,\n",
              " ('x[2][4][0]', 'x[0][4][3]'): 224.0,\n",
              " ('x[2][2][4]', 'x[2][2][1]'): 224.0,\n",
              " ('x[2][5][3]', 'x[2][6][2]'): 12.0,\n",
              " ('x[0][1][3]', 'x[0][1][0]'): 224.0,\n",
              " ('x[0][2][5]', 'x[0][2][5]'): -224.0,\n",
              " ('x[2][5][3]', 'x[2][5][3]'): -224.0,\n",
              " ('x[0][6][4]', 'x[0][4][4]'): 224.0,\n",
              " ('x[1][3][1]', 'x[0][3][5]'): 224.0,\n",
              " ('x[1][2][4]', 'x[1][0][4]'): 224.0,\n",
              " ('x[1][2][6]', 'x[1][3][5]'): 8.0,\n",
              " ('x[2][0][3]', 'x[2][4][2]'): 3.0,\n",
              " ('x[1][0][2]', 'x[1][1][1]'): 7.0,\n",
              " ('x[2][1][4]', 'x[2][1][4]'): -224.0,\n",
              " ('x[1][4][3]', 'x[0][4][5]'): 224.0,\n",
              " ('x[1][4][4]', 'x[1][0][3]'): 3.0,\n",
              " ('x[0][5][5]', 'x[0][5][2]'): 224.0,\n",
              " ('x[0][6][5]', 'x[0][6][1]'): 224.0,\n",
              " ('x[0][5][0]', 'x[0][2][0]'): 224.0,\n",
              " ('x[1][1][6]', 'x[0][1][1]'): 224.0,\n",
              " ('x[0][2][4]', 'x[0][1][3]'): 12.0,\n",
              " ('x[0][5][2]', 'x[0][5][0]'): 224.0,\n",
              " ('x[2][6][2]', 'x[2][1][1]'): 11.0,\n",
              " ('x[1][5][1]', 'x[0][5][1]'): 224.0,\n",
              " ('x[2][1][2]', 'x[2][6][1]'): 11.0,\n",
              " ('x[0][6][3]', 'x[0][4][2]'): 4.0,\n",
              " ('x[2][3][4]', 'x[2][3][4]'): -224.0,\n",
              " ('x[2][4][2]', 'x[2][4][1]'): 336.0,\n",
              " ('x[2][2][2]', 'x[1][2][5]'): 224.0,\n",
              " ('x[0][4][5]', 'x[0][2][4]'): 9.0,\n",
              " ('x[2][3][5]', 'x[0][3][2]'): 224.0,\n",
              " ('x[1][2][6]', 'x[1][4][5]'): 9.0,\n",
              " ('x[1][6][6]', 'x[1][2][5]'): 8.0,\n",
              " ('x[2][4][3]', 'x[2][3][2]'): 11.0,\n",
              " ('x[2][5][5]', 'x[2][2][5]'): 224.0,\n",
              " ('x[1][6][4]', 'x[1][0][4]'): 224.0,\n",
              " ('x[1][4][3]', 'x[1][3][3]'): 224.0,\n",
              " ('x[2][4][1]', 'x[2][4][1]'): -224.0,\n",
              " ('x[2][6][1]', 'x[0][6][0]'): 224.0,\n",
              " ('x[1][0][1]', 'x[1][3][0]'): 13.0,\n",
              " ('x[2][1][0]', 'x[0][1][4]'): 224.0,\n",
              " ('x[2][6][3]', 'x[2][2][3]'): 224.0,\n",
              " ('x[1][5][2]', 'x[1][5][1]'): 336.0,\n",
              " ('x[1][1][4]', 'x[0][1][0]'): 224.0,\n",
              " ('x[0][3][2]', 'x[0][1][1]'): 7.0,\n",
              " ('x[2][6][0]', 'x[1][6][2]'): 224.0,\n",
              " ('x[0][0][3]', 'x[0][0][2]'): 112.0,\n",
              " ('x[1][6][0]', 'x[0][6][0]'): 224.0,\n",
              " ('x[2][1][4]', 'x[1][1][3]'): 224.0,\n",
              " ('x[2][5][2]', 'x[0][5][4]'): 224.0,\n",
              " ('x[0][4][2]', 'x[0][3][2]'): 224.0,\n",
              " ('x[0][3][1]', 'x[0][2][0]'): 8.0,\n",
              " ('x[2][4][1]', 'x[2][0][0]'): 3.0,\n",
              " ('x[2][0][4]', 'x[2][3][3]'): 13.0,\n",
              " ('x[2][6][1]', 'x[1][6][4]'): 224.0,\n",
              " ('x[2][4][6]', 'x[1][4][5]'): 224.0,\n",
              " ('x[1][2][4]', 'x[0][2][0]'): 224.0,\n",
              " ('x[1][2][0]', 'x[0][2][3]'): 224.0,\n",
              " ('x[0][4][6]', 'x[0][6][5]'): 4.0,\n",
              " ('x[1][3][3]', 'x[0][3][1]'): 224.0,\n",
              " ('x[1][2][3]', 'x[1][2][1]'): 224.0,\n",
              " ('x[2][3][3]', 'x[2][0][3]'): 224.0,\n",
              " ('x[2][2][2]', 'x[1][2][4]'): 224.0,\n",
              " ('x[1][4][2]', 'x[0][4][6]'): 224.0,\n",
              " ('x[2][2][5]', 'x[0][2][3]'): 224.0,\n",
              " ('x[2][4][4]', 'x[2][2][4]'): 224.0,\n",
              " ('x[2][6][3]', 'x[0][6][4]'): 224.0,\n",
              " ('x[0][2][6]', 'x[0][0][5]'): 12.0,\n",
              " ('x[1][5][2]', 'x[1][5][2]'): -224.0,\n",
              " ('x[0][5][6]', 'x[0][4][6]'): 224.0,\n",
              " ('x[2][3][2]', 'x[2][0][2]'): 224.0,\n",
              " ('x[2][5][4]', 'x[2][5][1]'): 224.0,\n",
              " ('x[1][4][3]', 'x[1][5][2]'): 10.0,\n",
              " ('x[2][3][4]', 'x[0][3][6]'): 224.0,\n",
              " ('x[2][4][6]', 'x[0][4][4]'): 224.0,\n",
              " ('x[2][2][0]', 'x[1][2][6]'): 224.0,\n",
              " ('x[2][2][6]', 'x[1][2][4]'): 224.0,\n",
              " ('x[0][4][6]', 'x[0][3][6]'): 224.0,\n",
              " ('x[1][5][4]', 'x[1][6][3]'): 12.0,\n",
              " ('x[2][6][0]', 'x[2][0][0]'): 224.0,\n",
              " ('x[0][3][2]', 'x[0][1][2]'): 224.0,\n",
              " ('x[2][5][5]', 'x[0][5][0]'): 224.0,\n",
              " ('x[1][3][6]', 'x[1][3][6]'): -224.0,\n",
              " ('x[2][4][2]', 'x[0][4][1]'): 224.0,\n",
              " ('x[0][3][6]', 'x[0][3][2]'): 224.0,\n",
              " ('x[1][4][6]', 'x[1][2][5]'): 9.0,\n",
              " ('x[2][1][4]', 'x[1][1][6]'): 224.0,\n",
              " ('x[2][4][3]', 'x[2][6][2]'): 4.0,\n",
              " ('x[1][2][1]', 'x[1][4][0]'): 9.0,\n",
              " ('x[2][6][4]', 'x[1][6][4]'): 224.0,\n",
              " ('x[0][6][2]', 'x[0][0][1]'): 15.0,\n",
              " ('x[2][5][5]', 'x[1][5][2]'): 224.0,\n",
              " ('x[0][0][6]', 'x[0][5][5]'): 6.0,\n",
              " ('x[0][1][4]', 'x[0][1][1]'): 224.0,\n",
              " ('x[1][3][6]', 'x[1][3][3]'): 224.0,\n",
              " ('x[2][2][2]', 'x[2][4][1]'): 9.0,\n",
              " ('x[0][3][0]', 'x[0][2][0]'): 224.0,\n",
              " ('x[0][3][5]', 'x[0][3][5]'): -224.0,\n",
              " ('x[2][5][6]', 'x[1][5][3]'): 224.0,\n",
              " ('x[2][5][4]', 'x[0][5][2]'): 224.0,\n",
              " ('x[0][3][5]', 'x[0][0][5]'): 224.0,\n",
              " ('x[0][4][4]', 'x[0][5][3]'): 10.0,\n",
              " ('x[1][5][6]', 'x[0][5][2]'): 224.0,\n",
              " ('x[0][6][6]', 'x[0][3][6]'): 224.0,\n",
              " ('x[2][4][6]', 'x[2][3][5]'): 11.0,\n",
              " ('x[1][1][2]', 'x[0][1][1]'): 224.0,\n",
              " ('x[0][6][5]', 'x[0][3][4]'): 1.0,\n",
              " ('x[1][6][6]', 'x[0][6][0]'): 224.0,\n",
              " ('x[0][6][6]', 'x[0][6][2]'): 224.0,\n",
              " ('x[2][3][2]', 'x[0][3][5]'): 224.0,\n",
              " ('x[2][5][0]', 'x[0][5][0]'): 224.0,\n",
              " ('x[0][3][5]', 'x[0][1][4]'): 7.0,\n",
              " ('x[2][1][3]', 'x[1][1][3]'): 224.0,\n",
              " ('x[1][4][6]', 'x[1][4][0]'): 224.0,\n",
              " ('x[2][6][4]', 'x[2][0][4]'): 224.0,\n",
              " ('x[1][4][6]', 'x[0][4][2]'): 224.0,\n",
              " ('x[1][5][2]', 'x[1][4][1]'): 10.0,\n",
              " ('x[2][1][5]', 'x[2][4][4]'): 9.0,\n",
              " ('x[1][5][4]', 'x[1][1][4]'): 224.0,\n",
              " ('x[1][2][3]', 'x[1][5][2]'): 9.0,\n",
              " ('x[2][3][0]', 'x[1][3][2]'): 224.0,\n",
              " ('x[2][2][2]', 'x[1][2][1]'): 224.0,\n",
              " ('x[1][4][6]', 'x[0][4][5]'): 224.0,\n",
              " ('x[2][3][3]', 'x[0][3][3]'): 224.0,\n",
              " ('x[1][5][2]', 'x[1][1][1]'): 8.0,\n",
              " ('x[1][3][3]', 'x[0][3][0]'): 224.0,\n",
              " ('x[2][3][6]', 'x[0][3][3]'): 224.0,\n",
              " ('x[2][6][0]', 'x[0][6][2]'): 224.0,\n",
              " ('x[2][1][6]', 'x[2][1][1]'): 224.0,\n",
              " ('x[1][6][1]', 'x[1][4][1]'): 224.0,\n",
              " ('x[2][6][5]', 'x[1][6][0]'): 224.0,\n",
              " ('x[1][6][5]', 'x[1][6][1]'): 224.0,\n",
              " ('x[1][1][1]', 'x[1][5][0]'): 8.0,\n",
              " ('x[0][2][5]', 'x[0][3][4]'): 8.0,\n",
              " ('x[2][6][6]', 'x[2][1][5]'): 11.0,\n",
              " ('x[2][4][3]', 'x[1][4][4]'): 224.0,\n",
              " ('x[2][6][5]', 'x[2][6][1]'): 224.0,\n",
              " ('x[2][4][4]', 'x[1][4][0]'): 224.0,\n",
              " ('x[1][1][3]', 'x[1][0][2]'): 7.0,\n",
              " ('x[1][3][2]', 'x[0][3][0]'): 224.0,\n",
              " ('x[2][5][2]', 'x[2][6][1]'): 12.0,\n",
              " ('x[2][6][3]', 'x[0][6][5]'): 224.0,\n",
              " ('x[2][2][4]', 'x[0][2][1]'): 224.0,\n",
              " ('x[1][4][5]', 'x[1][5][4]'): 10.0,\n",
              " ('x[2][2][4]', 'x[2][6][3]'): 8.0,\n",
              " ('x[1][3][5]', 'x[1][3][1]'): 224.0,\n",
              " ('x[0][1][3]', 'x[0][1][2]'): 336.0,\n",
              " ('x[0][6][5]', 'x[0][6][3]'): 224.0,\n",
              " ('x[2][3][4]', 'x[2][2][3]'): 8.0,\n",
              " ('x[1][1][1]', 'x[0][1][2]'): 224.0,\n",
              " ('x[2][3][5]', 'x[2][0][5]'): 224.0,\n",
              " ('x[1][5][4]', 'x[1][5][3]'): 336.0,\n",
              " ('x[2][2][2]', 'x[2][6][1]'): 8.0,\n",
              " ('x[1][3][3]', 'x[0][3][3]'): 224.0,\n",
              " ('x[1][6][3]', 'x[1][0][2]'): 15.0,\n",
              " ('x[1][3][1]', 'x[1][6][0]'): 1.0,\n",
              " ('x[2][4][3]', 'x[2][0][3]'): 224.0,\n",
              " ('x[1][3][1]', 'x[1][0][0]'): 13.0,\n",
              " ('x[1][4][2]', 'x[1][2][1]'): 9.0,\n",
              " ('x[2][4][2]', 'x[1][4][4]'): 224.0,\n",
              " ('x[2][4][0]', 'x[2][1][0]'): 224.0,\n",
              " ('x[1][4][3]', 'x[0][4][6]'): 224.0,\n",
              " ('x[2][1][4]', 'x[0][1][3]'): 224.0,\n",
              " ('x[1][6][2]', 'x[1][6][2]'): -224.0,\n",
              " ('x[2][3][0]', 'x[0][3][4]'): 224.0,\n",
              " ('x[2][2][6]', 'x[0][2][6]'): 224.0,\n",
              " ('x[2][5][4]', 'x[0][5][0]'): 224.0,\n",
              " ('x[0][4][2]', 'x[0][3][1]'): 11.0,\n",
              " ('x[2][4][3]', 'x[2][2][2]'): 9.0,\n",
              " ('x[0][5][3]', 'x[0][5][2]'): 336.0,\n",
              " ('x[2][4][4]', 'x[0][4][2]'): 224.0,\n",
              " ('x[2][1][4]', 'x[1][1][4]'): 224.0,\n",
              " ('x[1][1][6]', 'x[1][1][5]'): 336.0,\n",
              " ('x[1][5][0]', 'x[0][5][4]'): 224.0,\n",
              " ('x[0][5][5]', 'x[0][3][5]'): 224.0,\n",
              " ('x[0][4][0]', 'x[0][0][0]'): 224.0,\n",
              " ('x[0][4][5]', 'x[0][6][4]'): 4.0,\n",
              " ('x[0][5][5]', 'x[0][0][4]'): 6.0,\n",
              " ('x[2][4][1]', 'x[0][4][4]'): 224.0,\n",
              " ('x[0][6][6]', 'x[0][5][5]'): 12.0,\n",
              " ('x[1][6][3]', 'x[0][6][3]'): 224.0,\n",
              " ('x[2][5][2]', 'x[0][5][3]'): 224.0,\n",
              " ('x[2][4][2]', 'x[0][4][0]'): 224.0,\n",
              " ('x[1][0][6]', 'x[1][5][5]'): 6.0,\n",
              " ('x[0][6][5]', 'x[0][4][5]'): 224.0,\n",
              " ('x[2][5][3]', 'x[2][5][1]'): 224.0,\n",
              " ('x[2][4][2]', 'x[0][4][2]'): 224.0,\n",
              " ('x[0][6][3]', 'x[0][0][3]'): 224.0,\n",
              " ('x[0][2][5]', 'x[0][0][4]'): 12.0,\n",
              " ('x[0][3][4]', 'x[0][3][0]'): 224.0,\n",
              " ('x[1][5][5]', 'x[1][2][5]'): 224.0,\n",
              " ('x[1][1][2]', 'x[1][0][1]'): 7.0,\n",
              " ('x[2][2][4]', 'x[2][0][3]'): 12.0,\n",
              " ('x[0][6][0]', 'x[0][6][0]'): -224.0,\n",
              " ('x[1][5][4]', 'x[1][1][3]'): 8.0,\n",
              " ('x[1][3][1]', 'x[0][3][0]'): 224.0,\n",
              " ('x[2][6][4]', 'x[2][2][4]'): 224.0,\n",
              " ('x[1][2][5]', 'x[1][2][3]'): 224.0,\n",
              " ('x[0][5][6]', 'x[0][0][6]'): 224.0,\n",
              " ('x[1][0][3]', 'x[1][1][2]'): 7.0,\n",
              " ('x[1][6][6]', 'x[1][6][4]'): 224.0,\n",
              " ('x[1][4][0]', 'x[0][4][6]'): 224.0,\n",
              " ('x[0][1][5]', 'x[0][1][2]'): 224.0,\n",
              " ('x[1][3][6]', 'x[1][2][6]'): 224.0,\n",
              " ('x[1][2][4]', 'x[0][2][6]'): 224.0,\n",
              " ('x[0][2][6]', 'x[0][4][5]'): 9.0,\n",
              " ('x[2][6][0]', 'x[0][6][4]'): 224.0,\n",
              " ('x[2][1][6]', 'x[1][1][1]'): 224.0,\n",
              " ('x[1][1][2]', 'x[0][1][5]'): 224.0,\n",
              " ('x[2][5][2]', 'x[1][5][4]'): 224.0,\n",
              " ('x[1][5][5]', 'x[0][5][3]'): 224.0,\n",
              " ('x[0][5][3]', 'x[0][0][2]'): 6.0,\n",
              " ('x[0][4][3]', 'x[0][2][3]'): 224.0,\n",
              " ('x[2][3][4]', 'x[2][1][4]'): 224.0,\n",
              " ('x[2][3][2]', 'x[2][4][1]'): 11.0,\n",
              " ('x[1][6][5]', 'x[1][6][4]'): 336.0,\n",
              " ('x[0][4][1]', 'x[0][6][0]'): 4.0,\n",
              " ('x[1][3][0]', 'x[0][3][1]'): 224.0,\n",
              " ('x[1][2][4]', 'x[1][2][3]'): 336.0,\n",
              " ('x[0][1][4]', 'x[0][6][3]'): 11.0,\n",
              " ('x[1][5][1]', 'x[1][1][1]'): 224.0,\n",
              " ('x[0][5][2]', 'x[0][4][2]'): 224.0,\n",
              " ('x[1][4][4]', 'x[1][4][1]'): 224.0,\n",
              " ('x[2][1][2]', 'x[2][0][1]'): 7.0,\n",
              " ('x[1][3][2]', 'x[1][0][2]'): 224.0,\n",
              " ('x[0][5][2]', 'x[0][0][1]'): 6.0,\n",
              " ('x[2][4][6]', 'x[1][4][0]'): 224.0,\n",
              " ('x[1][0][4]', 'x[1][1][3]'): 7.0,\n",
              " ('x[2][5][3]', 'x[1][5][1]'): 224.0,\n",
              " ('x[1][4][0]', 'x[0][4][5]'): 224.0,\n",
              " ('x[0][5][3]', 'x[0][4][2]'): 10.0,\n",
              " ('x[1][0][5]', 'x[1][6][4]'): 15.0,\n",
              " ('x[1][6][0]', 'x[0][6][1]'): 224.0,\n",
              " ('x[1][3][6]', 'x[1][6][5]'): 1.0,\n",
              " ('x[2][0][6]', 'x[2][0][5]'): 112.0,\n",
              " ('x[1][3][3]', 'x[1][3][2]'): 336.0,\n",
              " ('x[1][3][1]', 'x[1][3][0]'): 336.0,\n",
              " ('x[1][2][5]', 'x[1][2][2]'): 224.0,\n",
              " ('x[2][5][1]', 'x[2][3][0]'): 16.0,\n",
              " ('x[2][4][6]', 'x[0][4][3]'): 224.0,\n",
              " ('x[2][0][0]', 'x[2][0][0]'): -224.0,\n",
              " ('x[0][1][4]', 'x[0][0][3]'): 7.0,\n",
              " ('x[1][1][0]', 'x[0][1][4]'): 224.0,\n",
              " ('x[1][6][3]', 'x[0][6][1]'): 224.0,\n",
              " ('x[2][1][5]', 'x[0][1][1]'): 224.0,\n",
              " ('x[2][2][5]', 'x[2][2][2]'): 224.0,\n",
              " ('x[2][0][2]', 'x[2][0][1]'): 112.0,\n",
              " ('x[2][5][2]', 'x[2][2][1]'): 9.0,\n",
              " ('x[0][0][4]', 'x[0][6][3]'): 15.0,\n",
              " ('x[2][4][0]', 'x[2][4][0]'): -224.0,\n",
              " ('x[2][1][2]', 'x[2][0][2]'): 224.0,\n",
              " ('x[1][2][1]', 'x[0][2][0]'): 224.0,\n",
              " ('x[1][0][4]', 'x[1][0][3]'): 112.0,\n",
              " ('x[1][6][3]', 'x[1][6][2]'): 336.0,\n",
              " ('x[2][3][5]', 'x[1][3][4]'): 224.0,\n",
              " ('x[2][6][0]', 'x[2][1][0]'): 224.0,\n",
              " ('x[2][3][3]', 'x[2][3][2]'): 336.0,\n",
              " ('x[2][1][6]', 'x[2][0][6]'): 224.0,\n",
              " ('x[2][5][6]', 'x[0][5][3]'): 224.0,\n",
              " ('x[2][5][3]', 'x[0][5][0]'): 224.0,\n",
              " ('x[1][6][1]', 'x[1][6][0]'): 336.0,\n",
              " ('x[2][6][6]', 'x[2][0][5]'): 15.0,\n",
              " ('x[2][4][5]', 'x[0][4][4]'): 224.0,\n",
              " ('x[1][3][1]', 'x[1][5][0]'): 16.0,\n",
              " ('x[2][6][0]', 'x[1][6][3]'): 224.0,\n",
              " ('x[1][6][2]', 'x[1][3][2]'): 224.0,\n",
              " ('x[1][1][1]', 'x[1][0][1]'): 224.0,\n",
              " ('x[1][4][4]', 'x[1][4][3]'): 336.0,\n",
              " ('x[2][6][1]', 'x[1][6][5]'): 224.0,\n",
              " ('x[1][5][5]', 'x[1][3][4]'): 16.0,\n",
              " ('x[1][5][1]', 'x[1][3][1]'): 224.0,\n",
              " ('x[0][1][6]', 'x[0][6][5]'): 11.0,\n",
              " ('x[0][5][5]', 'x[0][5][4]'): 336.0,\n",
              " ('x[1][4][6]', 'x[1][3][6]'): 224.0,\n",
              " ('x[2][5][5]', 'x[2][0][4]'): 6.0,\n",
              " ('x[2][4][4]', 'x[2][0][3]'): 3.0,\n",
              " ('x[2][3][6]', 'x[2][2][5]'): 8.0,\n",
              " ('x[0][6][2]', 'x[0][5][1]'): 12.0,\n",
              " ('x[2][5][3]', 'x[2][3][2]'): 16.0,\n",
              " ('x[0][4][4]', 'x[0][0][4]'): 224.0,\n",
              " ('x[0][0][4]', 'x[0][2][3]'): 12.0,\n",
              " ('x[2][5][6]', 'x[2][6][5]'): 12.0,\n",
              " ('x[2][1][0]', 'x[0][1][1]'): 224.0,\n",
              " ('x[1][3][4]', 'x[0][3][2]'): 224.0,\n",
              " ('x[0][0][6]', 'x[0][0][5]'): 112.0,\n",
              " ('x[1][3][5]', 'x[0][3][4]'): 224.0,\n",
              " ('x[1][3][4]', 'x[1][3][1]'): 224.0,\n",
              " ('x[0][5][4]', 'x[0][5][4]'): -224.0,\n",
              " ('x[1][6][0]', 'x[1][4][0]'): 224.0,\n",
              " ('x[2][5][4]', 'x[0][5][4]'): 224.0,\n",
              " ('x[0][6][5]', 'x[0][2][4]'): 8.0,\n",
              " ('x[0][5][1]', 'x[0][5][0]'): 336.0,\n",
              " ('x[1][5][5]', 'x[0][5][1]'): 224.0,\n",
              " ('x[2][6][6]', 'x[0][6][2]'): 224.0,\n",
              " ('x[0][2][4]', 'x[0][0][3]'): 12.0,\n",
              " ('x[2][1][2]', 'x[1][1][3]'): 224.0,\n",
              " ('x[1][1][4]', 'x[0][1][4]'): 224.0,\n",
              " ('x[1][3][3]', 'x[1][2][2]'): 8.0,\n",
              " ('x[2][5][0]', 'x[1][5][1]'): 224.0,\n",
              " ('x[0][5][5]', 'x[0][0][5]'): 224.0,\n",
              " ('x[0][6][1]', 'x[0][1][1]'): 224.0,\n",
              " ('x[0][2][6]', 'x[0][1][5]'): 12.0,\n",
              " ('x[2][6][3]', 'x[1][6][3]'): 224.0,\n",
              " ('x[2][2][3]', 'x[2][1][2]'): 12.0,\n",
              " ('x[2][5][3]', 'x[2][1][3]'): 224.0,\n",
              " ('x[1][5][4]', 'x[0][5][5]'): 224.0,\n",
              " ('x[1][3][3]', 'x[1][6][2]'): 1.0,\n",
              " ('x[2][0][5]', 'x[2][0][5]'): -112.0,\n",
              " ('x[2][2][5]', 'x[2][2][1]'): 224.0,\n",
              " ('x[1][3][3]', 'x[0][3][2]'): 224.0,\n",
              " ('x[0][3][5]', 'x[0][3][3]'): 224.0,\n",
              " ('x[2][4][5]', 'x[1][4][0]'): 224.0,\n",
              " ('x[2][5][2]', 'x[1][5][1]'): 224.0,\n",
              " ('x[0][4][4]', 'x[0][3][3]'): 11.0,\n",
              " ('x[1][5][5]', 'x[1][5][0]'): 224.0,\n",
              " ('x[1][4][3]', 'x[0][4][0]'): 224.0,\n",
              " ('x[1][6][1]', 'x[0][6][5]'): 224.0,\n",
              " ('x[2][3][5]', 'x[1][3][1]'): 224.0,\n",
              " ('x[1][2][6]', 'x[0][2][5]'): 224.0,\n",
              " ('x[1][5][5]', 'x[1][5][1]'): 224.0,\n",
              " ('x[1][5][3]', 'x[1][4][3]'): 224.0,\n",
              " ('x[1][1][5]', 'x[0][1][3]'): 224.0,\n",
              " ('x[0][2][2]', 'x[0][2][1]'): 336.0,\n",
              " ('x[1][4][3]', 'x[1][0][3]'): 224.0,\n",
              " ('x[1][6][6]', 'x[1][3][5]'): 1.0,\n",
              " ('x[2][2][5]', 'x[1][2][3]'): 224.0,\n",
              " ('x[2][6][4]', 'x[0][6][1]'): 224.0,\n",
              " ('x[2][5][4]', 'x[1][5][3]'): 224.0,\n",
              " ('x[2][2][6]', 'x[2][2][0]'): 224.0,\n",
              " ('x[2][3][3]', 'x[0][3][0]'): 224.0,\n",
              " ('x[1][5][6]', 'x[0][5][3]'): 224.0,\n",
              " ('x[2][4][3]', 'x[1][4][1]'): 224.0,\n",
              " ('x[1][6][5]', 'x[1][6][2]'): 224.0,\n",
              " ('x[1][4][4]', 'x[0][4][5]'): 224.0,\n",
              " ('x[0][6][0]', 'x[0][0][0]'): 224.0,\n",
              " ('x[2][1][5]', 'x[1][1][4]'): 224.0,\n",
              " ('x[1][2][5]', 'x[1][2][0]'): 224.0,\n",
              " ('x[1][6][4]', 'x[0][6][0]'): 224.0,\n",
              " ('x[1][4][4]', 'x[0][4][4]'): 224.0,\n",
              " ('x[2][6][5]', 'x[0][6][5]'): 224.0,\n",
              " ('x[2][6][1]', 'x[2][1][0]'): 11.0,\n",
              " ('x[0][6][4]', 'x[0][3][3]'): 1.0,\n",
              " ('x[0][6][2]', 'x[0][3][1]'): 1.0,\n",
              " ('x[2][1][1]', 'x[1][1][2]'): 224.0,\n",
              " ('x[0][6][3]', 'x[0][6][0]'): 224.0,\n",
              " ('x[1][4][2]', 'x[1][0][2]'): 224.0,\n",
              " ('x[0][3][6]', 'x[0][6][5]'): 1.0,\n",
              " ('x[1][6][1]', 'x[1][1][1]'): 224.0,\n",
              " ('x[2][3][6]', 'x[1][3][1]'): 224.0,\n",
              " ('x[1][1][4]', 'x[1][2][3]'): 12.0,\n",
              " ('x[2][5][3]', 'x[2][0][3]'): 224.0,\n",
              " ('x[2][1][5]', 'x[2][1][3]'): 224.0,\n",
              " ('x[2][4][5]', 'x[0][4][5]'): 224.0,\n",
              " ('x[2][4][5]', 'x[0][4][6]'): 224.0,\n",
              " ('x[2][2][3]', 'x[0][2][5]'): 224.0,\n",
              " ('x[1][6][2]', 'x[1][0][1]'): 15.0,\n",
              " ('x[2][5][0]', 'x[0][5][2]'): 224.0,\n",
              " ('x[1][6][1]', 'x[1][6][1]'): -224.0,\n",
              " ('x[1][1][5]', 'x[1][3][4]'): 7.0,\n",
              " ('x[0][6][3]', 'x[0][5][2]'): 12.0,\n",
              " ('x[1][6][1]', 'x[1][3][0]'): 1.0,\n",
              " ('x[1][6][0]', 'x[1][0][0]'): 224.0,\n",
              " ('x[2][3][3]', 'x[2][6][2]'): 1.0,\n",
              " ('x[1][5][0]', 'x[0][5][3]'): 224.0,\n",
              " ('x[1][2][3]', 'x[1][2][2]'): 336.0,\n",
              " ('x[2][5][6]', 'x[1][5][4]'): 224.0,\n",
              " ('x[2][4][2]', 'x[2][4][2]'): -224.0,\n",
              " ('x[1][2][1]', 'x[1][2][1]'): -224.0,\n",
              " ('x[2][6][0]', 'x[1][6][0]'): 224.0,\n",
              " ('x[1][6][2]', 'x[1][4][1]'): 4.0,\n",
              " ('x[2][2][4]', 'x[0][2][5]'): 224.0,\n",
              " ('x[2][2][4]', 'x[0][2][2]'): 224.0,\n",
              " ('x[0][4][4]', 'x[0][4][1]'): 224.0,\n",
              " ('x[2][2][3]', 'x[1][2][1]'): 224.0,\n",
              " ('x[0][4][6]', 'x[0][0][5]'): 3.0,\n",
              " ('x[2][5][1]', 'x[2][1][0]'): 8.0,\n",
              " ('x[2][4][3]', 'x[2][2][3]'): 224.0,\n",
              " ('x[1][6][3]', 'x[1][4][3]'): 224.0,\n",
              " ('x[2][5][1]', 'x[2][4][1]'): 224.0,\n",
              " ('x[1][1][3]', 'x[1][4][2]'): 9.0,\n",
              " ('x[0][5][3]', 'x[0][1][2]'): 8.0,\n",
              " ('x[1][5][4]', 'x[0][5][1]'): 224.0,\n",
              " ('x[1][3][3]', 'x[1][5][2]'): 16.0,\n",
              " ('x[2][0][1]', 'x[2][1][0]'): 7.0,\n",
              " ('x[1][6][6]', 'x[1][6][5]'): 336.0,\n",
              " ('x[2][4][4]', 'x[2][3][3]'): 11.0,\n",
              " ('x[0][6][5]', 'x[0][6][0]'): 224.0,\n",
              " ('x[1][4][2]', 'x[1][6][1]'): 4.0,\n",
              " ('x[2][6][4]', 'x[1][6][0]'): 224.0,\n",
              " ('x[1][6][1]', 'x[0][6][6]'): 224.0,\n",
              " ('x[2][1][3]', 'x[1][1][6]'): 224.0,\n",
              " ('x[1][0][4]', 'x[1][4][3]'): 3.0,\n",
              " ('x[1][0][2]', 'x[1][2][1]'): 12.0,\n",
              " ('x[2][2][3]', 'x[2][2][1]'): 224.0,\n",
              " ('x[2][3][6]', 'x[2][5][5]'): 16.0,\n",
              " ('x[2][3][0]', 'x[0][3][6]'): 224.0,\n",
              " ('x[2][1][3]', 'x[2][2][2]'): 12.0,\n",
              " ('x[0][6][5]', 'x[0][1][5]'): 224.0,\n",
              " ('x[1][5][3]', 'x[0][5][3]'): 224.0,\n",
              " ('x[0][3][1]', 'x[0][1][1]'): 224.0,\n",
              " ('x[2][0][3]', 'x[2][5][2]'): 6.0,\n",
              " ('x[1][4][1]', 'x[0][4][2]'): 224.0,\n",
              " ('x[2][1][1]', 'x[1][1][0]'): 224.0,\n",
              " ('x[0][3][6]', 'x[0][3][6]'): -224.0,\n",
              " ('x[1][5][2]', 'x[1][0][2]'): 224.0,\n",
              " ('x[0][0][1]', 'x[0][5][0]'): 6.0,\n",
              " ('x[0][6][1]', 'x[0][5][0]'): 12.0,\n",
              " ('x[2][6][5]', 'x[1][6][1]'): 224.0,\n",
              " ('x[1][0][0]', 'x[1][0][0]'): -224.0,\n",
              " ('x[2][3][6]', 'x[2][1][6]'): 224.0,\n",
              " ('x[1][4][2]', 'x[1][3][1]'): 11.0,\n",
              " ('x[0][1][1]', 'x[0][1][0]'): 336.0,\n",
              " ('x[2][5][2]', 'x[2][0][1]'): 6.0,\n",
              " ('x[1][4][2]', 'x[1][3][2]'): 224.0,\n",
              " ('x[2][1][5]', 'x[1][1][3]'): 224.0,\n",
              " ('x[1][2][6]', 'x[1][1][6]'): 224.0,\n",
              " ('x[0][3][6]', 'x[0][5][5]'): 16.0,\n",
              " ('x[1][6][2]', 'x[1][6][0]'): 224.0,\n",
              " ('x[0][2][6]', 'x[0][2][5]'): 336.0,\n",
              " ('x[2][6][1]', 'x[1][6][6]'): 224.0,\n",
              " ('x[2][2][0]', 'x[2][1][0]'): 224.0,\n",
              " ('x[2][4][4]', 'x[1][4][2]'): 224.0,\n",
              " ('x[1][6][3]', 'x[1][2][2]'): 8.0,\n",
              " ('x[1][6][5]', 'x[1][2][5]'): 224.0,\n",
              " ('x[2][5][4]', 'x[2][3][3]'): 16.0,\n",
              " ('x[1][0][3]', 'x[1][4][2]'): 3.0,\n",
              " ('x[0][4][2]', 'x[0][4][0]'): 224.0,\n",
              " ('x[2][6][1]', 'x[2][3][1]'): 224.0,\n",
              " ('x[2][2][3]', 'x[1][2][4]'): 224.0,\n",
              " ('x[2][1][1]', 'x[1][1][1]'): 224.0,\n",
              " ('x[0][0][5]', 'x[0][6][4]'): 15.0,\n",
              " ('x[2][6][4]', 'x[1][6][2]'): 224.0,\n",
              " ('x[1][1][1]', 'x[1][3][0]'): 7.0,\n",
              " ('x[0][3][3]', 'x[0][4][2]'): 11.0,\n",
              " ('x[0][1][4]', 'x[0][1][4]'): -224.0,\n",
              " ('x[0][4][4]', 'x[0][0][3]'): 3.0,\n",
              " ('x[0][5][0]', 'x[0][5][0]'): -224.0,\n",
              " ('x[1][6][5]', 'x[1][4][4]'): 4.0,\n",
              " ('x[2][4][1]', 'x[2][6][0]'): 4.0,\n",
              " ('x[2][6][5]', 'x[0][6][4]'): 224.0,\n",
              " ('x[1][4][1]', 'x[1][3][0]'): 11.0,\n",
              " ('x[2][3][0]', 'x[2][2][0]'): 224.0,\n",
              " ('x[0][0][5]', 'x[0][0][4]'): 112.0,\n",
              " ('x[2][1][5]', 'x[0][1][5]'): 224.0,\n",
              " ('x[2][1][5]', 'x[2][1][2]'): 224.0,\n",
              " ('x[0][3][4]', 'x[0][4][3]'): 11.0,\n",
              " ('x[0][4][5]', 'x[0][4][4]'): 336.0,\n",
              " ('x[0][6][6]', 'x[0][2][5]'): 8.0,\n",
              " ('x[0][2][5]', 'x[0][2][4]'): 336.0,\n",
              " ('x[1][6][4]', 'x[1][6][3]'): 336.0,\n",
              " ('x[0][4][3]', 'x[0][4][0]'): 224.0,\n",
              " ('x[0][5][2]', 'x[0][2][1]'): 9.0,\n",
              " ('x[2][4][4]', 'x[0][4][0]'): 224.0,\n",
              " ('x[0][6][5]', 'x[0][6][2]'): 224.0,\n",
              " ('x[2][5][6]', 'x[2][2][6]'): 224.0,\n",
              " ('x[0][3][6]', 'x[0][1][6]'): 224.0,\n",
              " ('x[1][5][0]', 'x[1][2][0]'): 224.0,\n",
              " ('x[1][5][3]', 'x[0][5][1]'): 224.0,\n",
              " ('x[2][6][2]', 'x[0][6][4]'): 224.0,\n",
              " ('x[2][2][3]', 'x[2][2][2]'): 336.0,\n",
              " ('x[2][1][3]', 'x[1][1][2]'): 224.0,\n",
              " ('x[1][3][1]', 'x[0][3][4]'): 224.0,\n",
              " ('x[2][5][2]', 'x[0][5][6]'): 224.0,\n",
              " ('x[2][3][1]', 'x[1][3][3]'): 224.0,\n",
              " ('x[1][2][6]', 'x[1][2][5]'): 336.0,\n",
              " ('x[2][6][1]', 'x[1][6][2]'): 224.0,\n",
              " ('x[0][1][1]', 'x[0][2][0]'): 12.0,\n",
              " ('x[1][4][2]', 'x[0][4][3]'): 224.0,\n",
              " ('x[1][0][5]', 'x[1][0][5]'): -112.0,\n",
              " ('x[2][4][3]', 'x[0][4][1]'): 224.0,\n",
              " ('x[2][3][3]', 'x[2][0][2]'): 13.0,\n",
              " ('x[2][6][6]', 'x[2][5][5]'): 12.0,\n",
              " ('x[2][4][2]', 'x[2][6][1]'): 4.0,\n",
              " ('x[2][4][3]', 'x[2][1][2]'): 9.0,\n",
              " ('x[0][4][1]', 'x[0][2][0]'): 9.0,\n",
              " ('x[2][1][5]', 'x[2][5][4]'): 8.0,\n",
              " ('x[2][6][5]', 'x[2][4][4]'): 4.0,\n",
              " ('x[2][6][1]', 'x[2][6][0]'): 336.0,\n",
              " ('x[2][1][3]', 'x[2][6][2]'): 11.0,\n",
              " ('x[0][5][3]', 'x[0][0][3]'): 224.0,\n",
              " ('x[2][5][4]', 'x[2][1][4]'): 224.0,\n",
              " ('x[0][3][3]', 'x[0][6][2]'): 1.0,\n",
              " ('x[2][6][2]', 'x[2][4][2]'): 224.0,\n",
              " ('x[2][1][3]', 'x[0][1][5]'): 224.0,\n",
              " ('x[2][4][0]', 'x[2][2][0]'): 224.0,\n",
              " ('x[1][0][1]', 'x[1][6][0]'): 15.0,\n",
              " ('x[1][6][5]', 'x[0][6][0]'): 224.0,\n",
              " ('x[2][2][4]', 'x[2][2][0]'): 224.0,\n",
              " ('x[2][3][0]', 'x[1][3][5]'): 224.0,\n",
              " ('x[0][6][4]', 'x[0][2][3]'): 8.0,\n",
              " ('x[1][1][2]', 'x[1][6][1]'): 11.0,\n",
              " ('x[0][3][5]', 'x[0][2][4]'): 8.0,\n",
              " ('x[1][4][6]', 'x[0][4][4]'): 224.0,\n",
              " ('x[1][2][6]', 'x[1][0][6]'): 224.0,\n",
              " ('x[1][1][2]', 'x[1][5][1]'): 8.0,\n",
              " ('x[1][2][1]', 'x[1][3][0]'): 8.0,\n",
              " ('x[1][2][2]', 'x[0][2][3]'): 224.0,\n",
              " ('x[2][1][5]', 'x[0][1][3]'): 224.0,\n",
              " ('x[2][5][0]', 'x[1][5][2]'): 224.0,\n",
              " ('x[1][4][5]', 'x[1][4][5]'): -224.0,\n",
              " ('x[2][1][0]', 'x[1][1][3]'): 224.0,\n",
              " ('x[2][0][4]', 'x[2][4][3]'): 3.0,\n",
              " ('x[0][1][3]', 'x[0][5][2]'): 8.0,\n",
              " ('x[0][3][6]', 'x[0][3][4]'): 224.0,\n",
              " ('x[0][6][4]', 'x[0][6][4]'): -224.0,\n",
              " ('x[2][6][2]', 'x[2][3][2]'): 224.0,\n",
              " ('x[2][2][5]', 'x[2][2][4]'): 336.0,\n",
              " ('x[1][4][2]', 'x[1][0][1]'): 3.0,\n",
              " ('x[1][3][6]', 'x[1][3][2]'): 224.0,\n",
              " ('x[1][0][1]', 'x[1][0][0]'): 112.0,\n",
              " ('x[2][4][4]', 'x[2][1][4]'): 224.0,\n",
              " ('x[2][3][6]', 'x[1][3][4]'): 224.0,\n",
              " ('x[2][5][4]', 'x[0][5][5]'): 224.0,\n",
              " ('x[1][4][6]', 'x[0][4][0]'): 224.0,\n",
              " ('x[0][5][1]', 'x[0][2][0]'): 9.0,\n",
              " ('x[1][3][2]', 'x[0][3][1]'): 224.0,\n",
              " ('x[1][1][3]', 'x[0][1][0]'): 224.0,\n",
              " ('x[1][3][4]', 'x[0][3][4]'): 224.0,\n",
              " ('x[1][2][1]', 'x[1][0][1]'): 224.0,\n",
              " ('x[2][3][4]', 'x[1][3][4]'): 224.0,\n",
              " ('x[1][2][0]', 'x[1][2][0]'): -224.0,\n",
              " ('x[2][1][3]', 'x[1][1][5]'): 224.0,\n",
              " ('x[2][5][3]', 'x[0][5][1]'): 224.0,\n",
              " ('x[2][6][5]', 'x[2][1][5]'): 224.0,\n",
              " ('x[1][3][6]', 'x[0][3][3]'): 224.0,\n",
              " ('x[0][6][2]', 'x[0][3][2]'): 224.0,\n",
              " ('x[2][1][1]', 'x[2][6][0]'): 11.0,\n",
              " ('x[1][5][5]', 'x[1][6][4]'): 12.0,\n",
              " ('x[2][2][4]', 'x[1][2][4]'): 224.0,\n",
              " ('x[2][0][4]', 'x[2][0][3]'): 112.0,\n",
              " ('x[1][0][6]', 'x[1][0][5]'): 112.0,\n",
              " ('x[1][6][4]', 'x[1][6][1]'): 224.0,\n",
              " ('x[2][4][5]', 'x[2][4][2]'): 224.0,\n",
              " ('x[1][3][2]', 'x[1][2][2]'): 224.0,\n",
              " ('x[1][4][4]', 'x[1][4][4]'): -224.0,\n",
              " ('x[1][6][3]', 'x[1][5][3]'): 224.0,\n",
              " ('x[1][3][4]', 'x[1][3][3]'): 336.0,\n",
              " ('x[2][6][6]', 'x[1][6][4]'): 224.0,\n",
              " ('x[2][3][2]', 'x[1][3][4]'): 224.0,\n",
              " ('x[0][5][6]', 'x[0][5][3]'): 224.0,\n",
              " ('x[0][6][1]', 'x[0][0][1]'): 224.0,\n",
              " ('x[2][5][5]', 'x[2][5][3]'): 224.0,\n",
              " ('x[1][5][4]', 'x[1][5][1]'): 224.0,\n",
              " ('x[2][3][0]', 'x[1][3][6]'): 224.0,\n",
              " ('x[1][6][2]', 'x[1][5][2]'): 224.0,\n",
              " ('x[2][5][4]', 'x[2][1][3]'): 8.0,\n",
              " ('x[2][5][0]', 'x[1][5][3]'): 224.0,\n",
              " ('x[0][6][2]', 'x[0][6][0]'): 224.0,\n",
              " ('x[2][5][6]', 'x[0][5][5]'): 224.0,\n",
              " ('x[1][3][1]', 'x[1][2][0]'): 8.0,\n",
              " ('x[2][5][6]', 'x[1][5][2]'): 224.0,\n",
              " ('x[1][3][3]', 'x[1][1][2]'): 7.0,\n",
              " ('x[0][6][0]', 'x[0][5][0]'): 224.0,\n",
              " ('x[2][3][1]', 'x[1][3][5]'): 224.0,\n",
              " ('x[1][6][3]', 'x[1][4][2]'): 4.0,\n",
              " ('x[2][4][5]', 'x[2][4][0]'): 224.0,\n",
              " ('x[1][1][4]', 'x[1][1][1]'): 224.0,\n",
              " ('x[1][4][6]', 'x[1][0][5]'): 3.0,\n",
              " ('x[0][4][6]', 'x[0][2][5]'): 9.0,\n",
              " ('x[2][3][0]', 'x[1][3][1]'): 224.0,\n",
              " ('x[1][5][2]', 'x[1][3][1]'): 16.0,\n",
              " ('x[2][3][4]', 'x[0][3][3]'): 224.0,\n",
              " ('x[1][2][5]', 'x[0][2][3]'): 224.0,\n",
              " ('x[1][4][0]', 'x[1][2][0]'): 224.0,\n",
              " ('x[2][4][5]', 'x[2][2][5]'): 224.0,\n",
              " ('x[2][1][2]', 'x[2][3][1]'): 7.0,\n",
              " ('x[1][6][5]', 'x[1][5][4]'): 12.0,\n",
              " ('x[2][6][6]', 'x[0][6][6]'): 224.0,\n",
              " ('x[1][1][2]', 'x[0][1][4]'): 224.0,\n",
              " ('x[0][2][2]', 'x[0][4][1]'): 9.0,\n",
              " ('x[1][0][6]', 'x[1][4][5]'): 3.0,\n",
              " ('x[2][2][1]', 'x[1][2][5]'): 224.0,\n",
              " ('x[2][6][3]', 'x[2][3][2]'): 1.0,\n",
              " ('x[2][3][4]', 'x[2][3][1]'): 224.0,\n",
              " ('x[1][3][5]', 'x[1][2][4]'): 8.0,\n",
              " ('x[2][6][5]', 'x[2][0][5]'): 224.0,\n",
              " ('x[1][4][2]', 'x[0][4][1]'): 224.0,\n",
              " ('x[1][5][2]', 'x[1][2][1]'): 9.0,\n",
              " ('x[2][6][6]', 'x[1][6][5]'): 224.0,\n",
              " ('x[2][5][4]', 'x[1][5][6]'): 224.0,\n",
              " ('x[2][5][3]', 'x[0][5][3]'): 224.0,\n",
              " ('x[2][0][2]', 'x[2][4][1]'): 3.0,\n",
              " ('x[0][4][2]', 'x[0][2][1]'): 9.0,\n",
              " ('x[1][1][6]', 'x[1][2][5]'): 12.0,\n",
              " ('x[2][1][0]', 'x[0][1][0]'): 224.0,\n",
              " ('x[2][2][3]', 'x[2][0][2]'): 12.0,\n",
              " ('x[2][4][0]', 'x[1][4][6]'): 224.0,\n",
              " ('x[2][4][4]', 'x[0][4][5]'): 224.0,\n",
              " ('x[0][0][6]', 'x[0][3][5]'): 13.0,\n",
              " ('x[2][1][4]', 'x[2][2][3]'): 12.0,\n",
              " ('x[2][3][4]', 'x[1][3][3]'): 224.0,\n",
              " ('x[2][4][6]', 'x[2][4][4]'): 224.0,\n",
              " ('x[1][2][1]', 'x[1][1][1]'): 224.0,\n",
              " ('x[1][4][3]', 'x[1][1][2]'): 9.0,\n",
              " ('x[0][5][4]', 'x[0][1][3]'): 8.0,\n",
              " ('x[1][4][1]', 'x[0][4][5]'): 224.0,\n",
              " ('x[1][5][5]', 'x[0][5][5]'): 224.0,\n",
              " ('x[2][4][1]', 'x[0][4][1]'): 224.0,\n",
              " ('x[1][5][6]', 'x[1][0][6]'): 224.0,\n",
              " ('x[2][1][0]', 'x[0][1][2]'): 224.0,\n",
              " ('x[1][6][2]', 'x[1][6][1]'): 336.0,\n",
              " ('x[1][5][6]', 'x[1][5][4]'): 224.0,\n",
              " ('x[2][2][3]', 'x[0][2][0]'): 224.0,\n",
              " ('x[1][1][2]', 'x[1][0][2]'): 224.0,\n",
              " ('x[0][4][2]', 'x[0][2][2]'): 224.0,\n",
              " ('x[0][3][6]', 'x[0][0][6]'): 224.0,\n",
              " ('x[2][2][1]', 'x[0][2][3]'): 224.0,\n",
              " ('x[1][3][6]', 'x[1][1][6]'): 224.0,\n",
              " ('x[1][2][3]', 'x[0][2][6]'): 224.0,\n",
              " ('x[1][6][2]', 'x[1][0][2]'): 224.0,\n",
              " ('x[1][6][6]', 'x[1][0][5]'): 15.0,\n",
              " ('x[1][5][5]', 'x[1][5][5]'): -224.0,\n",
              " ('x[0][3][3]', 'x[0][0][2]'): 13.0,\n",
              " ('x[1][5][3]', 'x[1][0][3]'): 224.0,\n",
              " ('x[1][1][4]', 'x[0][1][1]'): 224.0,\n",
              " ('x[1][3][0]', 'x[0][3][2]'): 224.0,\n",
              " ('x[2][4][0]', 'x[1][4][4]'): 224.0,\n",
              " ('x[2][1][4]', 'x[0][1][1]'): 224.0,\n",
              " ('x[0][4][2]', 'x[0][0][2]'): 224.0,\n",
              " ('x[2][6][4]', 'x[0][6][4]'): 224.0,\n",
              " ('x[2][2][5]', 'x[2][4][4]'): 9.0,\n",
              " ('x[1][5][6]', 'x[0][5][5]'): 224.0,\n",
              " ('x[2][3][6]', 'x[2][3][1]'): 224.0,\n",
              " ('x[1][1][1]', 'x[0][1][4]'): 224.0,\n",
              " ('x[2][2][2]', 'x[0][2][5]'): 224.0,\n",
              " ('x[2][3][4]', 'x[2][2][4]'): 224.0,\n",
              " ('x[2][5][0]', 'x[1][5][0]'): 224.0,\n",
              " ('x[2][3][1]', 'x[2][6][0]'): 1.0,\n",
              " ('x[1][6][5]', 'x[1][6][3]'): 224.0,\n",
              " ('x[2][6][6]', 'x[0][6][4]'): 224.0,\n",
              " ('x[2][5][0]', 'x[0][5][6]'): 224.0,\n",
              " ('x[1][3][6]', 'x[1][3][1]'): 224.0,\n",
              " ('x[2][5][1]', 'x[0][5][2]'): 224.0,\n",
              " ('x[1][3][5]', 'x[0][3][5]'): 224.0,\n",
              " ('x[2][5][1]', 'x[2][2][1]'): 224.0,\n",
              " ('x[2][4][1]', 'x[2][0][1]'): 224.0,\n",
              " ('x[2][6][4]', 'x[2][5][3]'): 12.0,\n",
              " ('x[2][4][2]', 'x[2][1][1]'): 9.0,\n",
              " ('x[2][1][2]', 'x[0][1][1]'): 224.0,\n",
              " ('x[0][2][4]', 'x[0][4][3]'): 9.0,\n",
              " ('x[1][6][0]', 'x[1][2][0]'): 224.0,\n",
              " ('x[1][4][3]', 'x[0][4][4]'): 224.0,\n",
              " ('x[2][3][3]', 'x[0][3][1]'): 224.0,\n",
              " ('x[1][2][4]', 'x[1][4][3]'): 9.0,\n",
              " ('x[2][2][6]', 'x[2][2][4]'): 224.0,\n",
              " ('x[2][4][5]', 'x[2][0][4]'): 3.0,\n",
              " ('x[2][5][5]', 'x[2][5][0]'): 224.0,\n",
              " ('x[0][1][3]', 'x[0][4][2]'): 9.0,\n",
              " ('x[1][1][1]', 'x[1][1][0]'): 336.0,\n",
              " ('x[1][6][4]', 'x[1][0][3]'): 15.0,\n",
              " ('x[0][6][2]', 'x[0][1][1]'): 11.0,\n",
              " ('x[2][3][2]', 'x[1][3][2]'): 224.0,\n",
              " ('x[1][1][4]', 'x[0][1][6]'): 224.0,\n",
              " ('x[0][4][6]', 'x[0][4][0]'): 224.0,\n",
              " ('x[2][3][1]', 'x[0][3][5]'): 224.0,\n",
              " ('x[1][0][5]', 'x[1][1][4]'): 7.0,\n",
              " ('x[1][3][4]', 'x[1][5][3]'): 16.0,\n",
              " ('x[0][6][0]', 'x[0][1][0]'): 224.0,\n",
              " ('x[1][3][3]', 'x[1][3][0]'): 224.0,\n",
              " ('x[2][4][6]', 'x[2][4][0]'): 224.0,\n",
              " ('x[2][3][6]', 'x[2][3][6]'): -224.0,\n",
              " ('x[1][5][6]', 'x[1][2][6]'): 224.0,\n",
              " ('x[1][3][4]', 'x[0][3][6]'): 224.0,\n",
              " ('x[2][4][2]', 'x[2][0][1]'): 3.0,\n",
              " ('x[2][2][0]', 'x[1][2][4]'): 224.0,\n",
              " ('x[1][6][5]', 'x[1][5][5]'): 224.0,\n",
              " ('x[0][6][4]', 'x[0][2][4]'): 224.0,\n",
              " ('x[2][6][6]', 'x[2][4][6]'): 224.0,\n",
              " ('x[1][4][5]', 'x[0][4][3]'): 224.0,\n",
              " ('x[2][4][3]', 'x[1][4][3]'): 224.0,\n",
              " ('x[2][1][1]', 'x[2][0][1]'): 224.0,\n",
              " ('x[2][6][4]', 'x[0][6][2]'): 224.0,\n",
              " ('x[2][2][6]', 'x[2][2][2]'): 224.0,\n",
              " ('x[1][1][6]', 'x[1][1][4]'): 224.0,\n",
              " ('x[2][0][1]', 'x[2][3][0]'): 13.0,\n",
              " ('x[1][4][5]', 'x[1][3][4]'): 11.0,\n",
              " ('x[1][4][5]', 'x[1][6][4]'): 4.0,\n",
              " ('x[2][3][6]', 'x[1][3][0]'): 224.0,\n",
              " ('x[0][6][3]', 'x[0][3][3]'): 224.0,\n",
              " ('x[1][4][3]', 'x[1][3][2]'): 11.0,\n",
              " ('x[2][2][0]', 'x[1][2][5]'): 224.0,\n",
              " ('x[2][2][2]', 'x[2][2][0]'): 224.0,\n",
              " ('x[0][1][6]', 'x[0][4][5]'): 9.0,\n",
              " ('x[1][3][5]', 'x[1][3][2]'): 224.0,\n",
              " ('x[1][4][0]', 'x[1][3][0]'): 224.0,\n",
              " ('x[1][5][2]', 'x[0][5][3]'): 224.0,\n",
              " ('x[0][3][2]', 'x[0][3][1]'): 336.0,\n",
              " ('x[2][2][6]', 'x[2][3][5]'): 8.0,\n",
              " ('x[2][6][5]', 'x[0][6][0]'): 224.0,\n",
              " ('x[0][4][5]', 'x[0][1][4]'): 9.0,\n",
              " ('x[1][3][3]', 'x[1][2][3]'): 224.0,\n",
              " ('x[1][2][6]', 'x[0][2][0]'): 224.0,\n",
              " ('x[0][6][1]', 'x[0][4][0]'): 4.0,\n",
              " ('x[0][2][5]', 'x[0][2][2]'): 224.0,\n",
              " ('x[2][3][5]', 'x[2][3][1]'): 224.0,\n",
              " ('x[0][4][5]', 'x[0][0][5]'): 224.0,\n",
              " ('x[0][1][6]', 'x[0][2][5]'): 12.0,\n",
              " ('x[1][1][3]', 'x[1][6][2]'): 11.0,\n",
              " ('x[1][4][3]', 'x[0][4][2]'): 224.0,\n",
              " ('x[2][6][2]', 'x[2][1][2]'): 224.0,\n",
              " ('x[2][3][4]', 'x[2][0][3]'): 13.0,\n",
              " ('x[0][6][6]', 'x[0][6][6]'): -224.0,\n",
              " ('x[2][5][1]', 'x[2][2][0]'): 9.0,\n",
              " ('x[1][2][5]', 'x[0][2][4]'): 224.0,\n",
              " ('x[2][1][0]', 'x[1][1][1]'): 224.0,\n",
              " ('x[2][6][4]', 'x[1][6][1]'): 224.0,\n",
              " ('x[0][0][1]', 'x[0][1][0]'): 7.0,\n",
              " ('x[2][6][4]', 'x[0][6][5]'): 224.0,\n",
              " ('x[0][3][4]', 'x[0][2][3]'): 8.0,\n",
              " ('x[1][2][1]', 'x[0][2][3]'): 224.0,\n",
              " ('x[2][4][1]', 'x[1][4][5]'): 224.0,\n",
              " ('x[0][0][6]', 'x[0][0][6]'): -224.0,\n",
              " ('x[1][4][6]', 'x[1][4][3]'): 224.0,\n",
              " ('x[0][6][1]', 'x[0][0][0]'): 15.0,\n",
              " ('x[2][6][1]', 'x[0][6][6]'): 224.0,\n",
              " ('x[2][2][5]', 'x[0][2][5]'): 224.0,\n",
              " ('x[2][3][2]', 'x[0][3][3]'): 224.0,\n",
              " ('x[1][4][6]', 'x[1][0][6]'): 224.0,\n",
              " ('x[2][2][5]', 'x[0][2][6]'): 224.0,\n",
              " ('x[0][4][5]', 'x[0][2][5]'): 224.0,\n",
              " ('x[1][3][2]', 'x[1][0][1]'): 13.0,\n",
              " ('x[2][4][3]', 'x[0][4][0]'): 224.0,\n",
              " ('x[2][3][3]', 'x[2][2][2]'): 8.0,\n",
              " ('x[2][2][3]', 'x[0][2][6]'): 224.0,\n",
              " ('x[1][3][4]', 'x[1][4][3]'): 11.0,\n",
              " ('x[2][4][3]', 'x[1][4][5]'): 224.0,\n",
              " ('x[0][5][6]', 'x[0][5][1]'): 224.0,\n",
              " ('x[2][4][6]', 'x[1][4][2]'): 224.0,\n",
              " ('x[0][6][5]', 'x[0][0][5]'): 224.0,\n",
              " ('x[2][3][0]', 'x[2][1][0]'): 224.0,\n",
              " ('x[1][3][2]', 'x[1][3][2]'): -224.0,\n",
              " ('x[2][5][4]', 'x[2][5][0]'): 224.0,\n",
              " ('x[2][3][2]', 'x[0][3][6]'): 224.0,\n",
              " ('x[2][4][6]', 'x[0][4][6]'): 224.0,\n",
              " ('x[1][4][6]', 'x[0][4][3]'): 224.0,\n",
              " ('x[2][5][6]', 'x[1][5][6]'): 224.0,\n",
              " ('x[2][2][6]', 'x[1][2][6]'): 224.0,\n",
              " ('x[2][2][1]', 'x[0][2][2]'): 224.0,\n",
              " ('x[2][2][5]', 'x[1][2][1]'): 224.0,\n",
              " ('x[1][4][1]', 'x[1][4][0]'): 336.0,\n",
              " ('x[2][1][5]', 'x[1][1][5]'): 224.0,\n",
              " ('x[2][2][0]', 'x[0][2][3]'): 224.0,\n",
              " ('x[1][5][6]', 'x[0][5][1]'): 224.0,\n",
              " ('x[0][4][6]', 'x[0][4][5]'): 336.0,\n",
              " ('x[2][2][4]', 'x[2][3][3]'): 8.0,\n",
              " ('x[1][1][6]', 'x[1][1][1]'): 224.0,\n",
              " ('x[0][4][0]', 'x[0][1][0]'): 224.0,\n",
              " ('x[2][6][2]', 'x[2][6][0]'): 224.0,\n",
              " ('x[1][6][4]', 'x[1][1][3]'): 11.0,\n",
              " ('x[1][3][4]', 'x[0][3][3]'): 224.0,\n",
              " ('x[2][6][1]', 'x[2][0][1]'): 224.0,\n",
              " ('x[2][2][6]', 'x[1][2][0]'): 224.0,\n",
              " ('x[0][3][1]', 'x[0][0][0]'): 13.0,\n",
              " ('x[1][4][1]', 'x[1][5][0]'): 10.0,\n",
              " ('x[2][6][5]', 'x[1][6][3]'): 224.0,\n",
              " ('x[1][6][4]', 'x[1][6][4]'): -224.0,\n",
              " ('x[2][4][2]', 'x[2][1][2]'): 224.0,\n",
              " ('x[1][5][5]', 'x[1][5][2]'): 224.0,\n",
              " ('x[0][6][1]', 'x[0][1][0]'): 11.0,\n",
              " ('x[1][5][6]', 'x[1][1][6]'): 224.0,\n",
              " ('x[2][3][3]', 'x[1][3][3]'): 224.0,\n",
              " ('x[1][3][5]', 'x[0][3][6]'): 224.0,\n",
              " ('x[1][3][6]', 'x[1][3][4]'): 224.0,\n",
              " ('x[1][6][4]', 'x[1][5][4]'): 224.0,\n",
              " ('x[2][4][3]', 'x[2][4][0]'): 224.0,\n",
              " ('x[0][0][5]', 'x[0][4][4]'): 3.0,\n",
              " ('x[2][2][6]', 'x[2][1][6]'): 224.0,\n",
              " ('x[0][2][4]', 'x[0][6][3]'): 8.0,\n",
              " ('x[0][0][6]', 'x[0][6][5]'): 15.0,\n",
              " ...}"
            ]
          },
          "metadata": {},
          "execution_count": 43
        }
      ]
    },
    {
      "cell_type": "markdown",
      "source": [
        "### Solve QUBO"
      ],
      "metadata": {
        "id": "iooACMPv0gqF"
      }
    },
    {
      "cell_type": "code",
      "source": [
        "# solve via choosen sampler\n",
        "sampleset = sampler.sample_qubo(Q, num_reads=1000)#, num_steps=10000)\n",
        "\n",
        "# get num_reads solutions obtained\n",
        "samples = model.decode_sampleset(sampleset)\n",
        "\n",
        "# take only valid solutions (actual routes)\n",
        "samples = [s for s in samples if is_valid_routing(get_edges_from_sample(s.sample, formulation=2), formulation=2)[0]==True]\n",
        "\n",
        "best_sample, energy = None, None\n",
        "\n",
        "if len(samples)>0:\n",
        "  # take only best solution (minimum energy)\n",
        "  best_sample = min(samples, key=lambda s: s.energy)\n",
        "  print(best_sample.sample, '\\n', best_sample.energy)"
      ],
      "metadata": {
        "id": "CIk_Neqm0gqG"
      },
      "execution_count": 44,
      "outputs": []
    },
    {
      "cell_type": "code",
      "source": [
        "# compute original objective function value in best_sample\n",
        "x = np.zeros((k, n, n))\n",
        "\n",
        "if best_sample != None:\n",
        "  for v in range(k):\n",
        "    for i in range(n):\n",
        "      for t in range(n):\n",
        "        x[v, i, t] = best_sample.sample[f'x[{v}][{i}][{t}]']\n",
        "\n",
        "  # original objective function value\n",
        "  obj = sum(E[i,j]*x[v, i, t]*x[v, j, t+1]\n",
        "            for i in range(n) for j in range(n)\n",
        "            for t in range(n-1) for v in range(k))\n",
        "\n",
        "  print(obj)"
      ],
      "metadata": {
        "id": "aKVYCNu00gqH"
      },
      "execution_count": 45,
      "outputs": []
    },
    {
      "cell_type": "markdown",
      "source": [
        "### Routes"
      ],
      "metadata": {
        "id": "5sxJDfdz0gqI"
      }
    },
    {
      "cell_type": "code",
      "source": [
        "# get non zero decision variables\n",
        "routes = []\n",
        "for v in range(k):\n",
        "  for i in range(n):\n",
        "    for t in range(n):\n",
        "      if x[v, i, t] > 1e-6:\n",
        "        routes.append((v, i, t))\n",
        "\n",
        "is_valid_routing(routes, VERBOSE=True, formulation=2)"
      ],
      "metadata": {
        "colab": {
          "base_uri": "https://localhost:8080/"
        },
        "outputId": "7ce8c1e7-d569-4e7c-be9e-994347afe6fd",
        "id": "Ij5MJIWd0gqK"
      },
      "execution_count": 46,
      "outputs": [
        {
          "output_type": "stream",
          "name": "stdout",
          "text": [
            "Not a valid routing\n"
          ]
        },
        {
          "output_type": "execute_result",
          "data": {
            "text/plain": [
              "(False, [])"
            ]
          },
          "metadata": {},
          "execution_count": 46
        }
      ]
    },
    {
      "cell_type": "markdown",
      "source": [
        "## Graver Augmented Multiseed Algorithm"
      ],
      "metadata": {
        "id": "QwYjc6g6VF91"
      }
    },
    {
      "cell_type": "code",
      "source": [
        "# Get the constraint matrix A and vector b (Ax=b) from Gurobi model\n",
        "m.update()\n",
        "# x = m.getVars()\n",
        "A = m.getA()\n",
        "A = A.toarray()\n",
        "b = np.array(m.getAttr(\"RHS\", m.getConstrs()))\n",
        "obj_coeffs = m.getAttr(\"Obj\", m.getVars())\n",
        "\n",
        "# create decision variables\n",
        "x = Array.create('x', shape=(k*n*n), vartype='BINARY')"
      ],
      "metadata": {
        "id": "1Y5ArVvEVF93"
      },
      "execution_count": 47,
      "outputs": []
    },
    {
      "cell_type": "code",
      "source": [
        "# # Objective function definition\n",
        "# def f(x):\n",
        "#   return np.sum([obj_coeffs[i]*x[i] for i in range(len(obj_coeffs))])\n",
        "\n",
        "# Objective function definition\n",
        "def f(x):\n",
        "  y = x.reshape(k,n,n)\n",
        "  obj_val = sum(E[i,j]*y[v, i, t]*y[v, j, t+1]\n",
        "          for i in range(n) for j in range(n)\n",
        "          for t in range(n-1) for v in range(k))\n",
        "  return obj_val\n",
        "\n",
        "# Constraints satisfaction\n",
        "def const(x):\n",
        "    return np.array_equiv(np.dot(A,x),b.T) or np.array_equiv(np.dot(A,x),b)"
      ],
      "metadata": {
        "id": "sc9VFfUZVF95"
      },
      "execution_count": 48,
      "outputs": []
    },
    {
      "cell_type": "code",
      "source": [
        "# compute graver basis elements\n",
        "graver_elems = get_feasible(A, np.zeros_like(b), sampler=sampler, refine_almost_feasible=True)\n",
        "print(len(graver_elems), ' graver elements found.')"
      ],
      "metadata": {
        "colab": {
          "base_uri": "https://localhost:8080/"
        },
        "outputId": "ffc67b42-67b5-46d0-d968-ba5271a76464",
        "id": "wUjbojeNVF96"
      },
      "execution_count": 49,
      "outputs": [
        {
          "output_type": "stream",
          "name": "stderr",
          "text": [
            "<ipython-input-12-9ee96a8ba1f3>:9: DeprecationWarning: BQM.from_numpy_matrix(M) is deprecated since dimod 0.10.0 and will be removed in 0.12.0. Use BQM(M, \"BINARY\") instead.\n",
            "  bqm = dimod.BinaryQuadraticModel.from_numpy_matrix(mat=Q, offset=offset)\n"
          ]
        },
        {
          "output_type": "stream",
          "name": "stdout",
          "text": [
            "1  graver elements found.\n"
          ]
        }
      ]
    },
    {
      "cell_type": "code",
      "source": [
        "# compute feasible solutions\n",
        "feas_sols = get_feasible(A, b, sampler=sampler)\n",
        "print(len(feas_sols), ' feasible solutions found.')"
      ],
      "metadata": {
        "colab": {
          "base_uri": "https://localhost:8080/"
        },
        "outputId": "c5f4d871-6d07-43d4-bdd1-04b5864e83a8",
        "id": "DDBQH0BQVF98"
      },
      "execution_count": 50,
      "outputs": [
        {
          "output_type": "stream",
          "name": "stderr",
          "text": [
            "<ipython-input-12-9ee96a8ba1f3>:9: DeprecationWarning: BQM.from_numpy_matrix(M) is deprecated since dimod 0.10.0 and will be removed in 0.12.0. Use BQM(M, \"BINARY\") instead.\n",
            "  bqm = dimod.BinaryQuadraticModel.from_numpy_matrix(mat=Q, offset=offset)\n"
          ]
        },
        {
          "output_type": "stream",
          "name": "stdout",
          "text": [
            "997  feasible solutions found.\n"
          ]
        }
      ]
    },
    {
      "cell_type": "code",
      "source": [
        "# Multiseed Augmentation\n",
        "final_sols, final_obj_full = graver_multiseed_augmentation(feas_sols, graver_elems, const, f)\n",
        "\n",
        "# get best solution\n",
        "x_opt = final_sols[np.argmin(final_obj_full), :]\n",
        "print(x_opt, np.min(final_obj_full))"
      ],
      "metadata": {
        "colab": {
          "base_uri": "https://localhost:8080/"
        },
        "outputId": "132d6a08-244d-40bc-9ef6-fb9540720bc1",
        "id": "7w-GGGnKVF9-"
      },
      "execution_count": 51,
      "outputs": [
        {
          "output_type": "stream",
          "name": "stdout",
          "text": [
            "[1. 1. 1. 1. 1. 1. 1. 0. 0. 0. 0. 0. 0. 0. 0. 0. 0. 0. 0. 0. 0. 0. 0. 0.\n",
            " 0. 0. 0. 0. 0. 0. 0. 0. 0. 0. 0. 0. 0. 0. 0. 0. 0. 0. 0. 0. 0. 0. 0. 0.\n",
            " 0. 1. 1. 1. 0. 1. 0. 1. 0. 0. 0. 0. 0. 1. 0. 0. 0. 0. 0. 0. 0. 0. 0. 0.\n",
            " 0. 0. 0. 0. 0. 0. 0. 0. 0. 0. 0. 0. 0. 0. 0. 1. 0. 0. 0. 0. 0. 0. 0. 0.\n",
            " 0. 0. 1. 0. 0. 0. 0. 1. 1. 0. 0. 0. 0. 0. 0. 0. 0. 0. 0. 0. 1. 0. 0. 0.\n",
            " 0. 0. 1. 0. 0. 0. 0. 1. 0. 0. 0. 0. 0. 0. 0. 0. 0. 0. 0. 0. 0. 0. 1. 0.\n",
            " 0. 0. 0.] 54.0\n"
          ]
        }
      ]
    },
    {
      "cell_type": "code",
      "source": [
        "x = x_opt.reshape(k,n,n)\n",
        "edges = []\n",
        "for v in range(k):\n",
        "  for i in range(n):\n",
        "    for j in range(n):\n",
        "      if x[v, i, j] > 1e-6:\n",
        "        edges.append((v, i, j))\n",
        "\n",
        "is_valid_routing(edges, VERBOSE=True, formulation=2)"
      ],
      "metadata": {
        "colab": {
          "base_uri": "https://localhost:8080/"
        },
        "outputId": "4c7816c5-3c44-4e13-ba37-2202b44c3006",
        "id": "zX5caFpZVF-A"
      },
      "execution_count": 52,
      "outputs": [
        {
          "output_type": "stream",
          "name": "stdout",
          "text": [
            "Valid routing. The routes are\n",
            "\n",
            "[0, 0, 0, 0, 0, 0, 0]\n",
            "[0, 0, 0, 5, 0, 1, 0]\n",
            "[0, 4, 6, 3, 2, 0, 0]\n"
          ]
        },
        {
          "output_type": "execute_result",
          "data": {
            "text/plain": [
              "(True, [[0, 0, 0, 0, 0, 0, 0], [0, 0, 0, 5, 0, 1, 0], [0, 4, 6, 3, 2, 0, 0]])"
            ]
          },
          "metadata": {},
          "execution_count": 52
        }
      ]
    },
    {
      "cell_type": "markdown",
      "source": [
        "# VRP with at most k vehicles"
      ],
      "metadata": {
        "id": "cVCsgjXgGj1m"
      }
    },
    {
      "cell_type": "markdown",
      "source": [
        "## Formulation"
      ],
      "metadata": {
        "id": "xIrfyi-PgSyx"
      }
    },
    {
      "cell_type": "markdown",
      "source": [
        "\\begin{alignat*}{2}\n",
        "\\text{Minimize} \\quad & \\sum_{i, j} c_{ij}x_{ij} \\\\\n",
        "\\text{subject to} \\quad & \\sum_{j} x_{0j} \\leq k \\\\\n",
        "& \\sum_{j} x_{j0} = \\sum_{j} x_{0j} \\\\\n",
        "& \\sum_{j} x_{ij} = 1 \\quad \\forall i \\\\\n",
        "& \\sum_{i} x_{ij} = 1 \\quad \\forall j \\\\\n",
        "& x_{ij} \\in \\{0, 1\\} \\quad \\forall i,j\n",
        "\\end{alignat*}"
      ],
      "metadata": {
        "id": "86D2PibNgSy3"
      }
    },
    {
      "cell_type": "markdown",
      "source": [
        "## Gurobi"
      ],
      "metadata": {
        "id": "DBbNhoSjUYVj"
      }
    },
    {
      "cell_type": "code",
      "source": [
        "# Declare and initialize model\n",
        "m = gp.Model('VRP')"
      ],
      "metadata": {
        "id": "zhAVyBpWGj1o"
      },
      "execution_count": null,
      "outputs": []
    },
    {
      "cell_type": "code",
      "source": [
        "# Matching score data\n",
        "d = {}\n",
        "\n",
        "for edge in G.edges():\n",
        "  d[edge] = G[edge[0]][edge[1]]['weight']\n",
        "\n",
        "combinations, costs = gp.multidict(d)"
      ],
      "metadata": {
        "id": "mjm6C1uiGj1p"
      },
      "execution_count": null,
      "outputs": []
    },
    {
      "cell_type": "markdown",
      "source": [
        "### Decision variables"
      ],
      "metadata": {
        "id": "i7osegnbGj1p"
      }
    },
    {
      "cell_type": "code",
      "source": [
        "# Create decision variables\n",
        "x = m.addVars(combinations, vtype=GRB.BINARY, name=\"assign\")"
      ],
      "metadata": {
        "id": "uabtZecVGj1q"
      },
      "execution_count": null,
      "outputs": []
    },
    {
      "cell_type": "markdown",
      "source": [
        "### Constraints"
      ],
      "metadata": {
        "id": "lOx4V_IgGj1r"
      }
    },
    {
      "cell_type": "code",
      "source": [
        "# at most k vehicle departing from depot\n",
        "leave_depot = m.addConstr(x.sum(0, '*') <= k, name='leave_depot')\n",
        "\n",
        "# number of vehicles leaving the depot\n",
        "# must be equal the number of vehicles\n",
        "# returning to the depot\n",
        "return_depot = m.addConstr(x.sum('*', 0) == x.sum(0, '*'), name='return_depot')\n",
        "\n",
        "# only one vehicle on edge (i, j) for every (i, j)\n",
        "enter_node = m.addConstrs((x.sum('*', j) == 1 for j in range(1, n)), name='enter_node')\n",
        "leave_node = m.addConstrs((x.sum(i, '*') == 1 for i in range(1, n)), name='leave_node')"
      ],
      "metadata": {
        "id": "t5HVliKcGj1r"
      },
      "execution_count": null,
      "outputs": []
    },
    {
      "cell_type": "markdown",
      "source": [
        "### Objective function"
      ],
      "metadata": {
        "id": "Syw9MqoFGj1s"
      }
    },
    {
      "cell_type": "code",
      "source": [
        "# Objective: minimize total cost of all assignments\n",
        "m.setObjective(x.prod(costs), GRB.MINIMIZE)"
      ],
      "metadata": {
        "id": "IJYzNFr1Gj1t"
      },
      "execution_count": null,
      "outputs": []
    },
    {
      "cell_type": "markdown",
      "source": [
        "### Optimize"
      ],
      "metadata": {
        "id": "d5uJU4iyGj1u"
      }
    },
    {
      "cell_type": "code",
      "source": [
        "# Save model for inspection\n",
        "m.write('VRP.lp')"
      ],
      "metadata": {
        "id": "48Kf22THGj1u"
      },
      "execution_count": null,
      "outputs": []
    },
    {
      "cell_type": "code",
      "source": [
        "# Run optimization engine\n",
        "m.optimize()"
      ],
      "metadata": {
        "colab": {
          "base_uri": "https://localhost:8080/"
        },
        "outputId": "2e28b70b-db2e-4d05-8499-1f5fb5a35594",
        "id": "9MPj6LouGj1v"
      },
      "execution_count": null,
      "outputs": [
        {
          "output_type": "stream",
          "name": "stdout",
          "text": [
            "Gurobi Optimizer version 10.0.2 build v10.0.2rc0 (linux64)\n",
            "\n",
            "CPU model: Intel(R) Xeon(R) CPU @ 2.20GHz, instruction set [SSE2|AVX|AVX2]\n",
            "Thread count: 1 physical cores, 2 logical processors, using up to 2 threads\n",
            "\n",
            "Optimize a model with 20 rows, 90 columns and 189 nonzeros\n",
            "Model fingerprint: 0x878dac30\n",
            "Variable types: 0 continuous, 90 integer (90 binary)\n",
            "Coefficient statistics:\n",
            "  Matrix range     [1e+00, 1e+00]\n",
            "  Objective range  [1e+00, 2e+01]\n",
            "  Bounds range     [1e+00, 1e+00]\n",
            "  RHS range        [1e+00, 3e+00]\n",
            "Found heuristic solution: objective 74.0000000\n",
            "Presolve time: 0.00s\n",
            "Presolved: 20 rows, 90 columns, 189 nonzeros\n",
            "Variable types: 0 continuous, 90 integer (90 binary)\n",
            "\n",
            "Root relaxation: objective 2.500000e+01, 15 iterations, 0.00 seconds (0.00 work units)\n",
            "\n",
            "    Nodes    |    Current Node    |     Objective Bounds      |     Work\n",
            " Expl Unexpl |  Obj  Depth IntInf | Incumbent    BestBd   Gap | It/Node Time\n",
            "\n",
            "*    0     0               0      25.0000000   25.00000  0.00%     -    0s\n",
            "\n",
            "Explored 1 nodes (15 simplex iterations) in 0.03 seconds (0.00 work units)\n",
            "Thread count was 2 (of 2 available processors)\n",
            "\n",
            "Solution count 2: 25 74 \n",
            "\n",
            "Optimal solution found (tolerance 1.00e-04)\n",
            "Best objective 2.500000000000e+01, best bound 2.500000000000e+01, gap 0.0000%\n"
          ]
        }
      ]
    },
    {
      "cell_type": "markdown",
      "source": [
        "### Routes"
      ],
      "metadata": {
        "id": "dJugvTa0Gj1w"
      }
    },
    {
      "cell_type": "code",
      "source": [
        "# get non zero decision variables\n",
        "routes = []\n",
        "for v in m.getVars():\n",
        "  if v.x > 1e-6:\n",
        "    nodes_indices = re.findall(r'\\d+', v.varName)\n",
        "    routes.append((int(nodes_indices[0]), int(nodes_indices[1])))\n",
        "\n",
        "# get starting points of the routes\n",
        "# i.e. the points visited right after leaving the depot\n",
        "starting_nodes = []\n",
        "for t in routes:\n",
        "  if t[0]==0:\n",
        "    starting_nodes.append(t[1])\n",
        "\n",
        "# starting from the previous starting points,\n",
        "# just follow the routes\n",
        "for node in starting_nodes:\n",
        "  print(0, ' -> ', end='')\n",
        "  while node!=0:\n",
        "    print(node, ' -> ', end='')\n",
        "    node = [t[1] for t in routes if t[0]==node][0]\n",
        "  print(0)"
      ],
      "metadata": {
        "colab": {
          "base_uri": "https://localhost:8080/"
        },
        "outputId": "0255cd17-2cd7-4bda-c19f-68e989570aa6",
        "id": "UgBk4PdeGj1x"
      },
      "execution_count": null,
      "outputs": [
        {
          "output_type": "stream",
          "name": "stdout",
          "text": [
            "0  -> 3  -> 4  -> 7  -> 2  -> 9  -> 1  -> 5  -> 8  -> 6  -> 0\n"
          ]
        }
      ]
    }
  ]
}